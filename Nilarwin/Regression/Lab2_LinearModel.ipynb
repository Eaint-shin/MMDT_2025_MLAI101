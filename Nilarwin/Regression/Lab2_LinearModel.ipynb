{
 "cells": [
  {
   "cell_type": "code",
   "execution_count": 30,
   "metadata": {},
   "outputs": [
    {
     "name": "stdout",
     "output_type": "stream",
     "text": [
      "(140, 3) (60, 3)\n"
     ]
    }
   ],
   "source": [
    "import pandas as pd\n",
    "from sklearn.model_selection import train_test_split\n",
    "# Load the CSV file into a DataFrame\n",
    "df=pd.read_csv('data\\\\Advertising.csv')\n",
    "# Features (inputs)\n",
    "X=df[['TV', 'radio', 'newspaper']].values\n",
    "# Target (output)\n",
    "y=df['sales'].values\n",
    "# Split into 70% train, 30% test\n",
    "#train_test_split => split dataset into training and testing subsets.\n",
    "#test_size => Uses 30% of the data for testing\n",
    "#random_state =>  Seed for random number generator. Ensures reproducibility (same split every time)\n",
    "X_train, X_test, y_train, y_test = train_test_split(X,y, \n",
    "                                    test_size = 0.3, random_state=42)\n",
    "#print(\"X_train: \", X_train) \n",
    "# print(\"X_test: \", X_test)\n",
    "# print(\"y_train: \", y_train)\n",
    "# print(\"y_test: \", y_test)\n",
    "#.shape is a tuple that shows (number_of_rows, number_of_columns)\n",
    "#X_train.shape => how many samples and features are in the training set\n",
    "#X_test.shape => how many samples and features are in the test set\n",
    "print(X_train.shape, X_test.shape)\n"
   ]
  },
  {
   "cell_type": "code",
   "execution_count": null,
   "metadata": {},
   "outputs": [
    {
     "data": {
      "text/html": [
       "<div>\n",
       "<style scoped>\n",
       "    .dataframe tbody tr th:only-of-type {\n",
       "        vertical-align: middle;\n",
       "    }\n",
       "\n",
       "    .dataframe tbody tr th {\n",
       "        vertical-align: top;\n",
       "    }\n",
       "\n",
       "    .dataframe thead th {\n",
       "        text-align: right;\n",
       "    }\n",
       "</style>\n",
       "<table border=\"1\" class=\"dataframe\">\n",
       "  <thead>\n",
       "    <tr style=\"text-align: right;\">\n",
       "      <th></th>\n",
       "      <th>Unnamed: 0</th>\n",
       "      <th>TV</th>\n",
       "      <th>radio</th>\n",
       "      <th>newspaper</th>\n",
       "      <th>sales</th>\n",
       "    </tr>\n",
       "  </thead>\n",
       "  <tbody>\n",
       "    <tr>\n",
       "      <th>0</th>\n",
       "      <td>1</td>\n",
       "      <td>230.1</td>\n",
       "      <td>37.8</td>\n",
       "      <td>69.2</td>\n",
       "      <td>22.1</td>\n",
       "    </tr>\n",
       "    <tr>\n",
       "      <th>1</th>\n",
       "      <td>2</td>\n",
       "      <td>44.5</td>\n",
       "      <td>39.3</td>\n",
       "      <td>45.1</td>\n",
       "      <td>10.4</td>\n",
       "    </tr>\n",
       "    <tr>\n",
       "      <th>2</th>\n",
       "      <td>3</td>\n",
       "      <td>17.2</td>\n",
       "      <td>45.9</td>\n",
       "      <td>69.3</td>\n",
       "      <td>9.3</td>\n",
       "    </tr>\n",
       "    <tr>\n",
       "      <th>3</th>\n",
       "      <td>4</td>\n",
       "      <td>151.5</td>\n",
       "      <td>41.3</td>\n",
       "      <td>58.5</td>\n",
       "      <td>18.5</td>\n",
       "    </tr>\n",
       "    <tr>\n",
       "      <th>4</th>\n",
       "      <td>5</td>\n",
       "      <td>180.8</td>\n",
       "      <td>10.8</td>\n",
       "      <td>58.4</td>\n",
       "      <td>12.9</td>\n",
       "    </tr>\n",
       "  </tbody>\n",
       "</table>\n",
       "</div>"
      ],
      "text/plain": [
       "   Unnamed: 0     TV  radio  newspaper  sales\n",
       "0           1  230.1   37.8       69.2   22.1\n",
       "1           2   44.5   39.3       45.1   10.4\n",
       "2           3   17.2   45.9       69.3    9.3\n",
       "3           4  151.5   41.3       58.5   18.5\n",
       "4           5  180.8   10.8       58.4   12.9"
      ]
     },
     "execution_count": 31,
     "metadata": {},
     "output_type": "execute_result"
    }
   ],
   "source": [
    "## feature scaling \n",
    "from sklearn.preprocessing import StandardScaler\n",
    "#StandardScaler standardizes your features by removing the mean and scaling to unit variance.\n",
    "scale = StandardScaler()\n",
    "#fit(X_train) => calculates the mean and standard deviation of each feature in your training data.\n",
    "#transform(X_train) => standardizes each feature: Xscaled = X - mean / std\n",
    "X_scaled = scale.fit_transform(X_train)\n",
    "#print(X_scaled)\n",
    "#Shows the first 5 rows of the original df DataFrame.\n",
    "df.head()"
   ]
  },
  {
   "cell_type": "code",
   "execution_count": 49,
   "metadata": {},
   "outputs": [
    {
     "name": "stdout",
     "output_type": "stream",
     "text": [
      "[0.04405928 0.1992875  0.00688245] 2.7089490925159048\n",
      "TV: 0.0441\n",
      "radio: 0.1993\n",
      "newspaper: 0.0069\n"
     ]
    }
   ],
   "source": [
    "## linear regression model \n",
    "from sklearn.linear_model import LinearRegression\n",
    "#Creates a Linear Regression model object\n",
    "lr = LinearRegression()\n",
    "#Trains (or \"fits\") the model using your standardized features (X_scaled) and target values (y_train)\n",
    "#lr.fit(X_scaled, y_train)\n",
    "#Use original (unscaled) data\n",
    "lr.fit(X_train, y_train)\n",
    "\n",
    "print(lr.coef_, lr.intercept_)\n",
    "# Now you can access real, interpretable coefficients\n",
    "#print(dict(zip(X.columns, lr.coef_)))\n",
    "# print(lr.coef_)\n",
    "# print(lr.intercept_)\n",
    "feature_names = ['TV', 'radio', 'newspaper']\n",
    "for name, coef in zip(feature_names, lr.coef_):\n",
    "    print(f\"{name}: {coef:.4f}\")\n",
    "\n",
    "#These coefficients show how much the sales will change when each ad channel increases by 1 unit, assuming all else stays the same.\n",
    "#The coefficient for Newspaper is much smaller compared to TV and Radio.\n",
    "#This means that increasing newspaper advertising by 1 unit only results in a very small change in sales, while TV and especially Radio have a stronger effect.\n",
    "#In linear regression, the magnitude of the coefficient represents the impact of that feature.\n",
    "#Since Newspaper has the smallest coefficient, it contributes the least to predicted sales.\n",
    "#So, if a company wants to reduce budget with the least effect on sales, newspaper ads are the first candidate to cut."
   ]
  },
  {
   "cell_type": "code",
   "execution_count": 50,
   "metadata": {},
   "outputs": [
    {
     "name": "stdout",
     "output_type": "stream",
     "text": [
      "Test Data\n",
      "Mean absolute error:  10.234241889655182\n",
      "Mean squared error:  130.63774070198002\n",
      "R2 score is:  -3.7844575943797043\n"
     ]
    }
   ],
   "source": [
    "from sklearn.metrics import mean_absolute_error\n",
    "from sklearn.metrics import mean_squared_error\n",
    "from sklearn.metrics import r2_score\n",
    "#apply the same transformation used on the training data to the test set.\n",
    "X_test_scaled = scale.transform(X_test)\n",
    "#predict sales based on the scaled test data\n",
    "ytest_pred = lr.predict(X_test_scaled)\n",
    "print(\"Test Data\")\n",
    "#average absolute difference between predicted and actual values (MAE)\n",
    "#how many units off are your predictions from the true values?\n",
    "#Lower is better\n",
    "mae = mean_absolute_error(y_test, ytest_pred)\n",
    "print('Mean absolute error: ', mae)\n",
    "\n",
    "#average squared difference between predicted and actual values (MSE)\n",
    "#Punishes large errors more heavily than MAE (because of squaring).\n",
    "#Lower is better\n",
    "mse = mean_squared_error(y_test, ytest_pred)\n",
    "print('Mean squared error: ', mse)\n",
    "\n",
    "#how well your model explains the variance in the target variable (R2)\n",
    "#Ranges from 0 to 1 (or even negative if model performs worse than a horizontal line):\n",
    "    # 1.0 → perfect prediction\n",
    "    # 0.0 → model does no better than the mean\n",
    "    # < 0 → model is worse than just predicting the average\n",
    "# Higher is better (closer to 1)\n",
    "r2 = r2_score(y_test, ytest_pred)\n",
    "print('R2 score is: ', r2)\n",
    "\n"
   ]
  },
  {
   "cell_type": "code",
   "execution_count": 45,
   "metadata": {},
   "outputs": [
    {
     "name": "stdout",
     "output_type": "stream",
     "text": [
      "Train Data\n",
      "Mean absolute error:  1.1581502948072526\n",
      "Mean squared error:  2.4793551789057866\n",
      "R2 score is:  0.9055159502227753\n"
     ]
    }
   ],
   "source": [
    "# linear regression model performed on the training data (X_train, y_train) instead of the test set\n",
    "ytrain_pred = lr.predict(X_scaled)\n",
    "print(\"Train Data\")\n",
    "#Tells you on average, how far off your predictions are from the actual training values.\n",
    "#Example: If mae = 0.8, your model’s predictions are off by 0.8 sales units on average in the training set.\n",
    "mae = mean_absolute_error(y_train, ytrain_pred)\n",
    "print('Mean absolute error: ', mae)\n",
    "\n",
    "#Similar to MAE, but squares the errors before averaging.\n",
    "#Larger mistakes are penalized more heavily (as explained earlier).\n",
    "mse = mean_squared_error(y_train, ytrain_pred)\n",
    "print('Mean squared error: ', mse)\n",
    "\n",
    "# Measures how much of the variance in the actual sales your model is able to explain.\n",
    "# If r2 = 0.95, it means 95% of the variation in sales is explained by the model on the training data.\n",
    "# r2 = 1.0 is perfect.\n",
    "# r2 = 0 means the model performs as badly as just guessing the average.\n",
    "r2 = r2_score(y_train, ytrain_pred)\n",
    "print('R2 score is: ', r2)\n",
    "\n"
   ]
  },
  {
   "cell_type": "code",
   "execution_count": 51,
   "metadata": {},
   "outputs": [
    {
     "name": "stdout",
     "output_type": "stream",
     "text": [
      "Train R2: 0.9055159502227753\n",
      "Test R2: -3.7844575943797043\n"
     ]
    }
   ],
   "source": [
    "#How well the model fits the data it was trained on.\n",
    "#Whether it's overfitting (i.e., doing great on training but poor on testing).\n",
    "print(\"Train R2:\", r2_score(y_train, ytrain_pred))\n",
    "print(\"Test R2:\", r2_score(y_test, ytest_pred))\n"
   ]
  },
  {
   "cell_type": "code",
   "execution_count": 20,
   "metadata": {},
   "outputs": [],
   "source": [
    "# import matplotlib.pyplot as plt\n",
    "# plt.scatter(y_test, ytest_pred)\n",
    "# plt.plot([y_test.min(), y_test.max()], [y_test.min(), y_test.max()], 'r--')  # ideal line\n",
    "# plt.xlabel(\"Actual Sales\")\n",
    "# plt.ylabel(\"Predicted Sales\")\n",
    "# plt.title(\"Predicted vs Actual Sales\")\n",
    "# plt.show()"
   ]
  },
  {
   "cell_type": "code",
   "execution_count": 19,
   "metadata": {},
   "outputs": [],
   "source": [
    "# residuals = y_test - ytest_pred\n",
    "\n",
    "# plt.scatter(ytest_pred, residuals)\n",
    "# plt.axhline(0, color='red', linestyle='--')\n",
    "# plt.xlabel(\"Predicted Sales\")\n",
    "# plt.ylabel(\"Residuals\")\n",
    "# plt.title(\"Residuals vs Predicted Values\")\n",
    "# plt.show()"
   ]
  },
  {
   "cell_type": "code",
   "execution_count": 52,
   "metadata": {},
   "outputs": [
    {
     "data": {
      "image/png": "[encoded data removed]",
      "text/plain": [
       "<Figure size 640x480 with 1 Axes>"
      ]
     },
     "metadata": {},
     "output_type": "display_data"
    }
   ],
   "source": [
    "#coefficient bar plot\n",
    "import pandas as pd\n",
    "import seaborn as sns\n",
    "\n",
    "feature_names = ['TV', 'radio', 'newspaper']\n",
    "coefs = lr.coef_\n",
    "\n",
    "coef_df = pd.DataFrame({'Feature': feature_names, 'Coefficient': coefs})\n",
    "sns.barplot(x='Feature', y='Coefficient', data=coef_df)\n",
    "plt.title(\"Feature Impact on Sales\")\n",
    "plt.show()"
   ]
  },
  {
   "cell_type": "code",
   "execution_count": 11,
   "metadata": {},
   "outputs": [],
   "source": [
    "# Use original (unscaled) data\n",
    "# X_train, X_test, y_train, y_test = train_test_split(X, y, test_size=0.3, random_state=42)\n",
    "\n",
    "# # No scaling here!\n",
    "# lr = LinearRegression()\n",
    "# lr.fit(X_train, y_train)\n",
    "\n",
    "# # Now coefficients directly tell you: 1 unit of TV = X change in sales\n",
    "# print(dict(zip(['TV', 'radio', 'newspaper'], lr.coef_)))\n",
    "#print(dict(zip(X.columns, lr.coef_)))\n",
    "\n",
    "# X = df[['TV', 'radio', 'newspaper']]\n",
    "# y = df['sales']\n",
    "\n",
    "# X_train, X_test, y_train, y_test = train_test_split(X, y, test_size=0.3, random_state=42)\n",
    "\n",
    "# lr = LinearRegression()\n",
    "# lr.fit(X_train, y_train)\n",
    "\n",
    "# # Now you can access real, interpretable coefficients\n",
    "# print(dict(zip(X.columns, lr.coef_)))"
   ]
  },
  {
   "cell_type": "code",
   "execution_count": 53,
   "metadata": {},
   "outputs": [
    {
     "data": {
      "image/png": "[encoded data removed]",
      "text/plain": [
       "<Figure size 600x400 with 1 Axes>"
      ]
     },
     "metadata": {},
     "output_type": "display_data"
    }
   ],
   "source": [
    "#Visualization\n",
    "import pandas as pd\n",
    "import matplotlib.pyplot as plt\n",
    "import seaborn as sns\n",
    "from sklearn.linear_model import LinearRegression\n",
    "from sklearn.model_selection import train_test_split\n",
    "\n",
    "# # Load and prepare data\n",
    "df = pd.read_csv('data/Advertising.csv')\n",
    "X = df[['TV', 'radio', 'newspaper']]\n",
    "y = df['sales']\n",
    "\n",
    "# # Train model without scaling\n",
    "# X_train, X_test, y_train, y_test = train_test_split(X, y, test_size=0.3, random_state=42)\n",
    "# lr = LinearRegression()\n",
    "# lr.fit(X_train, y_train)\n",
    "\n",
    "# # Get coefficients\n",
    "# coefs = pd.DataFrame({\n",
    "#     'Feature': X.columns,\n",
    "#     'Coefficient': lr.coef_\n",
    "# })\n",
    "\n",
    "# # Predict for visualization\n",
    "# y_pred = lr.predict(X_test)\n",
    "\n",
    "# # 1. Coefficient bar plot\n",
    "# plt.figure(figsize=(6, 4))\n",
    "# sns.barplot(x='Feature', y='Coefficient', data=coefs)\n",
    "# plt.title('Impact of Each Advertising Channel on Sales')\n",
    "# plt.ylabel('Coefficient Value')\n",
    "# plt.xlabel('Advertising Channel')\n",
    "# plt.tight_layout()\n",
    "# plt.show()\n",
    "\n",
    "# 2. TV vs Sales regression plot\n",
    "plt.figure(figsize=(6, 4))\n",
    "sns.regplot(x='TV', y='sales', data=df)\n",
    "plt.title('Relationship Between TV Advertising and Sales')\n",
    "plt.xlabel('TV Advertising Spend ($)')\n",
    "plt.ylabel('Sales')\n",
    "plt.tight_layout()\n",
    "plt.show()\n",
    "\n",
    "# # 3. Predicted vs Actual Sales plot\n",
    "# plt.figure(figsize=(6, 4))\n",
    "# sns.scatterplot(x=y_test, y=y_pred)\n",
    "# plt.plot([y.min(), y.max()], [y.min(), y.max()], 'r--')\n",
    "# plt.title('Predicted vs Actual Sales')\n",
    "# plt.xlabel('Actual Sales')\n",
    "# plt.ylabel('Predicted Sales')\n",
    "# plt.tight_layout()\n",
    "# plt.show()\n",
    "\n",
    "# # 4. Print interpretation\n",
    "# print(\"Interpretation:\")\n",
    "# print(f\"TV Coefficient: {lr.coef_[0]:.4f}\")\n",
    "# print(\"→ For every $1 increase in TV advertising, sales increase by {:.4f} units.\".format(lr.coef_[0]))"
   ]
  },
  {
   "cell_type": "code",
   "execution_count": 42,
   "metadata": {},
   "outputs": [],
   "source": [
    "# import matplotlib.pyplot as plt\n",
    "# import seaborn as sns\n",
    "\n",
    "# # Partial plot - TV vs Sales, controlling for Radio and Newspaper\n",
    "# sns.regplot(x=df['TV'], y=model.resid + model.fittedvalues, line_kws={\"color\":\"red\"})\n",
    "# plt.xlabel('TV Advertising Spend ($)')\n",
    "# plt.ylabel('Predicted Sales')\n",
    "# plt.title('Effect of TV Ads on Sales (controlling for other media)')\n",
    "# plt.show()"
   ]
  },
  {
   "cell_type": "code",
   "execution_count": null,
   "metadata": {},
   "outputs": [],
   "source": []
  }
 ],
 "metadata": {
  "kernelspec": {
   "display_name": "Python 3",
   "language": "python",
   "name": "python3"
  },
  "language_info": {
   "codemirror_mode": {
    "name": "ipython",
    "version": 3
   },
   "file_extension": ".py",
   "mimetype": "text/x-python",
   "name": "python",
   "nbconvert_exporter": "python",
   "pygments_lexer": "ipython3",
   "version": "3.13.4"
  },
  "orig_nbformat": 4
 },
 "nbformat": 4,
 "nbformat_minor": 2
}
