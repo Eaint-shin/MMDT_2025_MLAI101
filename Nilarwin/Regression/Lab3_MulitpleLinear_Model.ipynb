{
 "cells": [
  {
   "cell_type": "code",
   "execution_count": 2,
   "metadata": {},
   "outputs": [],
   "source": [
    "import pandas as pd\n",
    "\n",
    "df=pd.read_csv('data/house_data_fs.csv', index_col = 0)\n",
    "#Removes any rows from the DataFrame that contain missing values (NaN).\n",
    "df = df.dropna()\n",
    "#two or more input features for multiple linear regression\n",
    "#input features\n",
    "#.values converts the selected DataFrame columns into a NumPy array (which is often required by machine learning libraries)\n",
    "X = df[['bedrooms', 'sqft_living']].values\n",
    "# target/output variable, trying to predict\n",
    "Y = df['price'].values"
   ]
  },
  {
   "cell_type": "code",
   "execution_count": 3,
   "metadata": {},
   "outputs": [],
   "source": [
    "from sklearn.preprocessing import StandardScaler\n",
    "\n",
    "scaler = StandardScaler()\n",
    "#fit(X) calculates the mean and standard deviation of each feature (i.e., each column) in X.\n",
    "#transform(X) then uses those statistics to standardize the features:\n",
    "#fit(X_train) => calculates the mean and standard deviation of each feature in your training data.\n",
    "#transform(X_train) => standardizes each feature: Xscaled = X - mean / std\n",
    "X_scaled = scaler.fit_transform(X)"
   ]
  },
  {
   "cell_type": "code",
   "execution_count": 4,
   "metadata": {},
   "outputs": [
    {
     "name": "stdout",
     "output_type": "stream",
     "text": [
      "[-53567.44561984 288667.55112691] 540166.7341666666\n",
      "Prediction with test data : [235932.46722026]\n"
     ]
    }
   ],
   "source": [
    "from sklearn.linear_model import LinearRegression\n",
    "\n",
    "lr = LinearRegression()\n",
    "#Trains (or \"fits\") the model using your standardized features (X_scaled) and target values (y_train) using scaled data\n",
    "#Trains the model using:\n",
    "#X_scaled: standardized input features (bedrooms, sqft_living)\n",
    "#Y: target values (house prices)\n",
    "lr.fit(X_scaled, Y)\n",
    "# Prints the coefficients and intercept of the trained model:\n",
    "# lr.coef_: array of weights for each input feature\n",
    "# lr.intercept_: the base predicted value when all inputs are zero\n",
    "print(lr.coef_, lr.intercept_)\n",
    "# This is test input: a house with: 2 bedrooms 860 sqft of living area\n",
    "X_test = [[2, 860]]\n",
    "#the model expects standardized input, not raw data.\n",
    "# Uses the same scaler that was fit on training data to standardize the test input.\n",
    "# This ensures your model sees the test data on the same scale as it was trained on.\n",
    "X_test_scaled = scaler.transform(X_test)\n",
    "#Uses the trained model to predict the price for the test house with scaled input.\n",
    "yp=lr.predict(X_test_scaled)\n",
    "#Displays the predicted house price based on: 2 bedrooms 860 sqft of living space\n",
    "print(\"Prediction with test data :\",yp)\n",
    "\n",
    "# +1 unit (raw) sqft: 860 → 861\n",
    "#yp_plus_1sqft = lr.predict(scaler.transform([[2, 861]])) \n",
    "#print(\"Effect of 1 sqft (raw):\", yp_plus_1sqft - yp)\n",
    "\n",
    "# +1 std increase in sqft\n",
    "# yp_plus_1std = lr.predict(scaler.transform([[2, 860 + scaler.scale_[1]]])) \n",
    "# print(\"Effect of +1 std in sqft:\", yp_plus_1std - yp)\n",
    "\n",
    "# # +1 unit (raw) bedrooms: 2 → 3\n",
    "# # yp_plus_1bedroom = lr.predict(scaler.transform([[3, 860]])) \n",
    "# # print(\"Effect of +1 bedroom (raw):\", yp - yp_plus_1bedroom)\n",
    "\n",
    "# # +1 std increase in bedrooms\n",
    "# yp_plus_1stdBed = lr.predict(scaler.transform([[2+scaler.scale_[0], 860]])) \n",
    "# print(\"Effect of +1 std in bedrooms:\", yp_plus_1stdBed - yp)\n",
    "\n",
    "\n",
    "# print(\"predict when increase 1stdBed \",yp_plus_1stdBed)\n",
    "# print(\"1std sqft increase \", 860 + scaler.scale_[1])\n",
    "# print(\"1std bedroom increase \", 2 + scaler.scale_[0])\n"
   ]
  },
  {
   "cell_type": "code",
   "execution_count": 5,
   "metadata": {},
   "outputs": [
    {
     "name": "stdout",
     "output_type": "stream",
     "text": [
      "Average price: 303760.2105263158\n",
      "Predicted price using test input data:  235932.46722026315\n"
     ]
    }
   ],
   "source": [
    "#the subset of real houses in the dataset that exactly match your test house (2 bedrooms and 860 sqft).\n",
    "df1=df[(df['bedrooms'] == 2) & (df['sqft_living'] == 860)]\n",
    "# print(\"df1  \",df1)\n",
    "# print(\"df1  count\",df1.size)\n",
    "# Calculates the average sale price of those matching houses — \n",
    "# i.e., the real-world average price of all houses in the dataset with those same features.\n",
    "df1_avg = df1['price'].mean()\n",
    "#Is the model's prediction close to what similar houses actually sold for?\n",
    "print(\"Average price:\", df1_avg)\n",
    "print(\"Predicted price using test input data: \",yp[0])\n",
    "#the model is performing well — it's close to actual market data\n",
    " "
   ]
  },
  {
   "cell_type": "code",
   "execution_count": 6,
   "metadata": {},
   "outputs": [
    {
     "name": "stdout",
     "output_type": "stream",
     "text": [
      "r2-score: 0.5068463227480232 \n",
      "mean squared error: 66465040515.6965 \n",
      "mean absolute error: 170271.09681228662\n"
     ]
    }
   ],
   "source": [
    "from sklearn.metrics import r2_score\n",
    "from sklearn.metrics import mean_absolute_error\n",
    "from sklearn.metrics import mean_squared_error\n",
    "#Predicts the house prices (Y_pred) using the trained model (lr) on the same training data (X_scaled)\n",
    "Y_pred = lr.predict(X_scaled)\n",
    "# R² score (coefficient of determination):\n",
    "# Measures how well the model explains the variance in the actual target Y.\n",
    "# Range:\n",
    "# 1.0 → perfect prediction\n",
    "# 0.0 → model predicts the mean of Y\n",
    "# Negative → worse than just predicting the mean\n",
    "# Example:\n",
    "# r2_score = 0.85 → 85% of the variation in house prices is explained by the model.\n",
    "rscore = r2_score(Y, Y_pred)\n",
    "# Mean Squared Error:\n",
    "# Average of the squared differences between predicted and actual values on the same training data (X_scaled).\n",
    "# It punishes larger errors more due to squaring.\n",
    "# Lower = better.\n",
    "mse = mean_squared_error(Y, Y_pred) #MSE (useful for optimization)\n",
    "# Mean Absolute Error:\n",
    "# Average of the absolute differences between predicted and actual values on the same training data (X_scaled).\n",
    "# More interpretable (in real units, like dollars).\n",
    "# Less sensitive to outliers than MSE.\n",
    "mae = mean_absolute_error(Y, Y_pred)\n",
    "\n",
    "print('r2-score:', rscore, '\\nmean squared error:', mse, '\\nmean absolute error:', mae)"
   ]
  },
  {
   "cell_type": "code",
   "execution_count": null,
   "metadata": {},
   "outputs": [],
   "source": [
    "#1. What does 1 standard deviation increase mean?"
   ]
  },
  {
   "cell_type": "code",
   "execution_count": 21,
   "metadata": {},
   "outputs": [],
   "source": [
    "# from sklearn.model_selection import train_test_split\n",
    "# X_train, X_test, y_train, y_test = train_test_split(X,Y, \n",
    "#                                     test_size = 0.3, random_state=42)\n",
    "# ytrain_pred = lr.predict(X_scaled)\n",
    "# print(X_train.shape, X_test.shape)\n",
    "# X_test_scaleds = scaler.transform(X_test)\n",
    "# #Uses the trained model to predict the price for the test house with scaled input.\n",
    "# yp=lr.predict(X_test_scaleds)\n",
    "# print(f\"Shape of y_test: {y_test.shape}\")\n",
    "# print(f\"Shape of yp: {yp.shape}\")\n"
   ]
  },
  {
   "cell_type": "code",
   "execution_count": 22,
   "metadata": {},
   "outputs": [],
   "source": [
    "# import matplotlib.pyplot as plt\n",
    "# plt.scatter(y_test, yp)\n",
    "# plt.xlabel(\"Actual Price\")\n",
    "# plt.ylabel(\"Predicted Price\")\n",
    "# plt.title(\"Prediction Error\")"
   ]
  },
  {
   "cell_type": "code",
   "execution_count": 7,
   "metadata": {},
   "outputs": [],
   "source": [
    "#This tells you which features are most related to price.\n",
    "#Drop or ignore features with very low or 0 correlation.\n",
    "# df.corr()['price'].sort_values(ascending=False)"
   ]
  },
  {
   "cell_type": "code",
   "execution_count": null,
   "metadata": {},
   "outputs": [],
   "source": [
    "#Handle Outliers\n",
    "# df.describe()"
   ]
  },
  {
   "cell_type": "code",
   "execution_count": null,
   "metadata": {},
   "outputs": [],
   "source": []
  }
 ],
 "metadata": {
  "kernelspec": {
   "display_name": "Python 3",
   "language": "python",
   "name": "python3"
  },
  "language_info": {
   "codemirror_mode": {
    "name": "ipython",
    "version": 3
   },
   "file_extension": ".py",
   "mimetype": "text/x-python",
   "name": "python",
   "nbconvert_exporter": "python",
   "pygments_lexer": "ipython3",
   "version": "3.13.4"
  },
  "orig_nbformat": 4
 },
 "nbformat": 4,
 "nbformat_minor": 2
}
