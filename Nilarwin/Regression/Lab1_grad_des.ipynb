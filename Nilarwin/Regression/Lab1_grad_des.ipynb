{
 "cells": [
  {
   "cell_type": "code",
   "execution_count": 5,
   "id": "84dd2f47-4d52-4fe5-81b1-6798ed2dcf0e",
   "metadata": {},
   "outputs": [
    {
     "data": {
      "text/plain": [
       "Index(['TV', 'radio', 'newspaper', 'sales'], dtype='object')"
      ]
     },
     "execution_count": 5,
     "metadata": {},
     "output_type": "execute_result"
    }
   ],
   "source": [
    "import pandas as pd\n",
    "import numpy as np\n",
    "import matplotlib.pyplot as plt\n",
    "import seaborn as sns\n",
    "import random\n",
    "import math\n",
    "#reads the CSV file\n",
    "df=pd.read_csv('data/Advertising.csv', index_col = 0)\n",
    "df.columns"
   ]
  },
  {
   "cell_type": "code",
   "execution_count": 6,
   "id": "40638276-e31c-41a7-a769-48359633d35f",
   "metadata": {},
   "outputs": [],
   "source": [
    "sel_program = 'radio'\n",
    "X=df[[sel_program]]\n",
    "Y=df['sales']\n",
    "#using Z-score normalization standardize Y\n",
    "Y=np.array((Y-Y.mean())/Y.std())\n",
    "#print(Y)\n",
    "#X = np.array((X-X.mean())/X.std())\n",
    "#using Z-score normalization standardize X with  pandas-friendly syntax\n",
    "X=X.apply(lambda rec:(rec-rec.mean())/rec.std(),axis=0)"
   ]
  },
  {
   "cell_type": "code",
   "execution_count": 7,
   "id": "f600d27a-7964-412e-bd36-3aeafa582b3f",
   "metadata": {},
   "outputs": [],
   "source": [
    "def initialize(dim):\n",
    "    #random float between 0.0 and 1.0\n",
    "    b=random.random()\n",
    "    #random floats in [0.0, 1.0) NumPy array of shape (dim,)\n",
    "    a=np.random.rand(dim)\n",
    "    #return tuple\n",
    "    return b,a"
   ]
  },
  {
   "cell_type": "code",
   "execution_count": 8,
   "id": "cdaa0f71-0fdc-4bfe-9239-657c200e2d35",
   "metadata": {},
   "outputs": [],
   "source": [
    "def predict_Y(b,a,X):\n",
    "    #b bias(intercept)\n",
    "    #a: weight vector (coefficients)\n",
    "    #X: input data (1D or 2D array of features)\n",
    "    #return predict Y values\n",
    "    return b + np.dot(X,a)"
   ]
  },
  {
   "cell_type": "code",
   "execution_count": 9,
   "id": "51e800ff-8b1e-4c61-9d17-4486d2499102",
   "metadata": {},
   "outputs": [],
   "source": [
    "def get_cost(Y,Y_hat):\n",
    "    #Y Actual value\n",
    "    #Y_hat predicted value\n",
    "    Y_resd=Y-Y_hat #Residuals(errors)\n",
    "    #Sum of squared errors np.dot(Y_resd.T,Y_resd)\n",
    "    #Mean squared error len(Y)\n",
    "    return np.sum(np.dot(Y_resd.T,Y_resd))/len(Y)"
   ]
  },
  {
   "cell_type": "code",
   "execution_count": 10,
   "id": "745881b3-acdd-4ff8-971b-1f13dbb750ff",
   "metadata": {},
   "outputs": [],
   "source": [
    "def update_theta(x,y,y_hat,b_0,theta_o,learning_rate):\n",
    "    db=(np.sum(y_hat-y)*2)/len(y)\n",
    "    dw=(np.dot((y_hat-y),x)*2)/len(y)\n",
    "    b_1=b_0-learning_rate*db\n",
    "    theta_1=theta_o-learning_rate*dw\n",
    "    return b_1,theta_1"
   ]
  },
  {
   "cell_type": "code",
   "execution_count": null,
   "id": "a69da9b3-c076-4d7b-be46-ad4424a8b408",
   "metadata": {},
   "outputs": [
    {
     "name": "stdout",
     "output_type": "stream",
     "text": [
      "    iteration   value_b  value_weight      cost\n",
      "0         0.0  0.687967      0.475847  1.419782\n",
      "1         1.0  0.550374      0.495821  1.147952\n",
      "2         2.0  0.440299      0.511821  0.973971\n",
      "3         3.0  0.352239      0.524637  0.862618\n",
      "4         4.0  0.281791      0.534903  0.791348\n",
      "5         5.0  0.225433      0.543125  0.745733\n",
      "6         6.0  0.180347      0.549712  0.716538\n",
      "7         7.0  0.144277      0.554987  0.697852\n",
      "8         8.0  0.115422      0.559213  0.685892\n",
      "9         9.0  0.092337      0.562598  0.678238\n",
      "10       10.0  0.073870      0.565309  0.673339\n",
      "11       11.0  0.059096      0.567481  0.670203\n",
      "12       12.0  0.047277      0.569221  0.668196\n",
      "13       13.0  0.037821      0.570614  0.666912\n",
      "14       14.0  0.030257      0.571730  0.666089\n",
      "15       15.0  0.024206      0.572624  0.665563\n",
      "16       16.0  0.019365      0.573340  0.665227\n",
      "17       17.0  0.015492      0.573914  0.665011\n",
      "18       18.0  0.012393      0.574373  0.664873\n",
      "19       19.0  0.009915      0.574741  0.664785\n",
      "20       20.0  0.007932      0.575036  0.664728\n",
      "21       21.0  0.006345      0.575272  0.664692\n",
      "22       22.0  0.005076      0.575461  0.664669\n",
      "23       23.0  0.004061      0.575613  0.664654\n",
      "24       24.0  0.003249      0.575734  0.664645\n",
      "25       25.0  0.002599      0.575831  0.664638\n",
      "26       26.0  0.002079      0.575909  0.664635\n",
      "27       27.0  0.001663      0.575972  0.664632\n",
      "28       28.0  0.001331      0.576022  0.664631\n",
      "29       29.0  0.001065      0.576062  0.664630\n",
      "30       30.0  0.000852      0.576094  0.664629\n"
     ]
    }
   ],
   "source": [
    "def run_gradient_descent(X,Y,alpha,num_iterations):\n",
    "    #If the cost change is smaller than this, training stops early (convergence check).\n",
    "    tolerance = 1e-06\n",
    "    # Randomly initializes the bias b and weights θ.\n",
    "    b,theta=initialize(X.shape[1]) #Number of features (dimensions) → for how many weights to generate\n",
    "    \n",
    "    gd_iterations_df=pd.DataFrame(columns=['iteration','value_b', 'value_weight', 'cost'])\n",
    "    result_idx=0\n",
    "    prev_cost =0 \n",
    "    #Runs up to num_iterations, or stops early if the cost stops improving significantly\n",
    "    for iter_num in range(num_iterations):\n",
    "        #Predict with current parameters\n",
    "        Y_hat=predict_Y(b,theta,X)\n",
    "        #Compute the cost (error)\n",
    "        this_cost=get_cost(Y,Y_hat)\n",
    "        #Save current values\n",
    "        prev_b=b\n",
    "        prev_theta=theta\n",
    "        #Update weights and bias using gradient descent\n",
    "        b,theta=update_theta(X,Y,Y_hat,prev_b,prev_theta,alpha)\n",
    "        #Store this step’s data\n",
    "        gd_iterations_df.loc[result_idx]=[iter_num,b, theta[0], this_cost]\n",
    "        result_idx=result_idx+1  \n",
    "        #Early stopping \n",
    "        if (np.abs(this_cost  - prev_cost )<= tolerance):\n",
    "            break\n",
    "        #Update previous cost\n",
    "        prev_cost = this_cost\n",
    "    return gd_iterations_df,b,theta\n",
    "\n",
    "#Tune Learning Rate A higher value may converge faster, while a lower value might give better precision. \n",
    "# 0.001, 0.01, 0.05, 0.1    \n",
    "# Increase num_iterations\n",
    "# if your loss is still improving, increasing this can help:  \n",
    "# monitor the cost column — if it's still decreasing, you haven't hit the best point yet\n",
    "#gd_iterations_df,b,theta=run_gradient_descent(X,Y,alpha=0.001,num_iterations=40000)\n",
    "#gd_iterations_df,b,theta=run_gradient_descent(X,Y,alpha=0.000001,num_iterations=400)\n",
    "gd_iterations_df,b,theta=run_gradient_descent(X,Y,alpha=0.1,num_iterations=400)\n",
    "\n",
    "print(gd_iterations_df)"
   ]
  },
  {
   "cell_type": "code",
   "execution_count": 31,
   "id": "095c1e69-3f88-4216-93b1-937c2f660ec8",
   "metadata": {},
   "outputs": [],
   "source": [
    "#sns.scatterplot(data=gd_iterations_df, x=\"value_weight\", y=\"cost\")"
   ]
  },
  {
   "cell_type": "code",
   "execution_count": 50,
   "id": "9de3d8f6-9405-435b-abbe-c358554c70a4",
   "metadata": {},
   "outputs": [
    {
     "name": "stdout",
     "output_type": "stream",
     "text": [
      "30\n",
      "value_b         0.000902\n",
      "value_weight    0.576211\n",
      "cost            0.664629\n",
      "Name: 30, dtype: float64\n"
     ]
    },
    {
     "data": {
      "text/plain": [
       "np.float64(0.5762108531306419)"
      ]
     },
     "execution_count": 50,
     "metadata": {},
     "output_type": "execute_result"
    }
   ],
   "source": [
    "#Finds the index (iteration) where the cost is lowest (i.e., best fit)\n",
    "idx = gd_iterations_df['cost'].argmin() #argmin() returns the index of the minimum value in the cost column.\n",
    "print(idx)\n",
    "#Uses that idx to get the values of bias (value_b) and weight (value_weight) at that best iteration\n",
    "best_parameters = gd_iterations_df.loc[idx, ['value_b', 'value_weight', 'cost']] #loc[idx, ...] accesses the row at that iteration index.\n",
    "print(best_parameters)\n",
    "best_parameters['value_weight']\n"
   ]
  },
  {
   "cell_type": "code",
   "execution_count": 46,
   "id": "deb46d54-f209-4117-a407-7df5128810d6",
   "metadata": {},
   "outputs": [],
   "source": [
    "#This x will be used to make predictions.\n",
    "x = df[sel_program]\n",
    "#initial model line (likely a poor fit)\n",
    "y_ini = gd_iterations_df.loc[0, 'value_b'] + gd_iterations_df.loc[0, 'value_weight']*x\n",
    "#best learned line (should fit the data well)\n",
    "y_hat = gd_iterations_df.loc[idx, 'value_b'] + gd_iterations_df.loc[idx, 'value_weight']*x"
   ]
  },
  {
   "cell_type": "code",
   "execution_count": 55,
   "id": "66921f55",
   "metadata": {},
   "outputs": [
    {
     "name": "stdout",
     "output_type": "stream",
     "text": [
      "radio 0.6362600082193312 0.6646284487196857\n"
     ]
    },
    {
     "data": {
      "text/plain": [
       "np.int64(100)"
      ]
     },
     "execution_count": 55,
     "metadata": {},
     "output_type": "execute_result"
    }
   ],
   "source": [
    "import numpy as np\n",
    "#computes the predicted values from the best model: y^=b+θ⋅X\n",
    "y_p = gd_iterations_df.loc[idx, 'value_b'] + gd_iterations_df.loc[idx, 'value_weight']*X\n",
    "#calculates the Mean Absolute Error (MAE) average absolute difference\n",
    "error = np.sum(np.abs(Y- y_p[sel_program]))/len(Y)\n",
    "#print selected features, Mean Absolute Error (MAE), MSE (Mean Squared Error) average squared difference\n",
    "print(sel_program, error, get_cost(Y, y_p[sel_program]))\n",
    "#This tells you how many predictions are noticeably inaccurate.\n",
    "np.sum(((np.abs(Y- y_p[sel_program]))>0.5))\n"
   ]
  },
  {
   "cell_type": "code",
   "execution_count": 56,
   "id": "38865ca8-ed4b-4b9d-b26e-0703690ed024",
   "metadata": {},
   "outputs": [
    {
     "data": {
      "image/png": "[encoded data removed]",
      "text/plain": [
       "<Figure size 640x480 with 1 Axes>"
      ]
     },
     "metadata": {},
     "output_type": "display_data"
    }
   ],
   "source": [
    "sns.scatterplot(data=df, x=sel_program, y=\"sales\")\n",
    "plt.plot( x,  y_ini, 'k', x, y_hat, 'r')\n",
    "plt.legend(['training data', 'predicted_sales with initial parameters',\n",
    "            'predicted_sales with best parameters'])\n",
    "plt.show()"
   ]
  },
  {
   "cell_type": "code",
   "execution_count": null,
   "id": "1a37fab0",
   "metadata": {},
   "outputs": [],
   "source": []
  }
 ],
 "metadata": {
  "kernelspec": {
   "display_name": "Python 3",
   "language": "python",
   "name": "python3"
  },
  "language_info": {
   "codemirror_mode": {
    "name": "ipython",
    "version": 3
   },
   "file_extension": ".py",
   "mimetype": "text/x-python",
   "name": "python",
   "nbconvert_exporter": "python",
   "pygments_lexer": "ipython3",
   "version": "3.13.4"
  }
 },
 "nbformat": 4,
 "nbformat_minor": 5
}
