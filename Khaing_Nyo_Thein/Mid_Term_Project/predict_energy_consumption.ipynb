{
 "cells": [
  {
   "cell_type": "code",
   "execution_count": 1,
   "metadata": {},
   "outputs": [
    {
     "name": "stdout",
     "output_type": "stream",
     "text": [
      "Model, features, and scaler loaded successfully.\n",
      "Model expects features: ['square_footage', 'number_of_occupants', 'appliances_used', 'building_type_Industrial']\n"
     ]
    }
   ],
   "source": [
    "import pandas as pd\n",
    "import joblib\n",
    "import numpy as np\n",
    "\n",
    "try:\n",
    "    model = joblib.load('linear_regression_energy_model.pkl')\n",
    "    model_features = joblib.load('linear_model_features.pkl')\n",
    "    scaler = joblib.load('scaler.pkl') # Load the trained scaler\n",
    "    print(\"Model, features, and scaler loaded successfully.\")\n",
    "    print(f\"Model expects features: {model_features}\")\n",
    "except FileNotFoundError as e:\n",
    "    print(f\"Error loading files: {e}. Please ensure 'linear_regression_energy_model.pkl', 'linear_model_features.pkl', and 'scaler.pkl' are in the same directory.\")\n",
    "    print(\"Exiting. Please run the training script first to generate these files.\")\n",
    "    exit() "
   ]
  },
  {
   "cell_type": "code",
   "execution_count": 2,
   "metadata": {},
   "outputs": [],
   "source": [
    "def prepare_new_input(input_dict, model_features, scaler):\n",
    "    input_df = pd.DataFrame([input_dict])\n",
    "    processed_input = pd.DataFrame(0, index=[0], columns=model_features)\n",
    "\n",
    "    numerical_cols = ['square_footage', 'number_of_occupants', 'appliances_used', 'average_temperature']\n",
    "    for col in numerical_cols:\n",
    "        if col in input_df.columns:\n",
    "            processed_input[col] = input_df[col]\n",
    "\n",
    "    if 'building_type' in input_df.columns:\n",
    "        b_type = input_df['building_type'].iloc[0]\n",
    "        col_name = f'building_type_{b_type}'\n",
    "        if col_name in processed_input.columns:\n",
    "            processed_input[col_name] = 1\n",
    "\n",
    "    if 'day_of_week' in input_df.columns:\n",
    "        d_week = input_df['day_of_week'].iloc[0]\n",
    "        col_name = f'day_of_week_{d_week}'\n",
    "        if col_name in processed_input.columns:\n",
    "            processed_input[col_name] = 1\n",
    "\n",
    "    final_input_df = processed_input[model_features]\n",
    "    final_input_array = final_input_df.values\n",
    "    scaled_input = scaler.transform(final_input_array)\n",
    "\n",
    "    return scaled_input"
   ]
  },
  {
   "cell_type": "code",
   "execution_count": 3,
   "metadata": {},
   "outputs": [
    {
     "name": "stdout",
     "output_type": "stream",
     "text": [
      "\n",
      "--- Making Predictions ---\n",
      "Predicted Energy Consumption for Input 1 (Residential, Weekday): 2953.40\n",
      "Predicted Energy Consumption for Input 2 (Commercial, Weekday): 3635.80\n",
      "Predicted Energy Consumption for Input 3 (Industrial, Weekend): 4970.43\n",
      "Predicted Energy Consumption for Input 4 (Industrial, Weekend): 2226.98\n"
     ]
    }
   ],
   "source": [
    "new_building_data_1 = {\n",
    "    'square_footage': 7063,\n",
    "    'number_of_occupants': 76,\n",
    "    'appliances_used': 10,\n",
    "    'average_temperature': 29.84,\n",
    "    'building_type': 'Residential'\n",
    "}\n",
    "\n",
    "new_building_data_2 = {\n",
    "    'square_footage': 9578,\n",
    "    'number_of_occupants': 54,\n",
    "    'appliances_used': 47,\n",
    "    'average_temperature': 13.56,\n",
    "    'building_type': 'Commercial'\n",
    "}\n",
    "\n",
    "new_building_data_3 = {\n",
    "    'square_footage': 20920,\n",
    "    'number_of_occupants': 89,\n",
    "    'appliances_used': 31,\n",
    "    'average_temperature': 32.76,\n",
    "    'building_type': 'Industrial',\n",
    "\n",
    "}\n",
    "\n",
    "new_building_data_4 = {\n",
    "    'square_footage': 3000,\n",
    "    'number_of_occupants': 2,\n",
    "    'appliances_used': 20,\n",
    "    'average_temperature': 15.67,\n",
    "    'building_type': 'Commercial'\n",
    "    \n",
    "}\n",
    "\n",
    "print(\"\\n--- Making Predictions ---\")\n",
    "prepared_input_1 = prepare_new_input(new_building_data_1, model_features, scaler)\n",
    "predicted_energy_1 = model.predict(prepared_input_1)\n",
    "print(f\"Predicted Energy Consumption for Input 1 (Residential, Weekday): {predicted_energy_1[0]:.2f}\")\n",
    "\n",
    "prepared_input_2 = prepare_new_input(new_building_data_2, model_features, scaler)\n",
    "predicted_energy_2 = model.predict(prepared_input_2)\n",
    "print(f\"Predicted Energy Consumption for Input 2 (Commercial, Weekday): {predicted_energy_2[0]:.2f}\")\n",
    "\n",
    "prepared_input_3 = prepare_new_input(new_building_data_3, model_features, scaler)\n",
    "predicted_energy_3 = model.predict(prepared_input_3)\n",
    "print(f\"Predicted Energy Consumption for Input 3 (Industrial, Weekend): {predicted_energy_3[0]:.2f}\")\n",
    "\n",
    "prepared_input_4 = prepare_new_input(new_building_data_4, model_features, scaler)\n",
    "predicted_energy_4 = model.predict(prepared_input_4)\n",
    "print(f\"Predicted Energy Consumption for Input 4 (Industrial, Weekend): {predicted_energy_4[0]:.2f}\")"
   ]
  }
 ],
 "metadata": {
  "kernelspec": {
   "display_name": "Python 3",
   "language": "python",
   "name": "python3"
  },
  "language_info": {
   "codemirror_mode": {
    "name": "ipython",
    "version": 3
   },
   "file_extension": ".py",
   "mimetype": "text/x-python",
   "name": "python",
   "nbconvert_exporter": "python",
   "pygments_lexer": "ipython3",
   "version": "3.12.10"
  },
  "orig_nbformat": 4
 },
 "nbformat": 4,
 "nbformat_minor": 2
}
