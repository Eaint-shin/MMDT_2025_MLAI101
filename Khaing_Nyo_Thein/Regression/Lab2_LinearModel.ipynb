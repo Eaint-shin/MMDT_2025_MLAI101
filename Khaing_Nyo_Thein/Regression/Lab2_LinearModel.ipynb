{
 "cells": [
  {
   "cell_type": "code",
   "execution_count": null,
   "metadata": {},
   "outputs": [],
   "source": [
    "import pandas as pd\n",
    "from sklearn.model_selection import train_test_split\n",
    "\n",
    "df=pd.read_csv('..\\\\data\\\\Advertising.csv')\n",
    "\n",
    "X=df[['TV', 'radio', 'newspaper']].values\n",
    "y=df['sales'].values\n",
    "\n",
    "X_train, X_test, y_train, y_test = train_test_split(X,y, \n",
    "                                    test_size = 0.3, random_state=42)\n",
    "\n",
    "print(X_train.shape, X_test.shape)\n"
   ]
  },
  {
   "cell_type": "code",
   "execution_count": null,
   "metadata": {},
   "outputs": [],
   "source": [
    "## feature scaling \n",
    "from sklearn.preprocessing import StandardScaler\n",
    "\n",
    "scale = StandardScaler()\n",
    "X_scaled = scale.fit_transform(X_train)\n",
    "df.head()"
   ]
  },
  {
   "cell_type": "code",
   "execution_count": null,
   "metadata": {},
   "outputs": [],
   "source": [
    "## linear regression model \n",
    "from sklearn.linear_model import LinearRegression\n",
    "\n",
    "lr = LinearRegression()\n",
    "lr.fit(X_scaled, y_train)\n",
    "\n",
    "print(lr.coef_, lr.intercept_)"
   ]
  },
  {
   "cell_type": "code",
   "execution_count": null,
   "metadata": {},
   "outputs": [],
   "source": [
    "from sklearn.metrics import mean_absolute_error\n",
    "from sklearn.metrics import mean_squared_error\n",
    "from sklearn.metrics import r2_score\n",
    "\n",
    "X_test_scaled = scale.transform(X_test)\n",
    "ytest_pred = lr.predict(X_test_scaled)\n",
    "mae = mean_absolute_error(y_test, ytest_pred)\n",
    "print('Mean absolute error: ', mae)\n",
    "\n",
    "mse = mean_squared_error(y_test, ytest_pred)\n",
    "print('Mean squared error: ', mse)\n",
    "\n",
    "r2 = r2_score(y_test, ytest_pred)\n",
    "print('R2 score is: ', r2)"
   ]
  },
  {
   "cell_type": "code",
   "execution_count": null,
   "metadata": {},
   "outputs": [],
   "source": [
    "ytrain_pred = lr.predict(X_scaled)\n",
    "mae = mean_absolute_error(y_train, ytrain_pred)\n",
    "print('Mean absolute error: ', mae)\n",
    "\n",
    "mse = mean_squared_error(y_train, ytrain_pred)\n",
    "print('Mean squared error: ', mse)\n",
    "\n",
    "r2 = r2_score(y_train, ytrain_pred)\n",
    "print('R2 score is: ', r2)"
   ]
  }
 ],
 "metadata": {
  "kernelspec": {
   "display_name": ".venv",
   "language": "python",
   "name": "python3"
  },
  "language_info": {
   "codemirror_mode": {
    "name": "ipython",
    "version": 3
   },
   "file_extension": ".py",
   "mimetype": "text/x-python",
   "name": "python",
   "nbconvert_exporter": "python",
   "pygments_lexer": "ipython3",
   "version": "3.12.2"
  },
  "orig_nbformat": 4
 },
 "nbformat": 4,
 "nbformat_minor": 2
}
