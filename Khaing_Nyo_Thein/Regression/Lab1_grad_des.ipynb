{
 "cells": [
  {
   "cell_type": "code",
   "execution_count": 6,
   "id": "84dd2f47-4d52-4fe5-81b1-6798ed2dcf0e",
   "metadata": {},
   "outputs": [
    {
     "data": {
      "text/plain": [
       "Index(['TV', 'radio', 'newspaper', 'sales'], dtype='object')"
      ]
     },
     "execution_count": 6,
     "metadata": {},
     "output_type": "execute_result"
    }
   ],
   "source": [
    "import pandas as pd\n",
    "import numpy as np\n",
    "import matplotlib.pyplot as plt\n",
    "import seaborn as sns\n",
    "import random\n",
    "import math\n",
    "\n",
    "df=pd.read_csv('../data/Advertising.csv', index_col = 0)\n",
    "df.columns"
   ]
  },
  {
   "cell_type": "code",
   "execution_count": 6,
   "id": "40638276-e31c-41a7-a769-48359633d35f",
   "metadata": {},
   "outputs": [
    {
     "name": "stdout",
     "output_type": "stream",
     "text": [
      "      radio\n",
      "1  0.979066\n",
      "2  1.080097\n",
      "3  1.524637\n",
      "4  1.214806\n",
      "5 -0.839507\n",
      "[ 1.54816813 -0.69430382 -0.90513451  0.85817677 -0.21514314]\n"
     ]
    }
   ],
   "source": [
    "sel_program = 'radio'\n",
    "X=df[[sel_program]]\n",
    "Y=df['sales']\n",
    "Y=np.array((Y-Y.mean())/Y.std())\n",
    "#X = np.array((X-X.mean())/X.std())\n",
    "\n",
    "X=X.apply(lambda rec:(rec-rec.mean())/rec.std(),axis=0)\n",
    "print(X.head())\n",
    "print(Y[:5])"
   ]
  },
  {
   "cell_type": "code",
   "execution_count": null,
   "id": "b99b3d2a",
   "metadata": {},
   "outputs": [],
   "source": []
  },
  {
   "cell_type": "code",
   "execution_count": 7,
   "id": "f600d27a-7964-412e-bd36-3aeafa582b3f",
   "metadata": {},
   "outputs": [],
   "source": [
    "def initialize(dim):\n",
    "    b=random.random()\n",
    "    a=np.random.rand(dim)\n",
    "    return b,a"
   ]
  },
  {
   "cell_type": "code",
   "execution_count": 8,
   "id": "cdaa0f71-0fdc-4bfe-9239-657c200e2d35",
   "metadata": {},
   "outputs": [],
   "source": [
    "def predict_Y(b,a,X):\n",
    "    return b + np.dot(X,a)"
   ]
  },
  {
   "cell_type": "code",
   "execution_count": 9,
   "id": "51e800ff-8b1e-4c61-9d17-4486d2499102",
   "metadata": {},
   "outputs": [],
   "source": [
    "def get_cost(Y,Y_hat):\n",
    "    Y_resd=Y-Y_hat\n",
    "    return np.sum(np.dot(Y_resd.T,Y_resd))/len(Y)"
   ]
  },
  {
   "cell_type": "code",
   "execution_count": 10,
   "id": "745881b3-acdd-4ff8-971b-1f13dbb750ff",
   "metadata": {},
   "outputs": [],
   "source": [
    "def update_theta(x,y,y_hat,b_0,theta_o,learning_rate):\n",
    "    db=(np.sum(y_hat-y)*2)/len(y)\n",
    "    dw=(np.dot((y_hat-y),x)*2)/len(y)\n",
    "    b_1=b_0-learning_rate*db\n",
    "    theta_1=theta_o-learning_rate*dw\n",
    "    return b_1,theta_1"
   ]
  },
  {
   "cell_type": "code",
   "execution_count": 12,
   "id": "a69da9b3-c076-4d7b-be46-ad4424a8b408",
   "metadata": {},
   "outputs": [
    {
     "name": "stdout",
     "output_type": "stream",
     "text": [
      "     iteration   value_b  value_weight      cost\n",
      "0          0.0  0.914862      0.376489  1.577433\n",
      "1          1.0  0.896565      0.380464  1.541294\n",
      "2          2.0  0.878633      0.384359  1.506586\n",
      "3          3.0  0.861061      0.388178  1.473252\n",
      "4          4.0  0.843839      0.391920  1.441237\n",
      "..         ...       ...           ...       ...\n",
      "257      257.0  0.005087      0.575082  0.664656\n",
      "258      258.0  0.004985      0.575105  0.664655\n",
      "259      259.0  0.004886      0.575127  0.664654\n",
      "260      260.0  0.004788      0.575149  0.664653\n",
      "261      261.0  0.004692      0.575171  0.664652\n",
      "\n",
      "[262 rows x 4 columns]\n"
     ]
    }
   ],
   "source": [
    "def run_gradient_descent(X,Y,alpha,num_iterations):\n",
    "    tolerance = 1e-06\n",
    "    b,theta=initialize(X.shape[1])\n",
    "    \n",
    "    gd_iterations_df=pd.DataFrame(columns=['iteration','value_b', 'value_weight', 'cost'])\n",
    "    result_idx=0\n",
    "    prev_cost =0 \n",
    "    \n",
    "    for iter_num in range(num_iterations):\n",
    "        Y_hat=predict_Y(b,theta,X)\n",
    "        this_cost=get_cost(Y,Y_hat)\n",
    "        prev_b=b\n",
    "        prev_theta=theta\n",
    "        b,theta=update_theta(X,Y,Y_hat,prev_b,prev_theta,alpha)\n",
    "        gd_iterations_df.loc[result_idx]=[iter_num,b, theta[0], this_cost]\n",
    "        result_idx=result_idx+1   \n",
    "        if (np.abs(this_cost  - prev_cost )<= tolerance):\n",
    "            break\n",
    "        prev_cost = this_cost\n",
    "    return gd_iterations_df,b,theta\n",
    "        \n",
    "gd_iterations_df,b,theta=run_gradient_descent(X,Y,alpha=0.01,num_iterations=400)\n",
    "\n",
    "print(gd_iterations_df)"
   ]
  },
  {
   "cell_type": "code",
   "execution_count": 13,
   "id": "095c1e69-3f88-4216-93b1-937c2f660ec8",
   "metadata": {},
   "outputs": [],
   "source": [
    "#sns.scatterplot(data=gd_iterations_df, x=\"value_weight\", y=\"cost\")"
   ]
  },
  {
   "cell_type": "code",
   "execution_count": 14,
   "id": "9de3d8f6-9405-435b-abbe-c358554c70a4",
   "metadata": {},
   "outputs": [
    {
     "data": {
      "text/plain": [
       "np.float64(0.5751705587916036)"
      ]
     },
     "execution_count": 14,
     "metadata": {},
     "output_type": "execute_result"
    }
   ],
   "source": [
    "idx = gd_iterations_df['cost'].argmin()\n",
    "best_parameters = gd_iterations_df.loc[idx, ['value_b', 'value_weight']]\n",
    "best_parameters['value_weight']\n"
   ]
  },
  {
   "cell_type": "code",
   "execution_count": 15,
   "id": "deb46d54-f209-4117-a407-7df5128810d6",
   "metadata": {},
   "outputs": [],
   "source": [
    "x = df[sel_program]\n",
    "y_ini = gd_iterations_df.loc[0, 'value_b'] + gd_iterations_df.loc[0, 'value_weight']*x\n",
    "y_hat = gd_iterations_df.loc[idx, 'value_b'] + gd_iterations_df.loc[idx, 'value_weight']*x"
   ]
  },
  {
   "cell_type": "code",
   "execution_count": 16,
   "id": "66921f55",
   "metadata": {},
   "outputs": [
    {
     "name": "stdout",
     "output_type": "stream",
     "text": [
      "radio 0.6357912647808653 0.6646508232331979\n"
     ]
    },
    {
     "data": {
      "text/plain": [
       "np.int64(100)"
      ]
     },
     "execution_count": 16,
     "metadata": {},
     "output_type": "execute_result"
    }
   ],
   "source": [
    "import numpy as np\n",
    "\n",
    "y_p = gd_iterations_df.loc[idx, 'value_b'] + gd_iterations_df.loc[idx, 'value_weight']*X\n",
    "error = np.sum(np.abs(Y- y_p[sel_program]))/len(Y)\n",
    "print(sel_program, error, get_cost(Y, y_p[sel_program]))\n",
    "\n",
    "np.sum(((np.abs(Y- y_p[sel_program]))>0.5))\n"
   ]
  },
  {
   "cell_type": "code",
   "execution_count": 17,
   "id": "38865ca8-ed4b-4b9d-b26e-0703690ed024",
   "metadata": {},
   "outputs": [
    {
     "data": {
      "image/png": "[encoded data removed]",
      "text/plain": [
       "<Figure size 640x480 with 1 Axes>"
      ]
     },
     "metadata": {},
     "output_type": "display_data"
    }
   ],
   "source": [
    "sns.scatterplot(data=df, x=sel_program, y=\"sales\")\n",
    "plt.plot( x,  y_ini, 'k', x, y_hat, 'r')\n",
    "plt.legend(['training data', 'predicted_sales with initial parameters',\n",
    "            'predicted_sales with best parameters'])\n",
    "plt.show()"
   ]
  }
 ],
 "metadata": {
  "kernelspec": {
   "display_name": "Python 3",
   "language": "python",
   "name": "python3"
  },
  "language_info": {
   "codemirror_mode": {
    "name": "ipython",
    "version": 3
   },
   "file_extension": ".py",
   "mimetype": "text/x-python",
   "name": "python",
   "nbconvert_exporter": "python",
   "pygments_lexer": "ipython3",
   "version": "3.13.3"
  }
 },
 "nbformat": 4,
 "nbformat_minor": 5
}
