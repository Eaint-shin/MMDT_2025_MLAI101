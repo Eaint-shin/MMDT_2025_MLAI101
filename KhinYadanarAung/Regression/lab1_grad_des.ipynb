{
  "cells": [
    {
      "cell_type": "markdown",
      "metadata": {
        "id": "view-in-github",
        "colab_type": "text"
      },
      "source": [
        "<a href=\"https://colab.research.google.com/github/Yadanar025/MMDT_2025_MLAI101/blob/Khin-Yadanar-Aung/KhinYadanarAung/Regression/lab1_grad_des.ipynb\" target=\"_parent\"><img src=\"https://colab.research.google.com/assets/colab-badge.svg\" alt=\"Open In Colab\"/></a>"
      ]
    },
    {
      "cell_type": "code",
      "execution_count": 13,
      "id": "84dd2f47-4d52-4fe5-81b1-6798ed2dcf0e",
      "metadata": {
        "colab": {
          "base_uri": "https://localhost:8080/"
        },
        "id": "84dd2f47-4d52-4fe5-81b1-6798ed2dcf0e",
        "outputId": "2f6c7328-4381-4592-efff-c77c64e0e9d3"
      },
      "outputs": [
        {
          "output_type": "execute_result",
          "data": {
            "text/plain": [
              "Index(['TV', 'radio', 'newspaper', 'sales'], dtype='object')"
            ]
          },
          "metadata": {},
          "execution_count": 13
        }
      ],
      "source": [
        "import pandas as pd\n",
        "import numpy as np\n",
        "import matplotlib.pyplot as plt\n",
        "import seaborn as sns\n",
        "import random\n",
        "import math\n",
        "\n",
        "#from google.colab import files\n",
        "#uploaded = files.upload()\n",
        "\n",
        "df=pd.read_csv(\"https://raw.githubusercontent.com/Yadanar025/Supervised-Machine-Learning/refs/heads/main/data/Advertising.csv\", index_col = 0)\n",
        "df.columns"
      ]
    },
    {
      "cell_type": "code",
      "execution_count": 14,
      "id": "40638276-e31c-41a7-a769-48359633d35f",
      "metadata": {
        "id": "40638276-e31c-41a7-a769-48359633d35f"
      },
      "outputs": [],
      "source": [
        "sel_program = 'radio'\n",
        "X=df[[sel_program]]\n",
        "Y=df['sales']\n",
        "Y=np.array((Y-Y.mean())/Y.std())\n",
        "#X = np.array((X-X.mean())/X.std())\n",
        "\n",
        "X=X.apply(lambda rec:(rec-rec.mean())/rec.std(),axis=0)"
      ]
    },
    {
      "cell_type": "code",
      "execution_count": 15,
      "id": "f600d27a-7964-412e-bd36-3aeafa582b3f",
      "metadata": {
        "id": "f600d27a-7964-412e-bd36-3aeafa582b3f"
      },
      "outputs": [],
      "source": [
        "def initialize(dim):\n",
        "    b=random.random()\n",
        "    a=np.random.rand(dim)\n",
        "    return b,a"
      ]
    },
    {
      "cell_type": "code",
      "execution_count": 16,
      "id": "cdaa0f71-0fdc-4bfe-9239-657c200e2d35",
      "metadata": {
        "id": "cdaa0f71-0fdc-4bfe-9239-657c200e2d35"
      },
      "outputs": [],
      "source": [
        "def predict_Y(b,a,X):\n",
        "    return b + np.dot(X,a)"
      ]
    },
    {
      "cell_type": "code",
      "execution_count": 17,
      "id": "51e800ff-8b1e-4c61-9d17-4486d2499102",
      "metadata": {
        "id": "51e800ff-8b1e-4c61-9d17-4486d2499102"
      },
      "outputs": [],
      "source": [
        "def get_cost(Y,Y_hat):\n",
        "    Y_resd=Y-Y_hat\n",
        "    return np.sum(np.dot(Y_resd.T,Y_resd))/len(Y)"
      ]
    },
    {
      "cell_type": "code",
      "execution_count": 18,
      "id": "745881b3-acdd-4ff8-971b-1f13dbb750ff",
      "metadata": {
        "id": "745881b3-acdd-4ff8-971b-1f13dbb750ff"
      },
      "outputs": [],
      "source": [
        "def update_theta(x,y,y_hat,b_0,theta_o,learning_rate):\n",
        "    db=(np.sum(y_hat-y)*2)/len(y)\n",
        "    dw=(np.dot((y_hat-y),x)*2)/len(y)\n",
        "    b_1=b_0-learning_rate*db\n",
        "    theta_1=theta_o-learning_rate*dw\n",
        "    return b_1,theta_1"
      ]
    },
    {
      "cell_type": "code",
      "execution_count": 19,
      "id": "a69da9b3-c076-4d7b-be46-ad4424a8b408",
      "metadata": {
        "colab": {
          "base_uri": "https://localhost:8080/"
        },
        "id": "a69da9b3-c076-4d7b-be46-ad4424a8b408",
        "outputId": "ea175b35-1fa1-4180-c273-c977b3b7ce08"
      },
      "outputs": [
        {
          "output_type": "stream",
          "name": "stdout",
          "text": [
            "     iteration   value_b  value_weight      cost\n",
            "0          0.0  0.402339      0.074393  1.094032\n",
            "1          1.0  0.394292      0.084379  1.077078\n",
            "2          2.0  0.386406      0.094167  1.060794\n",
            "3          3.0  0.378678      0.103760  1.045153\n",
            "4          4.0  0.371105      0.113162  1.030130\n",
            "..         ...       ...           ...       ...\n",
            "239      239.0  0.003218      0.572109  0.664656\n",
            "240      240.0  0.003154      0.572191  0.664655\n",
            "241      241.0  0.003091      0.572271  0.664654\n",
            "242      242.0  0.003029      0.572350  0.664653\n",
            "243      243.0  0.002968      0.572427  0.664652\n",
            "\n",
            "[244 rows x 4 columns]\n"
          ]
        }
      ],
      "source": [
        "def run_gradient_descent(X,Y,alpha,num_iterations):\n",
        "    tolerance = 1e-06\n",
        "    b,theta=initialize(X.shape[1])\n",
        "\n",
        "    gd_iterations_df=pd.DataFrame(columns=['iteration','value_b', 'value_weight', 'cost'])\n",
        "    result_idx=0\n",
        "    prev_cost =0\n",
        "\n",
        "    for iter_num in range(num_iterations):\n",
        "        Y_hat=predict_Y(b,theta,X)\n",
        "        this_cost=get_cost(Y,Y_hat)\n",
        "        prev_b=b\n",
        "        prev_theta=theta\n",
        "        b,theta=update_theta(X,Y,Y_hat,prev_b,prev_theta,alpha)\n",
        "        gd_iterations_df.loc[result_idx]=[iter_num,b, theta[0], this_cost]\n",
        "        result_idx=result_idx+1\n",
        "        if (np.abs(this_cost  - prev_cost )<= tolerance):\n",
        "            break\n",
        "        prev_cost = this_cost\n",
        "    return gd_iterations_df,b,theta\n",
        "\n",
        "gd_iterations_df,b,theta=run_gradient_descent(X,Y,alpha=0.01,num_iterations=400)\n",
        "\n",
        "print(gd_iterations_df)"
      ]
    },
    {
      "cell_type": "code",
      "execution_count": 20,
      "id": "095c1e69-3f88-4216-93b1-937c2f660ec8",
      "metadata": {
        "id": "095c1e69-3f88-4216-93b1-937c2f660ec8"
      },
      "outputs": [],
      "source": [
        "#sns.scatterplot(data=gd_iterations_df, x=\"value_weight\", y=\"cost\")"
      ]
    },
    {
      "cell_type": "code",
      "execution_count": 21,
      "id": "9de3d8f6-9405-435b-abbe-c358554c70a4",
      "metadata": {
        "colab": {
          "base_uri": "https://localhost:8080/"
        },
        "id": "9de3d8f6-9405-435b-abbe-c358554c70a4",
        "outputId": "5da4b0b9-5ed2-4702-9375-eb2ab36eccef"
      },
      "outputs": [
        {
          "output_type": "execute_result",
          "data": {
            "text/plain": [
              "np.float64(0.5724271434264402)"
            ]
          },
          "metadata": {},
          "execution_count": 21
        }
      ],
      "source": [
        "idx = gd_iterations_df['cost'].argmin()\n",
        "best_parameters = gd_iterations_df.loc[idx, ['value_b', 'value_weight']]\n",
        "best_parameters['value_weight']\n"
      ]
    },
    {
      "cell_type": "code",
      "execution_count": 22,
      "id": "deb46d54-f209-4117-a407-7df5128810d6",
      "metadata": {
        "id": "deb46d54-f209-4117-a407-7df5128810d6"
      },
      "outputs": [],
      "source": [
        "x = df[sel_program]\n",
        "y_ini = gd_iterations_df.loc[0, 'value_b'] + gd_iterations_df.loc[0, 'value_weight']*x\n",
        "y_hat = gd_iterations_df.loc[idx, 'value_b'] + gd_iterations_df.loc[idx, 'value_weight']*x"
      ]
    },
    {
      "cell_type": "code",
      "execution_count": 23,
      "id": "66921f55",
      "metadata": {
        "colab": {
          "base_uri": "https://localhost:8080/"
        },
        "id": "66921f55",
        "outputId": "8df5cc04-27db-4a49-d1cb-bbf1b67295f9"
      },
      "outputs": [
        {
          "output_type": "stream",
          "name": "stdout",
          "text": [
            "radio 0.6361060007404106 0.6646508517408951\n"
          ]
        },
        {
          "output_type": "execute_result",
          "data": {
            "text/plain": [
              "np.int64(100)"
            ]
          },
          "metadata": {},
          "execution_count": 23
        }
      ],
      "source": [
        "import numpy as np\n",
        "\n",
        "y_p = gd_iterations_df.loc[idx, 'value_b'] + gd_iterations_df.loc[idx, 'value_weight']*X\n",
        "error = np.sum(np.abs(Y- y_p[sel_program]))/len(Y)\n",
        "print(sel_program, error, get_cost(Y, y_p[sel_program]))\n",
        "\n",
        "np.sum(((np.abs(Y- y_p[sel_program]))>0.5))\n"
      ]
    },
    {
      "cell_type": "code",
      "execution_count": 24,
      "id": "38865ca8-ed4b-4b9d-b26e-0703690ed024",
      "metadata": {
        "colab": {
          "base_uri": "https://localhost:8080/",
          "height": 449
        },
        "id": "38865ca8-ed4b-4b9d-b26e-0703690ed024",
        "outputId": "5dd5a3f8-90dd-4b7a-cc3f-9bbbf4879cff"
      },
      "outputs": [
        {
          "output_type": "display_data",
          "data": {
            "text/plain": [
              "<Figure size 640x480 with 1 Axes>"
            ],
            "image/png": "[encoded data removed]"
          },
          "metadata": {}
        }
      ],
      "source": [
        "sns.scatterplot(data=df, x=sel_program, y=\"sales\")\n",
        "plt.plot( x,  y_ini, 'k', x, y_hat, 'r')\n",
        "plt.legend(['training data', 'predicted_sales with initial parameters',\n",
        "            'predicted_sales with best parameters'])\n",
        "plt.show()"
      ]
    },
    {
      "cell_type": "code",
      "source": [],
      "metadata": {
        "id": "fAC8iaaSNWo4"
      },
      "id": "fAC8iaaSNWo4",
      "execution_count": 24,
      "outputs": []
    }
  ],
  "metadata": {
    "kernelspec": {
      "display_name": ".venv",
      "language": "python",
      "name": "python3"
    },
    "language_info": {
      "codemirror_mode": {
        "name": "ipython",
        "version": 3
      },
      "file_extension": ".py",
      "mimetype": "text/x-python",
      "name": "python",
      "nbconvert_exporter": "python",
      "pygments_lexer": "ipython3",
      "version": "3.12.2"
    },
    "colab": {
      "provenance": [],
      "include_colab_link": true
    }
  },
  "nbformat": 4,
  "nbformat_minor": 5
}