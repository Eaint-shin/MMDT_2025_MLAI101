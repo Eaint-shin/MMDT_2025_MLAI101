{
 "cells": [
  {
   "cell_type": "code",
   "execution_count": 1,
   "id": "84dd2f47-4d52-4fe5-81b1-6798ed2dcf0e",
   "metadata": {},
   "outputs": [
    {
     "data": {
      "text/plain": [
       "Index(['TV', 'radio', 'newspaper', 'sales'], dtype='object')"
      ]
     },
     "execution_count": 1,
     "metadata": {},
     "output_type": "execute_result"
    }
   ],
   "source": [
    "import pandas as pd\n",
    "import numpy as np\n",
    "import matplotlib.pyplot as plt\n",
    "import seaborn as sns\n",
    "import random\n",
    "import math\n",
    "\n",
    "df=pd.read_csv('D:/GitHub/Supervised-Machine-Learning/data/Advertising.csv', index_col = 0)\n",
    "df.columns"
   ]
  },
  {
   "cell_type": "code",
   "execution_count": 2,
   "id": "0a8ed151",
   "metadata": {},
   "outputs": [
    {
     "data": {
      "text/html": [
       "<div>\n",
       "<style scoped>\n",
       "    .dataframe tbody tr th:only-of-type {\n",
       "        vertical-align: middle;\n",
       "    }\n",
       "\n",
       "    .dataframe tbody tr th {\n",
       "        vertical-align: top;\n",
       "    }\n",
       "\n",
       "    .dataframe thead th {\n",
       "        text-align: right;\n",
       "    }\n",
       "</style>\n",
       "<table border=\"1\" class=\"dataframe\">\n",
       "  <thead>\n",
       "    <tr style=\"text-align: right;\">\n",
       "      <th></th>\n",
       "      <th>TV</th>\n",
       "      <th>radio</th>\n",
       "      <th>newspaper</th>\n",
       "      <th>sales</th>\n",
       "    </tr>\n",
       "  </thead>\n",
       "  <tbody>\n",
       "    <tr>\n",
       "      <th>1</th>\n",
       "      <td>230.1</td>\n",
       "      <td>37.8</td>\n",
       "      <td>69.2</td>\n",
       "      <td>22.1</td>\n",
       "    </tr>\n",
       "    <tr>\n",
       "      <th>2</th>\n",
       "      <td>44.5</td>\n",
       "      <td>39.3</td>\n",
       "      <td>45.1</td>\n",
       "      <td>10.4</td>\n",
       "    </tr>\n",
       "    <tr>\n",
       "      <th>3</th>\n",
       "      <td>17.2</td>\n",
       "      <td>45.9</td>\n",
       "      <td>69.3</td>\n",
       "      <td>9.3</td>\n",
       "    </tr>\n",
       "    <tr>\n",
       "      <th>4</th>\n",
       "      <td>151.5</td>\n",
       "      <td>41.3</td>\n",
       "      <td>58.5</td>\n",
       "      <td>18.5</td>\n",
       "    </tr>\n",
       "    <tr>\n",
       "      <th>5</th>\n",
       "      <td>180.8</td>\n",
       "      <td>10.8</td>\n",
       "      <td>58.4</td>\n",
       "      <td>12.9</td>\n",
       "    </tr>\n",
       "  </tbody>\n",
       "</table>\n",
       "</div>"
      ],
      "text/plain": [
       "      TV  radio  newspaper  sales\n",
       "1  230.1   37.8       69.2   22.1\n",
       "2   44.5   39.3       45.1   10.4\n",
       "3   17.2   45.9       69.3    9.3\n",
       "4  151.5   41.3       58.5   18.5\n",
       "5  180.8   10.8       58.4   12.9"
      ]
     },
     "execution_count": 2,
     "metadata": {},
     "output_type": "execute_result"
    }
   ],
   "source": [
    "df.head()"
   ]
  },
  {
   "cell_type": "code",
   "execution_count": 3,
   "id": "40638276-e31c-41a7-a769-48359633d35f",
   "metadata": {},
   "outputs": [],
   "source": [
    "#define feature and target variables\n",
    "sel_program = 'radio'\n",
    "X=df[[sel_program]]\n",
    "Y=df['sales']\n",
    "\n",
    "#standardize the target variable\n",
    "Y=np.array((Y-Y.mean())/Y.std())\n",
    "#X = np.array((X-X.mean())/X.std())\n",
    "\n",
    "#standardize the feature variable\n",
    "X=X.apply(lambda rec:(rec-rec.mean())/rec.std(),axis=0)"
   ]
  },
  {
   "cell_type": "code",
   "execution_count": 4,
   "id": "42ff3201",
   "metadata": {},
   "outputs": [
    {
     "name": "stdout",
     "output_type": "stream",
     "text": [
      "<class 'pandas.core.frame.DataFrame'>\n",
      "<class 'numpy.ndarray'>\n",
      "(200, 1)\n"
     ]
    }
   ],
   "source": [
    "print(type(X))\n",
    "print(type(Y))\n",
    "print(X.shape)"
   ]
  },
  {
   "cell_type": "code",
   "execution_count": 5,
   "id": "f600d27a-7964-412e-bd36-3aeafa582b3f",
   "metadata": {},
   "outputs": [
    {
     "name": "stdout",
     "output_type": "stream",
     "text": [
      "(0.16727607871018524, array([0.51676703]))\n"
     ]
    }
   ],
   "source": [
    "def initialize(dim):\n",
    "    #initialize intercept (b) and weight (a) with a random float between 0 and 1\n",
    "    b=random.random()\n",
    "    a=np.random.rand(dim)\n",
    "    return b,a\n",
    "\n",
    "print(initialize(X.shape[1]))"
   ]
  },
  {
   "cell_type": "code",
   "execution_count": 6,
   "id": "cdaa0f71-0fdc-4bfe-9239-657c200e2d35",
   "metadata": {},
   "outputs": [],
   "source": [
    "def predict_Y(b,a,X):\n",
    "    return b + np.dot(X,a)"
   ]
  },
  {
   "cell_type": "code",
   "execution_count": 7,
   "id": "51e800ff-8b1e-4c61-9d17-4486d2499102",
   "metadata": {},
   "outputs": [],
   "source": [
    "#calculate Mean Squared Error (MSE)\n",
    "def get_cost(Y,Y_hat):\n",
    "    Y_resd=Y-Y_hat\n",
    "    return np.sum(np.dot(Y_resd.T,Y_resd))/len(Y)"
   ]
  },
  {
   "cell_type": "code",
   "execution_count": 8,
   "id": "745881b3-acdd-4ff8-971b-1f13dbb750ff",
   "metadata": {},
   "outputs": [],
   "source": [
    "def update_theta(x,y,y_hat,b_0,theta_o,learning_rate):\n",
    "    db=(np.sum(y_hat-y)*2)/len(y)\n",
    "    dw=(np.dot((y_hat-y),x)*2)/len(y)\n",
    "    b_1=b_0-learning_rate*db\n",
    "    theta_1=theta_o-learning_rate*dw\n",
    "    return b_1,theta_1"
   ]
  },
  {
   "cell_type": "code",
   "execution_count": 9,
   "id": "a69da9b3-c076-4d7b-be46-ad4424a8b408",
   "metadata": {},
   "outputs": [
    {
     "name": "stdout",
     "output_type": "stream",
     "text": [
      "     iteration   value_b  value_weight      cost\n",
      "250      250.0  0.004945      0.574562  0.664656\n",
      "251      251.0  0.004846      0.574595  0.664655\n",
      "252      252.0  0.004749      0.574627  0.664654\n",
      "253      253.0  0.004654      0.574659  0.664653\n",
      "254      254.0  0.004561      0.574690  0.664652\n"
     ]
    }
   ],
   "source": [
    "def run_gradient_descent(X,Y,alpha,num_iterations):\n",
    "    tolerance =  0.000001\n",
    "    b,theta=initialize(X.shape[1])\n",
    "    \n",
    "    gd_iterations_df=pd.DataFrame(columns=['iteration','value_b', 'value_weight', 'cost'])\n",
    "    result_idx=0\n",
    "    prev_cost =0 \n",
    "    \n",
    "    for iter_num in range(num_iterations):\n",
    "        Y_hat=predict_Y(b,theta,X)\n",
    "        this_cost=get_cost(Y,Y_hat)\n",
    "        prev_b=b\n",
    "        prev_theta=theta\n",
    "        b,theta=update_theta(X,Y,Y_hat,prev_b,prev_theta,alpha)\n",
    "        gd_iterations_df.loc[result_idx]=[iter_num,b, theta[0], this_cost]\n",
    "        result_idx=result_idx+1   \n",
    "        if (np.abs(this_cost  - prev_cost )<= tolerance):\n",
    "            break\n",
    "        prev_cost = this_cost\n",
    "    return gd_iterations_df,b,theta\n",
    "        \n",
    "gd_iterations_df,b,theta=run_gradient_descent(X,Y,alpha=0.01,num_iterations=400)\n",
    "\n",
    "print(gd_iterations_df.tail())"
   ]
  },
  {
   "cell_type": "code",
   "execution_count": 10,
   "id": "095c1e69-3f88-4216-93b1-937c2f660ec8",
   "metadata": {},
   "outputs": [
    {
     "data": {
      "text/plain": [
       "<Axes: xlabel='value_weight', ylabel='cost'>"
      ]
     },
     "execution_count": 10,
     "metadata": {},
     "output_type": "execute_result"
    },
    {
     "data": {
      "image/png": "[encoded data removed]",
      "text/plain": [
       "<Figure size 640x480 with 1 Axes>"
      ]
     },
     "metadata": {},
     "output_type": "display_data"
    }
   ],
   "source": [
    "sns.scatterplot(data=gd_iterations_df, x=\"value_weight\", y=\"cost\")"
   ]
  },
  {
   "cell_type": "code",
   "execution_count": 11,
   "id": "9de3d8f6-9405-435b-abbe-c358554c70a4",
   "metadata": {},
   "outputs": [
    {
     "name": "stdout",
     "output_type": "stream",
     "text": [
      "value_b         0.004561\n",
      "value_weight    0.574690\n",
      "Name: 254, dtype: float64\n",
      "0.5746903455033106\n"
     ]
    }
   ],
   "source": [
    "idx = gd_iterations_df['cost'].argmin()\n",
    "best_parameters = gd_iterations_df.loc[idx, ['value_b', 'value_weight']]\n",
    "print(best_parameters)\n",
    "print(best_parameters['value_weight'])"
   ]
  },
  {
   "cell_type": "code",
   "execution_count": 12,
   "id": "deb46d54-f209-4117-a407-7df5128810d6",
   "metadata": {},
   "outputs": [],
   "source": [
    "# extract the original \"radio\" data \n",
    "x = df[sel_program]\n",
    "y_ini = gd_iterations_df.loc[0, 'value_b'] + gd_iterations_df.loc[0, 'value_weight']*x\n",
    "y_hat = gd_iterations_df.loc[idx, 'value_b'] + gd_iterations_df.loc[idx, 'value_weight']*x\n"
   ]
  },
  {
   "cell_type": "code",
   "execution_count": 13,
   "id": "66921f55",
   "metadata": {},
   "outputs": [
    {
     "name": "stdout",
     "output_type": "stream",
     "text": [
      "radio 0.6358241972489551 0.6646508436440677\n",
      "      radio\n",
      "1  0.567220\n",
      "2  0.625282\n",
      "3  0.880755\n",
      "4  0.702698\n",
      "5 -0.477896\n",
      "100\n"
     ]
    }
   ],
   "source": [
    "import numpy as np\n",
    "\n",
    "y_p = gd_iterations_df.loc[idx, 'value_b'] + gd_iterations_df.loc[idx, 'value_weight']*X\n",
    "\n",
    "# calculate Mean Absolute Error (MAE)\n",
    "error = np.sum(np.abs(Y- y_p[sel_program]))/len(Y)\n",
    "print(sel_program, error, get_cost(Y, y_p[sel_program]))\n",
    "print(y_p.head())\n",
    "\n",
    "print(np.sum(((np.abs(Y- y_p[sel_program]))>0.5)))"
   ]
  },
  {
   "cell_type": "code",
   "execution_count": 14,
   "id": "38865ca8-ed4b-4b9d-b26e-0703690ed024",
   "metadata": {},
   "outputs": [
    {
     "data": {
      "image/png": "[encoded data removed]",
      "text/plain": [
       "<Figure size 640x480 with 1 Axes>"
      ]
     },
     "metadata": {},
     "output_type": "display_data"
    }
   ],
   "source": [
    "sns.scatterplot(data=df, x=sel_program, y=\"sales\")\n",
    "plt.plot( x,  y_ini, 'k', x, y_hat, 'r')\n",
    "plt.legend(['training data', 'predicted_sales with initial parameters',\n",
    "            'predicted_sales with best parameters'])\n",
    "plt.show()"
   ]
  }
 ],
 "metadata": {
  "kernelspec": {
   "display_name": "Python 3",
   "language": "python",
   "name": "python3"
  },
  "language_info": {
   "codemirror_mode": {
    "name": "ipython",
    "version": 3
   },
   "file_extension": ".py",
   "mimetype": "text/x-python",
   "name": "python",
   "nbconvert_exporter": "python",
   "pygments_lexer": "ipython3",
   "version": "3.12.8"
  }
 },
 "nbformat": 4,
 "nbformat_minor": 5
}
