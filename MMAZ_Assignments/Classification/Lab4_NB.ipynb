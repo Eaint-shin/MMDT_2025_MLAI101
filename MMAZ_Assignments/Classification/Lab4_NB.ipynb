{
 "cells": [
  {
   "cell_type": "code",
   "execution_count": 1,
   "metadata": {},
   "outputs": [],
   "source": [
    "import pandas as pd\n",
    "\n",
    "df=pd.read_csv('..\\\\data\\\\fraud.csv', index_col = 0)\n",
    "y = df['Class'].values\n",
    "df = df.iloc[:,1:]\n",
    "X = df.drop(columns = 'Class').values"
   ]
  },
  {
   "cell_type": "code",
   "execution_count": 3,
   "metadata": {},
   "outputs": [],
   "source": [
    "from sklearn.model_selection import train_test_split\n",
    "from sklearn.metrics import classification_report, confusion_matrix\n",
    "from sklearn.preprocessing import MinMaxScaler\n",
    "X_train, X_test, y_train, y_test = train_test_split(X,y, \n",
    "                                    test_size = 0.40, \n",
    "                                    random_state=1)\n",
    "# Scale features to be non-negative\n",
    "minmax_scaler = MinMaxScaler()\n",
    "X_train= minmax_scaler.fit_transform(X_train)\n",
    "X_test = minmax_scaler.transform(X_test)"
   ]
  },
  {
   "cell_type": "code",
   "execution_count": 1,
   "metadata": {},
   "outputs": [
    {
     "ename": "NameError",
     "evalue": "name 'X_train' is not defined",
     "output_type": "error",
     "traceback": [
      "\u001b[31m---------------------------------------------------------------------------\u001b[39m",
      "\u001b[31mNameError\u001b[39m                                 Traceback (most recent call last)",
      "\u001b[36mCell\u001b[39m\u001b[36m \u001b[39m\u001b[32mIn[1]\u001b[39m\u001b[32m, line 12\u001b[39m\n\u001b[32m     10\u001b[39m results = {}\n\u001b[32m     11\u001b[39m \u001b[38;5;28;01mfor\u001b[39;00m name, clf \u001b[38;5;129;01min\u001b[39;00m models.items():\n\u001b[32m---> \u001b[39m\u001b[32m12\u001b[39m     clf.fit(\u001b[43mX_train\u001b[49m, y_train)\n\u001b[32m     13\u001b[39m     y_pred = clf.predict(X_test)\n\u001b[32m     14\u001b[39m     \u001b[38;5;28mprint\u001b[39m(\u001b[33mf\u001b[39m\u001b[33m'\u001b[39m\u001b[33m=== \u001b[39m\u001b[38;5;132;01m{\u001b[39;00mname\u001b[38;5;132;01m}\u001b[39;00m\u001b[33m ===\u001b[39m\u001b[33m'\u001b[39m)\n",
      "\u001b[31mNameError\u001b[39m: name 'X_train' is not defined"
     ]
    }
   ],
   "source": [
    "from sklearn.naive_bayes import GaussianNB, MultinomialNB, BernoulliNB\n",
    "from sklearn.metrics import classification_report, confusion_matrix, precision_score, recall_score\n",
    "\n",
    "models = {\n",
    "    'GaussianNB': GaussianNB(),\n",
    "    'MultinomialNB': MultinomialNB(alpha=1.0),\n",
    "    'BernoulliNB': BernoulliNB(alpha=1.0)\n",
    "}\n",
    "\n",
    "results = {}\n",
    "for name, clf in models.items():\n",
    "    clf.fit(X_train, y_train)\n",
    "    y_pred = clf.predict(X_test)\n",
    "    print(f'=== {name} ===')\n",
    "    print(confusion_matrix(y_test, y_pred))\n",
    "    print(classification_report(y_test, y_pred))\n",
    "    p = precision_score(y_test, y_pred, pos_label=1)\n",
    "    r = recall_score(y_test, y_pred, pos_label=1)\n",
    "    results[name] = {'precision': p, 'recall': r}\n",
    "    print(f'Precision (fraud=1): {p:.3f}, Recall (fraud=1): {r:.3f}\\n')\n",
    "\n",
    "print('Summary (precision, recall) for fraud class:')\n",
    "for name, m in results.items():\n",
    "    print(f'{name}: precision={m[\"precision\"]:.3f}, recall={m[\"recall\"]:.3f}')"
   ]
  }
 ],
 "metadata": {
  "kernelspec": {
   "display_name": "Python 3",
   "language": "python",
   "name": "python3"
  },
  "language_info": {
   "codemirror_mode": {
    "name": "ipython",
    "version": 3
   },
   "file_extension": ".py",
   "mimetype": "text/x-python",
   "name": "python",
   "nbconvert_exporter": "python",
   "pygments_lexer": "ipython3",
   "version": "3.12.10"
  },
  "orig_nbformat": 4
 },
 "nbformat": 4,
 "nbformat_minor": 2
}
