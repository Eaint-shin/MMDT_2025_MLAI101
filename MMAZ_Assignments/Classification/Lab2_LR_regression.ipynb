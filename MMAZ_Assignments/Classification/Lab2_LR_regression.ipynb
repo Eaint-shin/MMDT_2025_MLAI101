{
 "cells": [
  {
   "cell_type": "code",
   "execution_count": 13,
   "metadata": {},
   "outputs": [
    {
     "data": {
      "application/vnd.microsoft.datawrangler.viewer.v0+json": {
       "columns": [
        {
         "name": "index",
         "rawType": "int64",
         "type": "integer"
        },
        {
         "name": "Unnamed: 0",
         "rawType": "int64",
         "type": "integer"
        },
        {
         "name": "V1",
         "rawType": "float64",
         "type": "float"
        },
        {
         "name": "V2",
         "rawType": "float64",
         "type": "float"
        },
        {
         "name": "V3",
         "rawType": "float64",
         "type": "float"
        },
        {
         "name": "V4",
         "rawType": "float64",
         "type": "float"
        },
        {
         "name": "V5",
         "rawType": "float64",
         "type": "float"
        },
        {
         "name": "V6",
         "rawType": "float64",
         "type": "float"
        },
        {
         "name": "V7",
         "rawType": "float64",
         "type": "float"
        },
        {
         "name": "V8",
         "rawType": "float64",
         "type": "float"
        },
        {
         "name": "V9",
         "rawType": "float64",
         "type": "float"
        },
        {
         "name": "V10",
         "rawType": "float64",
         "type": "float"
        },
        {
         "name": "V11",
         "rawType": "float64",
         "type": "float"
        },
        {
         "name": "V12",
         "rawType": "float64",
         "type": "float"
        },
        {
         "name": "V13",
         "rawType": "float64",
         "type": "float"
        },
        {
         "name": "V14",
         "rawType": "float64",
         "type": "float"
        },
        {
         "name": "V15",
         "rawType": "float64",
         "type": "float"
        },
        {
         "name": "V16",
         "rawType": "float64",
         "type": "float"
        },
        {
         "name": "V17",
         "rawType": "float64",
         "type": "float"
        },
        {
         "name": "V18",
         "rawType": "float64",
         "type": "float"
        },
        {
         "name": "V19",
         "rawType": "float64",
         "type": "float"
        },
        {
         "name": "V20",
         "rawType": "float64",
         "type": "float"
        },
        {
         "name": "V21",
         "rawType": "float64",
         "type": "float"
        },
        {
         "name": "V22",
         "rawType": "float64",
         "type": "float"
        },
        {
         "name": "V23",
         "rawType": "float64",
         "type": "float"
        },
        {
         "name": "V24",
         "rawType": "float64",
         "type": "float"
        },
        {
         "name": "V25",
         "rawType": "float64",
         "type": "float"
        },
        {
         "name": "V26",
         "rawType": "float64",
         "type": "float"
        },
        {
         "name": "V27",
         "rawType": "float64",
         "type": "float"
        },
        {
         "name": "V28",
         "rawType": "float64",
         "type": "float"
        },
        {
         "name": "Amount",
         "rawType": "float64",
         "type": "float"
        },
        {
         "name": "Class",
         "rawType": "int64",
         "type": "integer"
        }
       ],
       "ref": "c5f0405c-ee5c-432c-8fae-8bfc2d0a2996",
       "rows": [
        [
         "0",
         "0",
         "1.17656255181218",
         "0.323797640378087",
         "0.536927047266024",
         "1.04700168087103",
         "-0.3686521614722849",
         "-0.7285863657216519",
         "0.0846778099656587",
         "-0.0692464738031954",
         "-0.26638869274334",
         "0.155314911583492",
         "1.53577583806166",
         "1.01994669242355",
         "-0.0965113449258387",
         "0.573022992080547",
         "0.2152141557697819",
         "0.265249486354361",
         "-0.612064364204661",
         "0.0938213059720719",
         "-0.0648899877365136",
         "-0.137257512587843",
         "-0.1096272886531649",
         "-0.341365351415902",
         "0.0578450527839203",
         "0.499179789919147",
         "0.4152112120404621",
         "-0.581948633482109",
         "0.0154721345014901",
         "0.0180650394575584",
         "4.67",
         "0"
        ],
        [
         "1",
         "1",
         "0.6811094859498571",
         "-3.9347763151814",
         "-3.80182745004244",
         "-1.14746778297694",
         "-0.735540319426235",
         "-0.501096846575689",
         "1.03886506537126",
         "-0.626979162034047",
         "-2.27442282250924",
         "1.52778238399941",
         "-0.0076875149213635",
         "-1.08740278319427",
         "-0.720269887364957",
         "0.85518460671133",
         "-1.07001113325829",
         "-0.869661103677111",
         "0.395302099506992",
         "0.6356946623052541",
         "0.249401172890778",
         "1.34180918098642",
         "0.6522018022050329",
         "0.2726839416887079",
         "-0.9821505930424158",
         "0.1659004387994899",
         "0.3602508998471889",
         "0.19532074419724",
         "-0.256272932445752",
         "0.0565009044745616",
         "912.0",
         "0"
        ],
        [
         "2",
         "2",
         "1.14072867493278",
         "0.453483633079527",
         "0.247010003149657",
         "2.38313244172575",
         "0.343287073049311",
         "0.4328035235113379",
         "0.0933800713658686",
         "0.17330981614204",
         "-0.8089993344715899",
         "0.775435674669043",
         "0.726217545284686",
         "0.347647517325707",
         "-0.806752202074433",
         "0.531267896298574",
         "-0.806537635345123",
         "0.1549960088977169",
         "-0.3199353471159279",
         "-0.335549865881973",
         "-0.6489940694885009",
         "-0.232184541183801",
         "-0.0038017561836118",
         "0.0585555861108052",
         "-0.121176859332008",
         "-0.3042148593211",
         "0.6458929357962521",
         "0.122599888636919",
         "-0.0121148193781519",
         "-0.0059450251876801",
         "1.0",
         "0"
        ],
        [
         "3",
         "3",
         "-1.1070732901366598",
         "-3.2989023466236205",
         "-0.1840918889409",
         "-1.79574386263204",
         "2.13756366364123",
         "-1.6849921773817802",
         "-2.01560556429795",
         "-0.0071809480280594",
         "-0.165759743554069",
         "0.8696593384343628",
         "-1.02784663972473",
         "-3.22069922320704",
         "3.00700838006838",
         "0.794678680771808",
         "-1.50435085483226",
         "-0.3809851417923839",
         "0.667344424361253",
         "0.676137653331258",
         "-0.419468583176502",
         "0.348269257760798",
         "0.1306475474383649",
         "0.329445035547308",
         "0.927655962168085",
         "-0.0495602056297995",
         "-1.89286586139617",
         "-0.5754311298827239",
         "0.266573084669774",
         "0.414183760657474",
         "62.1",
         "0"
        ],
        [
         "4",
         "4",
         "-0.314818210584509",
         "0.866839147946057",
         "-0.124576641190369",
         "-0.627637706382175",
         "2.65176169221357",
         "3.4281277778015697",
         "0.194636636605662",
         "0.67067418797039",
         "-0.4426584148302249",
         "0.133498510544592",
         "0.148565758031525",
         "-0.474103184393633",
         "-0.0113190314368511",
         "-0.4102233050374699",
         "1.6489791462230603",
         "0.2183944633063219",
         "-0.239475290347652",
         "0.422932645839879",
         "1.27498607386185",
         "0.402328834108952",
         "-0.312773896986473",
         "-0.799494296210312",
         "-0.0644884326630717",
         "0.953062238181359",
         "-0.429550127615271",
         "0.158225104114658",
         "0.0769427356959346",
         "-0.0150512571594898",
         "2.67",
         "0"
        ]
       ],
       "shape": {
        "columns": 31,
        "rows": 5
       }
      },
      "text/html": [
       "<div>\n",
       "<style scoped>\n",
       "    .dataframe tbody tr th:only-of-type {\n",
       "        vertical-align: middle;\n",
       "    }\n",
       "\n",
       "    .dataframe tbody tr th {\n",
       "        vertical-align: top;\n",
       "    }\n",
       "\n",
       "    .dataframe thead th {\n",
       "        text-align: right;\n",
       "    }\n",
       "</style>\n",
       "<table border=\"1\" class=\"dataframe\">\n",
       "  <thead>\n",
       "    <tr style=\"text-align: right;\">\n",
       "      <th></th>\n",
       "      <th>Unnamed: 0</th>\n",
       "      <th>V1</th>\n",
       "      <th>V2</th>\n",
       "      <th>V3</th>\n",
       "      <th>V4</th>\n",
       "      <th>V5</th>\n",
       "      <th>V6</th>\n",
       "      <th>V7</th>\n",
       "      <th>V8</th>\n",
       "      <th>V9</th>\n",
       "      <th>...</th>\n",
       "      <th>V21</th>\n",
       "      <th>V22</th>\n",
       "      <th>V23</th>\n",
       "      <th>V24</th>\n",
       "      <th>V25</th>\n",
       "      <th>V26</th>\n",
       "      <th>V27</th>\n",
       "      <th>V28</th>\n",
       "      <th>Amount</th>\n",
       "      <th>Class</th>\n",
       "    </tr>\n",
       "  </thead>\n",
       "  <tbody>\n",
       "    <tr>\n",
       "      <th>0</th>\n",
       "      <td>0</td>\n",
       "      <td>1.176563</td>\n",
       "      <td>0.323798</td>\n",
       "      <td>0.536927</td>\n",
       "      <td>1.047002</td>\n",
       "      <td>-0.368652</td>\n",
       "      <td>-0.728586</td>\n",
       "      <td>0.084678</td>\n",
       "      <td>-0.069246</td>\n",
       "      <td>-0.266389</td>\n",
       "      <td>...</td>\n",
       "      <td>-0.109627</td>\n",
       "      <td>-0.341365</td>\n",
       "      <td>0.057845</td>\n",
       "      <td>0.499180</td>\n",
       "      <td>0.415211</td>\n",
       "      <td>-0.581949</td>\n",
       "      <td>0.015472</td>\n",
       "      <td>0.018065</td>\n",
       "      <td>4.67</td>\n",
       "      <td>0</td>\n",
       "    </tr>\n",
       "    <tr>\n",
       "      <th>1</th>\n",
       "      <td>1</td>\n",
       "      <td>0.681109</td>\n",
       "      <td>-3.934776</td>\n",
       "      <td>-3.801827</td>\n",
       "      <td>-1.147468</td>\n",
       "      <td>-0.735540</td>\n",
       "      <td>-0.501097</td>\n",
       "      <td>1.038865</td>\n",
       "      <td>-0.626979</td>\n",
       "      <td>-2.274423</td>\n",
       "      <td>...</td>\n",
       "      <td>0.652202</td>\n",
       "      <td>0.272684</td>\n",
       "      <td>-0.982151</td>\n",
       "      <td>0.165900</td>\n",
       "      <td>0.360251</td>\n",
       "      <td>0.195321</td>\n",
       "      <td>-0.256273</td>\n",
       "      <td>0.056501</td>\n",
       "      <td>912.00</td>\n",
       "      <td>0</td>\n",
       "    </tr>\n",
       "    <tr>\n",
       "      <th>2</th>\n",
       "      <td>2</td>\n",
       "      <td>1.140729</td>\n",
       "      <td>0.453484</td>\n",
       "      <td>0.247010</td>\n",
       "      <td>2.383132</td>\n",
       "      <td>0.343287</td>\n",
       "      <td>0.432804</td>\n",
       "      <td>0.093380</td>\n",
       "      <td>0.173310</td>\n",
       "      <td>-0.808999</td>\n",
       "      <td>...</td>\n",
       "      <td>-0.003802</td>\n",
       "      <td>0.058556</td>\n",
       "      <td>-0.121177</td>\n",
       "      <td>-0.304215</td>\n",
       "      <td>0.645893</td>\n",
       "      <td>0.122600</td>\n",
       "      <td>-0.012115</td>\n",
       "      <td>-0.005945</td>\n",
       "      <td>1.00</td>\n",
       "      <td>0</td>\n",
       "    </tr>\n",
       "    <tr>\n",
       "      <th>3</th>\n",
       "      <td>3</td>\n",
       "      <td>-1.107073</td>\n",
       "      <td>-3.298902</td>\n",
       "      <td>-0.184092</td>\n",
       "      <td>-1.795744</td>\n",
       "      <td>2.137564</td>\n",
       "      <td>-1.684992</td>\n",
       "      <td>-2.015606</td>\n",
       "      <td>-0.007181</td>\n",
       "      <td>-0.165760</td>\n",
       "      <td>...</td>\n",
       "      <td>0.130648</td>\n",
       "      <td>0.329445</td>\n",
       "      <td>0.927656</td>\n",
       "      <td>-0.049560</td>\n",
       "      <td>-1.892866</td>\n",
       "      <td>-0.575431</td>\n",
       "      <td>0.266573</td>\n",
       "      <td>0.414184</td>\n",
       "      <td>62.10</td>\n",
       "      <td>0</td>\n",
       "    </tr>\n",
       "    <tr>\n",
       "      <th>4</th>\n",
       "      <td>4</td>\n",
       "      <td>-0.314818</td>\n",
       "      <td>0.866839</td>\n",
       "      <td>-0.124577</td>\n",
       "      <td>-0.627638</td>\n",
       "      <td>2.651762</td>\n",
       "      <td>3.428128</td>\n",
       "      <td>0.194637</td>\n",
       "      <td>0.670674</td>\n",
       "      <td>-0.442658</td>\n",
       "      <td>...</td>\n",
       "      <td>-0.312774</td>\n",
       "      <td>-0.799494</td>\n",
       "      <td>-0.064488</td>\n",
       "      <td>0.953062</td>\n",
       "      <td>-0.429550</td>\n",
       "      <td>0.158225</td>\n",
       "      <td>0.076943</td>\n",
       "      <td>-0.015051</td>\n",
       "      <td>2.67</td>\n",
       "      <td>0</td>\n",
       "    </tr>\n",
       "  </tbody>\n",
       "</table>\n",
       "<p>5 rows × 31 columns</p>\n",
       "</div>"
      ],
      "text/plain": [
       "   Unnamed: 0        V1        V2        V3        V4        V5        V6  \\\n",
       "0           0  1.176563  0.323798  0.536927  1.047002 -0.368652 -0.728586   \n",
       "1           1  0.681109 -3.934776 -3.801827 -1.147468 -0.735540 -0.501097   \n",
       "2           2  1.140729  0.453484  0.247010  2.383132  0.343287  0.432804   \n",
       "3           3 -1.107073 -3.298902 -0.184092 -1.795744  2.137564 -1.684992   \n",
       "4           4 -0.314818  0.866839 -0.124577 -0.627638  2.651762  3.428128   \n",
       "\n",
       "         V7        V8        V9  ...       V21       V22       V23       V24  \\\n",
       "0  0.084678 -0.069246 -0.266389  ... -0.109627 -0.341365  0.057845  0.499180   \n",
       "1  1.038865 -0.626979 -2.274423  ...  0.652202  0.272684 -0.982151  0.165900   \n",
       "2  0.093380  0.173310 -0.808999  ... -0.003802  0.058556 -0.121177 -0.304215   \n",
       "3 -2.015606 -0.007181 -0.165760  ...  0.130648  0.329445  0.927656 -0.049560   \n",
       "4  0.194637  0.670674 -0.442658  ... -0.312774 -0.799494 -0.064488  0.953062   \n",
       "\n",
       "        V25       V26       V27       V28  Amount  Class  \n",
       "0  0.415211 -0.581949  0.015472  0.018065    4.67      0  \n",
       "1  0.360251  0.195321 -0.256273  0.056501  912.00      0  \n",
       "2  0.645893  0.122600 -0.012115 -0.005945    1.00      0  \n",
       "3 -1.892866 -0.575431  0.266573  0.414184   62.10      0  \n",
       "4 -0.429550  0.158225  0.076943 -0.015051    2.67      0  \n",
       "\n",
       "[5 rows x 31 columns]"
      ]
     },
     "execution_count": 13,
     "metadata": {},
     "output_type": "execute_result"
    }
   ],
   "source": [
    "import pandas as pd\n",
    "\n",
    "df=pd.read_csv('..\\\\data\\\\fraud.csv', index_col = 0)\n",
    "df.head()"
   ]
  },
  {
   "cell_type": "code",
   "execution_count": null,
   "metadata": {},
   "outputs": [
    {
     "data": {
      "text/plain": [
       "array([  4.67, 912.  ,   1.  , ..., 131.1 ,   4.49,  14.9 ],\n",
       "      shape=(21693,))"
      ]
     },
     "execution_count": 14,
     "metadata": {},
     "output_type": "execute_result"
    }
   ],
   "source": [
    "y = df['Amount'].values\n",
    "X = df.drop(columns = ['Class','Amount']).values"
   ]
  },
  {
   "cell_type": "code",
   "execution_count": 15,
   "metadata": {},
   "outputs": [],
   "source": [
    "from sklearn.model_selection import train_test_split\n",
    "from sklearn.preprocessing import StandardScaler\n",
    "\n",
    "scaler = StandardScaler()\n",
    "X_scaled = scaler.fit_transform(X)\n",
    "X_train, X_test, y_train, y_test = train_test_split(X_scaled,y, \n",
    "                                    test_size = 0.40, \n",
    "                                    random_state=1)"
   ]
  },
  {
   "cell_type": "code",
   "execution_count": null,
   "metadata": {},
   "outputs": [
    {
     "name": "stdout",
     "output_type": "stream",
     "text": [
      "Linear Regression - MSE: 9444.622180449314, MAE: 25.595588193473905, R2: 0.8494533237258529\n"
     ]
    }
   ],
   "source": [
    "from sklearn.linear_model import LinearRegression\n",
    "from sklearn.metrics import mean_squared_error,mean_absolute_error\n",
    "\n",
    "#--------------------------------------------------\n",
    "## ------------Linear Regression----------------## \n",
    "#--------------------------------------------------\n",
    "\n",
    "lr = LinearRegression()\n",
    "model=lr.fit(X_train, y_train)\n"
   ]
  },
  {
   "cell_type": "code",
   "execution_count": 23,
   "metadata": {},
   "outputs": [
    {
     "name": "stdout",
     "output_type": "stream",
     "text": [
      "Linear Regression - MSE: 9444.622180449314, MAE: 25.595588193473905, R2: 0.8494533237258529\n",
      "Linear Regression (Train) - MSE: 4513.565704144942, MAE: 24.517804062170683, R2: 0.9110053889582147\n"
     ]
    }
   ],
   "source": [
    "y_pred_linear = model.predict(X_test)\n",
    "mse_linear = mean_squared_error(y_test, y_pred_linear)\n",
    "mae_linear = mean_absolute_error(y_test, y_pred_linear)\n",
    "r2_score_linear = lr.score(X_test, y_test)\n",
    "print(f\"Linear Regression - MSE: {mse_linear}, MAE: {mae_linear}, R2: {r2_score_linear}\")\n",
    "\n",
    "y_pred_linear_train = model.predict(X_train)\n",
    "mse_linear_train = mean_squared_error(y_train, y_pred_linear_train)\n",
    "mae_linear_train = mean_absolute_error(y_train, y_pred_linear_train)\n",
    "r2_score_linear_train = lr.score(X_train, y_train)\n",
    "print(f\"Linear Regression (Train) - MSE: {mse_linear_train}, MAE: {mae_linear_train}, R2: {r2_score_linear_train}\")\n"
   ]
  },
  {
   "cell_type": "code",
   "execution_count": 24,
   "metadata": {},
   "outputs": [],
   "source": [
    "#--------------------------------------------------\n",
    "# ------------Polynomial Regression----------------## \n",
    "#--------------------------------------------------\n",
    "from sklearn.preprocessing import PolynomialFeatures\n",
    "order = 2\n",
    "poly = PolynomialFeatures(degree=order, include_bias=False)\n",
    "poly_features = poly.fit_transform(X_train)\n",
    "\n",
    "poly_model=lr.fit(poly_features, y_train)"
   ]
  },
  {
   "cell_type": "code",
   "execution_count": 25,
   "metadata": {},
   "outputs": [
    {
     "name": "stdout",
     "output_type": "stream",
     "text": [
      "Polynomial Regression - MSE: 12438.37867862264, MAE: 10.97069731460159, R2: 0.8017330357394168\n",
      "Polynomial Regression (Train) - MSE: 234.60493602399396, MAE: 7.42997462856331, R2: 0.9953742614158104\n"
     ]
    }
   ],
   "source": [
    "y_pred_poly = poly_model.predict(poly.fit_transform(X_test))\n",
    "mse_poly = mean_squared_error(y_test, y_pred_poly)\n",
    "mae_poly = mean_absolute_error(y_test, y_pred_poly)\n",
    "r2_score_poly = poly_model.score(poly.fit_transform(X_test), y_test)\n",
    "print(f\"Polynomial Regression - MSE: {mse_poly}, MAE: {mae_poly}, R2: {r2_score_poly}\")\n",
    "\n",
    "y_pred_poly_train = poly_model.predict(poly.fit_transform(X_train))\n",
    "mse_poly_train = mean_squared_error(y_train, y_pred_poly_train)\n",
    "mae_poly_train = mean_absolute_error(y_train, y_pred_poly_train)\n",
    "r2_score_poly_train = poly_model.score(poly.fit_transform(X_train), y_train)\n",
    "print(f\"Polynomial Regression (Train) - MSE: {mse_poly_train}, MAE: {mae_poly_train}, R2: {r2_score_poly_train}\")\n"
   ]
  }
 ],
 "metadata": {
  "kernelspec": {
   "display_name": "Python 3",
   "language": "python",
   "name": "python3"
  },
  "language_info": {
   "codemirror_mode": {
    "name": "ipython",
    "version": 3
   },
   "file_extension": ".py",
   "mimetype": "text/x-python",
   "name": "python",
   "nbconvert_exporter": "python",
   "pygments_lexer": "ipython3",
   "version": "3.12.10"
  },
  "orig_nbformat": 4
 },
 "nbformat": 4,
 "nbformat_minor": 2
}
