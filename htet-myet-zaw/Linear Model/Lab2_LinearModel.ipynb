{
  "cells": [
    {
      "cell_type": "code",
      "execution_count": 2,
      "metadata": {
        "id": "M4EInOB3hkb9",
        "outputId": "c011e9ec-31e8-41bd-969e-e774776b5f20",
        "colab": {
          "base_uri": "https://localhost:8080/"
        }
      },
      "outputs": [
        {
          "output_type": "stream",
          "name": "stdout",
          "text": [
            "[3.68334078 2.90625242 0.14194772] 14.497142857142856\n",
            "MAE on test: 1.5116692224549082\n",
            "MSE on test: 3.796797236715221\n",
            "R2 score on test: 0.8609466508230368\n",
            "MSE on train: 1.1581502948072526\n",
            "MSE on train: 2.4793551789057866\n",
            "R2 score on train: 0.9055159502227753\n"
          ]
        }
      ],
      "source": [
        "import pandas as pd\n",
        "from sklearn.model_selection import train_test_split\n",
        "from sklearn.preprocessing import StandardScaler\n",
        "from sklearn.linear_model import LinearRegression\n",
        "from sklearn.metrics import mean_absolute_error, mean_squared_error, r2_score\n",
        "\n",
        "df = pd.read_csv('/content/sample_data/Advertising.csv')\n",
        "\n",
        "X = df[['TV', 'radio', 'newspaper']].values\n",
        "y = df['sales'].values\n",
        "\n",
        "X_train, X_test, y_train, y_test = train_test_split(X, y, test_size=0.3, random_state=42)\n",
        "\n",
        "scale = StandardScaler()\n",
        "X_train_scaled = scale.fit_transform(X_train)\n",
        "\n",
        "lr = LinearRegression()\n",
        "lr.fit(X_train_scaled, y_train)\n",
        "\n",
        "print(lr.coef_, lr.intercept_)\n",
        "\n",
        "X_test_scaled = scale.transform(X_test)\n",
        "y_test_pred = lr.predict(X_test_scaled)\n",
        "mae = mean_absolute_error(y_test, y_test_pred)\n",
        "print('MAE on test:', mae)\n",
        "\n",
        "mse = mean_squared_error(y_test, y_test_pred)\n",
        "print('MSE on test:', mse)\n",
        "\n",
        "r2 = r2_score(y_test, y_test_pred)\n",
        "print('R2 score on test:', r2)\n",
        "\n",
        "y_train_pred = lr.predict(X_train_scaled)\n",
        "mae = mean_absolute_error(y_train, y_train_pred)\n",
        "print(\"MSE on train:\", mae)\n",
        "\n",
        "mse = mean_squared_error(y_train, y_train_pred)\n",
        "print('MSE on train:', mse)\n",
        "\n",
        "r2 = r2_score(y_train, y_train_pred)\n",
        "print('R2 score on train:', r2)\n",
        "\n",
        "\n"
      ]
    }
  ],
  "metadata": {
    "kernelspec": {
      "display_name": ".venv",
      "language": "python",
      "name": "python3"
    },
    "language_info": {
      "codemirror_mode": {
        "name": "ipython",
        "version": 3
      },
      "file_extension": ".py",
      "mimetype": "text/x-python",
      "name": "python",
      "nbconvert_exporter": "python",
      "pygments_lexer": "ipython3",
      "version": "3.12.2"
    },
    "orig_nbformat": 4,
    "colab": {
      "provenance": []
    }
  },
  "nbformat": 4,
  "nbformat_minor": 0
}