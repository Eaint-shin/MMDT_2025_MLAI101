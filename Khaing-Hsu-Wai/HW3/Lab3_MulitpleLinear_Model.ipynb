{
 "cells": [
  {
   "cell_type": "code",
   "execution_count": 1,
   "metadata": {},
   "outputs": [],
   "source": [
    "import pandas as pd\n",
    "\n",
    "df=pd.read_csv('/Users/putuu/Documents/Github_Repo/MMDT_2025_MLAI101/Khaing-Hsu-Wai/data/house_data_fs.csv', index_col = 0)\n",
    "df = df.dropna()\n",
    "\n",
    "X = df[['bedrooms', 'sqft_living']].values\n",
    "Y = df['price'].values"
   ]
  },
  {
   "cell_type": "code",
   "execution_count": 14,
   "metadata": {},
   "outputs": [
    {
     "name": "stdout",
     "output_type": "stream",
     "text": [
      "Missing values per column:\n",
      "price           0\n",
      "bedrooms       13\n",
      "sqft_living     0\n",
      "dtype: int64\n",
      "\n",
      "Total missing values: 13\n"
     ]
    }
   ],
   "source": [
    "import pandas as pd\n",
    "\n",
    "# Load the CSV file (same as your original code)\n",
    "df = pd.read_csv('/Users/putuu/Documents/Github_Repo/MMDT_2025_MLAI101/Khaing-Hsu-Wai/data/house_data_fs.csv', index_col=0)\n",
    "\n",
    "# Check missing values for each column\n",
    "print(\"Missing values per column:\")\n",
    "print(df.isnull().sum())\n",
    "\n",
    "# Check total missing values\n",
    "total_missing = df.isnull().sum().sum()\n",
    "print(\"\\nTotal missing values:\", total_missing)"
   ]
  },
  {
   "cell_type": "code",
   "execution_count": 4,
   "metadata": {},
   "outputs": [
    {
     "name": "stdout",
     "output_type": "stream",
     "text": [
      "Index(['price', 'bedrooms', 'sqft_living'], dtype='object')\n",
      "3\n"
     ]
    }
   ],
   "source": [
    "print(df.columns)\n",
    "print(df.shape[1])\n"
   ]
  },
  {
   "cell_type": "code",
   "execution_count": 5,
   "metadata": {},
   "outputs": [],
   "source": [
    "from sklearn.preprocessing import StandardScaler\n",
    "\n",
    "scaler = StandardScaler()\n",
    "X_scaled = scaler.fit_transform(X)"
   ]
  },
  {
   "cell_type": "code",
   "execution_count": 6,
   "metadata": {},
   "outputs": [
    {
     "name": "stdout",
     "output_type": "stream",
     "text": [
      "[-53567.44561984 288667.55112691] 540166.7341666666\n",
      "[235932.46722026]\n"
     ]
    }
   ],
   "source": [
    "from sklearn.linear_model import LinearRegression\n",
    "\n",
    "lr = LinearRegression()\n",
    "lr.fit(X_scaled, Y)\n",
    "print(lr.coef_, lr.intercept_)\n",
    "\n",
    "X_test = [[2, 860]]\n",
    "X_test_scaled = scaler.transform(X_test)\n",
    "yp=lr.predict(X_test_scaled)\n",
    "print(yp)"
   ]
  },
  {
   "cell_type": "code",
   "execution_count": null,
   "metadata": {},
   "outputs": [
    {
     "name": "stdout",
     "output_type": "stream",
     "text": [
      "38\n",
      "Number of matching houses: 38\n",
      "Average price: 303760.2105263158\n"
     ]
    }
   ],
   "source": [
    "df1=df[(df['bedrooms'] == 2) & (df['sqft_living'] == 860)]\n",
    "print(len(df1))\n",
    "print(\"Number of matching houses:\", df1.shape[0])\n",
    "\n",
    "df1_avg = df1['price'].mean()\n",
    "print(\"Average price:\", df1_avg)  "
   ]
  },
  {
   "cell_type": "code",
   "execution_count": 13,
   "metadata": {},
   "outputs": [
    {
     "name": "stdout",
     "output_type": "stream",
     "text": [
      "r2-score is: 0.5068463227480232\n",
      "mean squared error is: 66465040515.6965\n",
      "mean absolute error is: 170271.09681228662\n"
     ]
    },
    {
     "name": "stderr",
     "output_type": "stream",
     "text": [
      "/Users/putuu/Documents/Github_Repo/.venv/lib/python3.13/site-packages/sklearn/linear_model/_base.py:280: RuntimeWarning: divide by zero encountered in matmul\n",
      "  return X @ coef_ + self.intercept_\n",
      "/Users/putuu/Documents/Github_Repo/.venv/lib/python3.13/site-packages/sklearn/linear_model/_base.py:280: RuntimeWarning: overflow encountered in matmul\n",
      "  return X @ coef_ + self.intercept_\n",
      "/Users/putuu/Documents/Github_Repo/.venv/lib/python3.13/site-packages/sklearn/linear_model/_base.py:280: RuntimeWarning: invalid value encountered in matmul\n",
      "  return X @ coef_ + self.intercept_\n"
     ]
    }
   ],
   "source": [
    "from sklearn.metrics import r2_score\n",
    "from sklearn.metrics import mean_absolute_error\n",
    "from sklearn.metrics import mean_squared_error\n",
    "\n",
    "Y_pred = lr.predict(X_scaled)\n",
    "rscore = r2_score(Y, Y_pred)\n",
    "mse = mean_squared_error(Y, Y_pred)\n",
    "mae = mean_absolute_error(Y, Y_pred)\n",
    "\n",
    "#print('r2-score:', rscore, '\\nmean squared error:', mse, '\\nmean absolute error:', mae)\n",
    "print('r2-score is:', rscore)\n",
    "print('mean squared error is:', mse)\n",
    "print('mean absolute error is:', mae)"
   ]
  },
  {
   "cell_type": "code",
   "execution_count": null,
   "metadata": {},
   "outputs": [
    {
     "name": "stdout",
     "output_type": "stream",
     "text": [
      "Any NaN in X_scaled: False\n",
      "Any Inf in X_scaled: False\n",
      "Max value: 31.9728068612241\n",
      "Min value: -2.5607383167723214\n"
     ]
    }
   ],
   "source": [
    "import numpy as np\n",
    "print(\"Any NaN in X_scaled:\", np.isnan(X_scaled).any())\n",
    "print(\"Any Inf in X_scaled:\", np.isinf(X_scaled).any())\n",
    "print(\"Max value:\", np.max(X_scaled))\n",
    "print(\"Min value:\", np.min(X_scaled))"
   ]
  },
  {
   "cell_type": "code",
   "execution_count": null,
   "metadata": {},
   "outputs": [
    {
     "name": "stdout",
     "output_type": "stream",
     "text": [
      "Max sqft_living: 13540\n",
      "Min sqft_living: 370\n"
     ]
    }
   ],
   "source": [
    "print(\"Max sqft_living:\", df['sqft_living'].max())\n",
    "print(\"Min sqft_living:\", df['sqft_living'].min())"
   ]
  }
 ],
 "metadata": {
  "kernelspec": {
   "display_name": ".venv",
   "language": "python",
   "name": "python3"
  },
  "language_info": {
   "codemirror_mode": {
    "name": "ipython",
    "version": 3
   },
   "file_extension": ".py",
   "mimetype": "text/x-python",
   "name": "python",
   "nbconvert_exporter": "python",
   "pygments_lexer": "ipython3",
   "version": "3.13.5"
  },
  "orig_nbformat": 4
 },
 "nbformat": 4,
 "nbformat_minor": 2
}
