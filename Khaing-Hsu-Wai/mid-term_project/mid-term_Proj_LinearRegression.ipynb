{
 "cells": [
  {
   "cell_type": "code",
   "execution_count": 4,
   "id": "e49766be",
   "metadata": {},
   "outputs": [],
   "source": [
    "import pandas as pd\n",
    "import numpy as np\n",
    "import re\n",
    "from sklearn.model_selection import train_test_split\n",
    "from sklearn.linear_model import LinearRegression\n",
    "from sklearn.preprocessing import StandardScaler\n",
    "from sklearn.metrics import r2_score, mean_absolute_error, mean_squared_error\n",
    "import joblib"
   ]
  },
  {
   "cell_type": "code",
   "execution_count": 5,
   "id": "d5724db8",
   "metadata": {},
   "outputs": [
    {
     "name": "stdout",
     "output_type": "stream",
     "text": [
      "\n",
      "Model with Category Feature\n",
      "X_train shape: (182, 18)\n",
      "X_test shape: (78, 18)\n",
      "R² Score: 0.9996\n",
      "MAE: 3.81\n",
      "MSE: 26.35\n",
      "\n",
      "Model, scaler, and category columns saved successfully!\n"
     ]
    },
    {
     "name": "stderr",
     "output_type": "stream",
     "text": [
      "/Users/putuu/Documents/Github_Repo/.venv/lib/python3.13/site-packages/sklearn/linear_model/_base.py:280: RuntimeWarning: divide by zero encountered in matmul\n",
      "  return X @ coef_ + self.intercept_\n",
      "/Users/putuu/Documents/Github_Repo/.venv/lib/python3.13/site-packages/sklearn/linear_model/_base.py:280: RuntimeWarning: overflow encountered in matmul\n",
      "  return X @ coef_ + self.intercept_\n",
      "/Users/putuu/Documents/Github_Repo/.venv/lib/python3.13/site-packages/sklearn/linear_model/_base.py:280: RuntimeWarning: invalid value encountered in matmul\n",
      "  return X @ coef_ + self.intercept_\n"
     ]
    }
   ],
   "source": [
    "# Load dataset\n",
    "df = pd.read_csv('Mc.Donalds_menu.csv')\n",
    "\n",
    "# Extract grams from Serving Size\n",
    "def extract_grams_extended(serving):\n",
    "    serving = str(serving)\n",
    "    match_g = re.search(r'(\\d+)\\s*g', serving)\n",
    "    if match_g:\n",
    "        return int(match_g.group(1))\n",
    "    match_oz = re.search(r'(\\d+)\\s*fl\\s*oz', serving)\n",
    "    if match_oz:\n",
    "        return int(int(match_oz.group(1)) * 29.57)\n",
    "    match_ml = re.search(r'(\\d+)\\s*ml', serving)\n",
    "    if match_ml:\n",
    "        return int(match_ml.group(1))\n",
    "    return None\n",
    "\n",
    "df['Serving Size (g)'] = df['Serving Size'].apply(extract_grams_extended)\n",
    "\n",
    "# Define features\n",
    "numeric_features = [\n",
    "    'Calories from Fat', 'Total Fat', 'Total Fat (% Daily Value)',\n",
    "    'Saturated Fat', 'Saturated Fat (% Daily Value)', 'Protein',\n",
    "    'Carbohydrates', 'Carbohydrates (% Daily Value)',\n",
    "    'Sodium', 'Sodium (% Daily Value)'\n",
    "]\n",
    "target_col = 'Calories'\n",
    "\n",
    "# Drop rows with missing data\n",
    "df_clean = df[numeric_features + ['Category', target_col]].dropna()\n",
    "\n",
    "# One-hot encode 'Category'\n",
    "category_dummies = pd.get_dummies(df_clean['Category'], drop_first=True).astype(int)\n",
    "category_columns = category_dummies.columns.tolist()\n",
    "\n",
    "# Combine features\n",
    "X = pd.concat([df_clean[numeric_features], category_dummies], axis=1).values\n",
    "y = df_clean[target_col].values\n",
    "\n",
    "# Train-test split\n",
    "X_train, X_test, y_train, y_test = train_test_split(X, y, test_size=0.3, random_state=42)\n",
    "\n",
    "# Standardize\n",
    "scaler = StandardScaler()\n",
    "X_train_scaled = scaler.fit_transform(X_train)\n",
    "X_test_scaled = scaler.transform(X_test)\n",
    "\n",
    "# Train model\n",
    "model = LinearRegression()\n",
    "model.fit(X_train_scaled, y_train)\n",
    "\n",
    "# Predict\n",
    "y_pred = model.predict(X_test_scaled)\n",
    "\n",
    "# Evaluation\n",
    "print(\"\\nModel with Category Feature\")\n",
    "print(f\"X_train shape: {X_train.shape}\")\n",
    "print(f\"X_test shape: {X_test.shape}\")\n",
    "print(f\"R² Score: {r2_score(y_test, y_pred):.4f}\")\n",
    "print(f\"MAE: {mean_absolute_error(y_test, y_pred):.2f}\")\n",
    "print(f\"MSE: {mean_squared_error(y_test, y_pred):.2f}\")\n",
    "\n",
    "# Save model, scaler, and category column names\n",
    "joblib.dump(model, 'model_with_category.pkl')\n",
    "joblib.dump(scaler, 'scaler_with_category.pkl')\n",
    "joblib.dump(category_columns, 'category_columns.pkl')\n",
    "\n",
    "print(\"\\nModel, scaler, and category columns saved successfully!\")\n"
   ]
  },
  {
   "cell_type": "code",
   "execution_count": null,
   "id": "0a7ffe16",
   "metadata": {},
   "outputs": [
    {
     "name": "stdout",
     "output_type": "stream",
     "text": [
      "Predicted Calories: 555.37\n"
     ]
    },
    {
     "name": "stderr",
     "output_type": "stream",
     "text": [
      "/Users/putuu/Documents/Github_Repo/.venv/lib/python3.13/site-packages/sklearn/utils/validation.py:2742: UserWarning: X has feature names, but StandardScaler was fitted without feature names\n",
      "  warnings.warn(\n"
     ]
    }
   ],
   "source": [
    "import joblib\n",
    "\n",
    "# Load saved model, scaler, and category columns\n",
    "model = joblib.load('model_with_category.pkl')\n",
    "scaler = joblib.load('scaler_with_category.pkl')\n",
    "category_columns = joblib.load('category_columns.pkl')\n",
    "\n",
    "# new data for prediction \n",
    "new_data_dict = {\n",
    "    'Calories from Fat': [300],\n",
    "    'Total Fat': [33],\n",
    "    'Total Fat (% Daily Value)': [51],\n",
    "    'Saturated Fat': [12],\n",
    "    'Saturated Fat (% Daily Value)': [60],\n",
    "    'Protein': [25],\n",
    "    'Carbohydrates': [40],\n",
    "    'Carbohydrates (% Daily Value)': [13],\n",
    "    'Sodium': [800],\n",
    "    'Sodium (% Daily Value)': [35],\n",
    "    'Category': ['Chicken & Fish']  # New item category\n",
    "}\n",
    "\n",
    "# Convert to DataFrame\n",
    "new_df = pd.DataFrame(new_data_dict)\n",
    "\n",
    "# One-hot encode the Category column\n",
    "category_df = pd.get_dummies(new_df['Category'])\n",
    "for col in category_columns:\n",
    "    if col not in category_df:\n",
    "        category_df[col] = 0  # Add missing columns with 0\n",
    "category_df = category_df[category_columns]  # Ensure column order\n",
    "\n",
    "# Combine numeric features and encoded category features\n",
    "numeric_features = [\n",
    "    'Calories from Fat', 'Total Fat', 'Total Fat (% Daily Value)',\n",
    "    'Saturated Fat', 'Saturated Fat (% Daily Value)', 'Protein',\n",
    "    'Carbohydrates', 'Carbohydrates (% Daily Value)',\n",
    "    'Sodium', 'Sodium (% Daily Value)'\n",
    "]\n",
    "X_new = pd.concat([new_df[numeric_features], category_df], axis=1)\n",
    "\n",
    "# Scale using saved scaler\n",
    "X_new_scaled = scaler.transform(X_new)\n",
    "\n",
    "# Predict calories\n",
    "predicted_calories = model.predict(X_new_scaled)\n",
    "print(f\"Predicted Calories: {predicted_calories[0]:.2f}\")"
   ]
  }
 ],
 "metadata": {
  "kernelspec": {
   "display_name": ".venv",
   "language": "python",
   "name": "python3"
  },
  "language_info": {
   "codemirror_mode": {
    "name": "ipython",
    "version": 3
   },
   "file_extension": ".py",
   "mimetype": "text/x-python",
   "name": "python",
   "nbconvert_exporter": "python",
   "pygments_lexer": "ipython3",
   "version": "3.13.5"
  }
 },
 "nbformat": 4,
 "nbformat_minor": 5
}
