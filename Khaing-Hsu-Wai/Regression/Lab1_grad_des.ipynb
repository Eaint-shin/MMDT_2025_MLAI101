{
  "cells": [
    {
      "cell_type": "markdown",
      "id": "6646e59c",
      "metadata": {
        "colab_type": "text",
        "id": "view-in-github"
      },
      "source": [
        "<a href=\"https://colab.research.google.com/github/Khaing-Hsu-Wai/MMDT_2025_MLAI101/blob/khainghsuwai/Regression/Lab1_grad_des.ipynb\" target=\"_parent\"><img src=\"https://colab.research.google.com/assets/colab-badge.svg\" alt=\"Open In Colab\"/></a>"
      ]
    },
    {
      "cell_type": "code",
      "execution_count": 2,
      "id": "84dd2f47-4d52-4fe5-81b1-6798ed2dcf0e",
      "metadata": {
        "colab": {
          "base_uri": "https://localhost:8080/"
        },
        "id": "84dd2f47-4d52-4fe5-81b1-6798ed2dcf0e",
        "outputId": "c989dfe4-2f98-42f7-fcc3-3106adb7d4f3"
      },
      "outputs": [
        {
          "data": {
            "text/plain": [
              "Index(['TV', 'radio', 'newspaper', 'sales'], dtype='object')"
            ]
          },
          "execution_count": 2,
          "metadata": {},
          "output_type": "execute_result"
        }
      ],
      "source": [
        "#import the required libraries\n",
        "import pandas as pd\n",
        "import numpy as np\n",
        "import matplotlib.pyplot as plt\n",
        "import seaborn as sns\n",
        "import random\n",
        "import math\n",
        "\n",
        "#read the data\n",
        "df=pd.read_csv('/Users/putuu/Documents/Github_Repo/MMDT_2025_MLAI101/Khaing-Hsu-Wai/Regression/data/Advertising.csv', index_col = 0)\n",
        "df.columns"
      ]
    },
    {
      "cell_type": "code",
      "execution_count": 3,
      "id": "40638276-e31c-41a7-a769-48359633d35f",
      "metadata": {
        "colab": {
          "base_uri": "https://localhost:8080/"
        },
        "id": "40638276-e31c-41a7-a769-48359633d35f",
        "outputId": "73e87236-966f-4b1c-e559-0f4c6a872132"
      },
      "outputs": [
        {
          "name": "stdout",
          "output_type": "stream",
          "text": [
            "   radio\n",
            "1   37.8\n",
            "2   39.3\n",
            "3   45.9\n",
            "4   41.3\n",
            "5   10.8\n",
            "      radio\n",
            "1  0.979066\n",
            "2  1.080097\n",
            "3  1.524637\n",
            "4  1.214806\n",
            "5 -0.839507\n"
          ]
        }
      ],
      "source": [
        "#get the feature column name\n",
        "sel_program = 'radio'\n",
        "X=df[[sel_program]]\n",
        "\n",
        "#get the target variables and standardize it\n",
        "Y=df['sales']\n",
        "Y=np.array((Y-Y.mean())/Y.std())\n",
        "#X = np.array((X-X.mean())/X.std())\n",
        "\n",
        "print(X.head())\n",
        "\n",
        "#standardize X\n",
        "X=X.apply(lambda rec:(rec-rec.mean())/rec.std(),axis=0)\n",
        "print(X.head())"
      ]
    },
    {
      "cell_type": "code",
      "execution_count": 4,
      "id": "f600d27a-7964-412e-bd36-3aeafa582b3f",
      "metadata": {
        "id": "f600d27a-7964-412e-bd36-3aeafa582b3f"
      },
      "outputs": [],
      "source": [
        "#randomly initialize bias (b) and weight(s) (a) for the model\n",
        "def initialize(dim):\n",
        "    b=random.random()\n",
        "    a=np.random.rand(dim)\n",
        "    return b,a"
      ]
    },
    {
      "cell_type": "code",
      "execution_count": 5,
      "id": "cdaa0f71-0fdc-4bfe-9239-657c200e2d35",
      "metadata": {
        "id": "cdaa0f71-0fdc-4bfe-9239-657c200e2d35"
      },
      "outputs": [],
      "source": [
        "#predict Y values using current bias (b), weights (a), and input features (X)\n",
        "def predict_Y(b,a,X):\n",
        "    return b + np.dot(X,a)"
      ]
    },
    {
      "cell_type": "code",
      "execution_count": 6,
      "id": "51e800ff-8b1e-4c61-9d17-4486d2499102",
      "metadata": {
        "id": "51e800ff-8b1e-4c61-9d17-4486d2499102"
      },
      "outputs": [],
      "source": [
        "#calculate the mean squared error (cost) between predicted and true Y values\n",
        "def get_cost(Y,Y_hat):\n",
        "    Y_resd=Y-Y_hat\n",
        "    return np.sum(np.dot(Y_resd.T,Y_resd))/len(Y)"
      ]
    },
    {
      "cell_type": "code",
      "execution_count": 7,
      "id": "745881b3-acdd-4ff8-971b-1f13dbb750ff",
      "metadata": {
        "id": "745881b3-acdd-4ff8-971b-1f13dbb750ff"
      },
      "outputs": [],
      "source": [
        "#update bias (b) and weight (theta) using gradient descent based on prediction error\n",
        "def update_theta(x,y,y_hat,b_0,theta_o,learning_rate):\n",
        "    db=(np.sum(y_hat-y)*2)/len(y)\n",
        "    dw=(np.dot((y_hat-y),x)*2)/len(y)\n",
        "    b_1=b_0-learning_rate*db\n",
        "    theta_1=theta_o-learning_rate*dw\n",
        "    return b_1,theta_1"
      ]
    },
    {
      "cell_type": "code",
      "execution_count": 9,
      "id": "a69da9b3-c076-4d7b-be46-ad4424a8b408",
      "metadata": {
        "colab": {
          "base_uri": "https://localhost:8080/"
        },
        "id": "a69da9b3-c076-4d7b-be46-ad4424a8b408",
        "outputId": "20e4ecb2-14e7-4a32-969a-dd63023c1b3c"
      },
      "outputs": [
        {
          "name": "stdout",
          "output_type": "stream",
          "text": [
            "     iteration   value_b  value_weight      cost\n",
            "0          0.0  0.138143      0.186735  0.841632\n",
            "1          1.0  0.135380      0.194486  0.834653\n",
            "2          2.0  0.132672      0.202082  0.827950\n",
            "3          3.0  0.130019      0.209527  0.821511\n",
            "4          4.0  0.127419      0.216825  0.815326\n",
            "..         ...       ...           ...       ...\n",
            "218      218.0  0.001689      0.571354  0.664655\n",
            "219      219.0  0.001655      0.571450  0.664654\n",
            "220      220.0  0.001622      0.571545  0.664653\n",
            "221      221.0  0.001590      0.571639  0.664652\n",
            "222      222.0  0.001558      0.571730  0.664651\n",
            "\n",
            "[223 rows x 4 columns]\n"
          ]
        }
      ],
      "source": [
        "#run gradient descent to optimize bias (b) and weight(s) (theta), and return the training history\n",
        "def run_gradient_descent(X,Y,alpha,num_iterations):\n",
        "    tolerance = 1e-06\n",
        "    b,theta=initialize(X.shape[1])\n",
        "\n",
        "    gd_iterations_df=pd.DataFrame(columns=['iteration','value_b', 'value_weight', 'cost'])\n",
        "    result_idx=0\n",
        "    prev_cost =0\n",
        "\n",
        "    for iter_num in range(num_iterations):\n",
        "        Y_hat=predict_Y(b,theta,X)\n",
        "        this_cost=get_cost(Y,Y_hat)\n",
        "        prev_b=b\n",
        "        prev_theta=theta\n",
        "        b,theta=update_theta(X,Y,Y_hat,prev_b,prev_theta,alpha)\n",
        "        gd_iterations_df.loc[result_idx]=[iter_num,b, theta[0], this_cost]\n",
        "        result_idx=result_idx+1\n",
        "        if (np.abs(this_cost  - prev_cost )<= tolerance):\n",
        "            break\n",
        "        prev_cost = this_cost\n",
        "    return gd_iterations_df,b,theta\n",
        "\n",
        "\n",
        "#run the gradient descent with learning rate 0.01 and up to 400 iterations\n",
        "gd_iterations_df,b,theta=run_gradient_descent(X,Y,alpha=0.01,num_iterations=400)\n",
        "\n",
        "print(gd_iterations_df)"
      ]
    },
    {
      "cell_type": "code",
      "execution_count": 10,
      "id": "095c1e69-3f88-4216-93b1-937c2f660ec8",
      "metadata": {
        "colab": {
          "base_uri": "https://localhost:8080/",
          "height": 468
        },
        "id": "095c1e69-3f88-4216-93b1-937c2f660ec8",
        "outputId": "2ce69d1f-646a-48b3-b778-f647f4cbe3e5"
      },
      "outputs": [
        {
          "data": {
            "text/plain": [
              "<Axes: xlabel='value_weight', ylabel='cost'>"
            ]
          },
          "execution_count": 10,
          "metadata": {},
          "output_type": "execute_result"
        },
        {
          "data": {
            "image/png": "[encoded data removed]",
            "text/plain": [
              "<Figure size 640x480 with 1 Axes>"
            ]
          },
          "metadata": {},
          "output_type": "display_data"
        }
      ],
      "source": [
        "#can check how the weight value changes the cost during gradient descent\n",
        "sns.scatterplot(data=gd_iterations_df, x=\"value_weight\", y=\"cost\")"
      ]
    },
    {
      "cell_type": "code",
      "execution_count": 11,
      "id": "9de3d8f6-9405-435b-abbe-c358554c70a4",
      "metadata": {
        "colab": {
          "base_uri": "https://localhost:8080/"
        },
        "id": "9de3d8f6-9405-435b-abbe-c358554c70a4",
        "outputId": "bf8dfd44-2c76-4ef5-ec0b-65c34ea21094"
      },
      "outputs": [
        {
          "name": "stdout",
          "output_type": "stream",
          "text": [
            "value_b         0.001558\n",
            "value_weight    0.571730\n",
            "Name: 222, dtype: float64\n",
            "0.5717297411351256\n"
          ]
        }
      ],
      "source": [
        "#find the iteration with the lowest cost and get the best bias and weight values\n",
        "idx = gd_iterations_df['cost'].argmin()\n",
        "best_parameters = gd_iterations_df.loc[idx, ['value_b', 'value_weight']]\n",
        "best_parameters['value_weight']\n",
        "print(best_parameters)\n",
        "print(best_parameters['value_weight'])"
      ]
    },
    {
      "cell_type": "code",
      "execution_count": 12,
      "id": "deb46d54-f209-4117-a407-7df5128810d6",
      "metadata": {
        "colab": {
          "base_uri": "https://localhost:8080/"
        },
        "id": "deb46d54-f209-4117-a407-7df5128810d6",
        "outputId": "994a185d-4f31-4db4-9bce-b56b3e6b52d2"
      },
      "outputs": [
        {
          "name": "stdout",
          "output_type": "stream",
          "text": [
            "1      7.196715\n",
            "2      7.476817\n",
            "3      8.709267\n",
            "4      7.850287\n",
            "5      2.154878\n",
            "         ...   \n",
            "196    0.829061\n",
            "197    1.053143\n",
            "198    1.874776\n",
            "199    7.981001\n",
            "200    1.744061\n",
            "Name: radio, Length: 200, dtype: float64\n",
            "1      21.612942\n",
            "2      22.470537\n",
            "3      26.243953\n",
            "4      23.613996\n",
            "5       6.176239\n",
            "         ...    \n",
            "196     2.116958\n",
            "197     2.803034\n",
            "198     5.318644\n",
            "199    24.014207\n",
            "200     4.918434\n",
            "Name: radio, Length: 200, dtype: float64\n"
          ]
        }
      ],
      "source": [
        "# use the initial and best parameters to make predictions based on the original input feature (x)\n",
        "x = df[sel_program]\n",
        "y_ini = gd_iterations_df.loc[0, 'value_b'] + gd_iterations_df.loc[0, 'value_weight']*x\n",
        "print(y_ini)\n",
        "\n",
        "y_hat = gd_iterations_df.loc[idx, 'value_b'] + gd_iterations_df.loc[idx, 'value_weight']*x\n",
        "print(y_hat)"
      ]
    },
    {
      "cell_type": "code",
      "execution_count": 13,
      "id": "66921f55",
      "metadata": {
        "colab": {
          "base_uri": "https://localhost:8080/"
        },
        "id": "66921f55",
        "outputId": "3de38e2d-d1a0-428a-887b-35125fe0f323"
      },
      "outputs": [
        {
          "name": "stdout",
          "output_type": "stream",
          "text": [
            "radio 0.6363124303110628 0.6646502182568398\n",
            "number of bad predictions: 100\n"
          ]
        }
      ],
      "source": [
        "# calculate average absolute error, mean squared error, and count of large prediction errors (> 0.5)\n",
        "import numpy as np\n",
        "\n",
        "y_p = gd_iterations_df.loc[idx, 'value_b'] + gd_iterations_df.loc[idx, 'value_weight']*X\n",
        "error = np.sum(np.abs(Y- y_p[sel_program]))/len(Y)\n",
        "print(sel_program, error, get_cost(Y, y_p[sel_program]))\n",
        "\n",
        "np.sum(((np.abs(Y- y_p[sel_program]))>0.5))\n",
        "print(\"number of bad predictions:\",np.sum(((np.abs(Y- y_p[sel_program]))>0.5)))"
      ]
    },
    {
      "cell_type": "code",
      "execution_count": 14,
      "id": "38865ca8-ed4b-4b9d-b26e-0703690ed024",
      "metadata": {
        "colab": {
          "base_uri": "https://localhost:8080/",
          "height": 449
        },
        "id": "38865ca8-ed4b-4b9d-b26e-0703690ed024",
        "outputId": "574761ed-cc13-4fbe-f633-e7062fa738a6"
      },
      "outputs": [
        {
          "data": {
            "image/png": "[encoded data removed]",
            "text/plain": [
              "<Figure size 640x480 with 1 Axes>"
            ]
          },
          "metadata": {},
          "output_type": "display_data"
        }
      ],
      "source": [
        "sns.scatterplot(data=df, x=sel_program, y=\"sales\")\n",
        "plt.plot( x,  y_ini, 'k', x, y_hat, 'r')\n",
        "plt.legend(['training data', 'predicted_sales with initial parameters',\n",
        "            'predicted_sales with best parameters'])\n",
        "plt.show()"
      ]
    },
    {
      "cell_type": "code",
      "execution_count": 15,
      "id": "aLrHtFiOJsNM",
      "metadata": {
        "colab": {
          "base_uri": "https://localhost:8080/"
        },
        "id": "aLrHtFiOJsNM",
        "outputId": "591b9b21-010b-43c0-96ca-950e90d07cd6"
      },
      "outputs": [
        {
          "name": "stdout",
          "output_type": "stream",
          "text": [
            "\n",
            "=== Learning Rate: 0.001 ===\n",
            "     iteration   value_b  value_weight      cost\n",
            "399      399.0  0.382839      0.683912  0.823367\n",
            "\n",
            "=== Learning Rate: 0.01 ===\n",
            "     iteration   value_b  value_weight      cost\n",
            "246      246.0  0.003454      0.572895  0.664652\n",
            "\n",
            "=== Learning Rate: 0.1 ===\n",
            "    iteration   value_b  value_weight      cost\n",
            "26       26.0  0.000843      0.576459  0.664629\n",
            "\n",
            "=== Learning Rate: 1.0 ===\n",
            "     iteration   value_b  value_weight      cost\n",
            "330      330.0 -0.930165      0.583159  1.529884\n"
          ]
        }
      ],
      "source": [
        "#extra\n",
        "\n",
        "for alpha in [0.001, 0.01, 0.1, 1.0]:\n",
        "    print(f\"\\n=== Learning Rate: {alpha} ===\")\n",
        "    gd_iterations_df, b, theta = run_gradient_descent(X, Y, alpha=alpha, num_iterations=400)\n",
        "\n",
        "    # Print last row (final result)\n",
        "    print(gd_iterations_df.tail(1))  # last step's b, theta, and cost"
      ]
    }
  ],
  "metadata": {
    "colab": {
      "include_colab_link": true,
      "provenance": []
    },
    "kernelspec": {
      "display_name": ".venv",
      "language": "python",
      "name": "python3"
    },
    "language_info": {
      "codemirror_mode": {
        "name": "ipython",
        "version": 3
      },
      "file_extension": ".py",
      "mimetype": "text/x-python",
      "name": "python",
      "nbconvert_exporter": "python",
      "pygments_lexer": "ipython3",
      "version": "3.13.3"
    }
  },
  "nbformat": 4,
  "nbformat_minor": 5
}
