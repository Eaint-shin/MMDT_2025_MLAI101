{
  "cells": [
    {
      "cell_type": "code",
      "execution_count": null,
      "metadata": {
        "id": "A9moLTdsisyu"
      },
      "outputs": [],
      "source": [
        "import pandas as pd\n",
        "\n",
        "df=pd.read_csv('/content/house_data_fs.csv', index_col = 0)\n",
        "df = df.dropna()\n",
        "\n",
        "X = df[['bedrooms', 'sqft_living']].values\n",
        "Y = df['price'].values\n",
        "print(X)\n",
        "print(Y)"
      ]
    },
    {
      "cell_type": "code",
      "execution_count": 32,
      "metadata": {
        "collapsed": true,
        "id": "hULeOSyaisy1",
        "outputId": "2cc074bc-d635-466b-f009-f4d2ac8848f2",
        "colab": {
          "base_uri": "https://localhost:8080/"
        }
      },
      "outputs": [
        {
          "output_type": "stream",
          "name": "stdout",
          "text": [
            "[[-0.40239174 -0.98033973]\n",
            " [-0.40239174  0.53353252]\n",
            " [-1.48156503 -1.42687759]\n",
            " ...\n",
            " [-1.48156503 -1.15459841]\n",
            " [-0.40239174 -0.52291071]\n",
            " [-1.48156503 -1.15459841]]\n"
          ]
        }
      ],
      "source": [
        "from sklearn.preprocessing import StandardScaler\n",
        "\n",
        "scaler = StandardScaler()\n",
        "X_scaled = scaler.fit_transform(X)\n",
        "print(X_scaled)"
      ]
    },
    {
      "cell_type": "code",
      "execution_count": 29,
      "metadata": {
        "id": "IWNBAFlzisy3",
        "outputId": "b3d389f5-27e6-4244-fc25-ee040eac20a9",
        "colab": {
          "base_uri": "https://localhost:8080/"
        }
      },
      "outputs": [
        {
          "output_type": "stream",
          "name": "stdout",
          "text": [
            "[-53567.44561984 288667.55112691] 540166.7341666666\n",
            "[235932.46722026]\n"
          ]
        }
      ],
      "source": [
        "from sklearn.linear_model import LinearRegression\n",
        "\n",
        "lr = LinearRegression()\n",
        "lr.fit(X_scaled, Y)\n",
        "print(lr.coef_, lr.intercept_)\n",
        "\n",
        "X_test = [[2, 860]]\n",
        "X_test_scaled = scaler.transform(X_test)\n",
        "yp=lr.predict(X_test_scaled)\n",
        "print(yp)"
      ]
    },
    {
      "cell_type": "code",
      "execution_count": 30,
      "metadata": {
        "id": "ScIf1bY3isy4",
        "outputId": "a4ee820d-33be-43b2-d956-1ef82d9d3ee5",
        "colab": {
          "base_uri": "https://localhost:8080/"
        }
      },
      "outputs": [
        {
          "output_type": "stream",
          "name": "stdout",
          "text": [
            "Average price: 303760.2105263158\n"
          ]
        }
      ],
      "source": [
        "df1=df[(df['bedrooms'] == 2) & (df['sqft_living'] == 860)]\n",
        "df1_avg = df1['price'].mean()\n",
        "print(\"Average price:\", df1_avg)\n",
        "\n"
      ]
    },
    {
      "cell_type": "code",
      "execution_count": 31,
      "metadata": {
        "id": "KHKLqLLHisy5",
        "outputId": "613fb145-c542-49eb-8af8-cbccea27f045",
        "colab": {
          "base_uri": "https://localhost:8080/"
        }
      },
      "outputs": [
        {
          "output_type": "stream",
          "name": "stdout",
          "text": [
            "r2-score: 0.5068463227480232 \n",
            "mean squared error: 66465040515.6965 \n",
            "mean absolute error: 170271.09681228665\n"
          ]
        }
      ],
      "source": [
        "from sklearn.metrics import r2_score\n",
        "from sklearn.metrics import mean_absolute_error\n",
        "from sklearn.metrics import mean_squared_error\n",
        "\n",
        "Y_pred = lr.predict(X_scaled)\n",
        "rscore = r2_score(Y, Y_pred)\n",
        "mse = mean_squared_error(Y, Y_pred)\n",
        "mae = mean_absolute_error(Y, Y_pred)\n",
        "\n",
        "print('r2-score:', rscore, '\\nmean squared error:', mse, '\\nmean absolute error:', mae)"
      ]
    }
  ],
  "metadata": {
    "kernelspec": {
      "display_name": ".venv",
      "language": "python",
      "name": "python3"
    },
    "language_info": {
      "codemirror_mode": {
        "name": "ipython",
        "version": 3
      },
      "file_extension": ".py",
      "mimetype": "text/x-python",
      "name": "python",
      "nbconvert_exporter": "python",
      "pygments_lexer": "ipython3",
      "version": "3.12.2"
    },
    "orig_nbformat": 4,
    "colab": {
      "provenance": []
    }
  },
  "nbformat": 4,
  "nbformat_minor": 0
}