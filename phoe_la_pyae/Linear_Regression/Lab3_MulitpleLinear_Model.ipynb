{
 "cells": [
  {
   "cell_type": "code",
   "execution_count": 6,
   "id": "86a49c1a-3872-4581-9a72-d3b8deb6ecb6",
   "metadata": {},
   "outputs": [],
   "source": [
    "import pandas as pd\n",
    "\n",
    "df=pd.read_csv('Downloads/house_data_fs.csv', index_col = 0)\n",
    "df = df.dropna()\n",
    "\n",
    "X = df[['bedrooms', 'sqft_living']].values\n",
    "Y = df['price'].values"
   ]
  },
  {
   "cell_type": "code",
   "execution_count": 8,
   "id": "ca729c07-634e-47ef-ad04-cbe5cbfb55b4",
   "metadata": {},
   "outputs": [],
   "source": [
    "from sklearn.preprocessing import StandardScaler\n",
    "\n",
    "scaler = StandardScaler()\n",
    "X_scaled = scaler.fit_transform(X)"
   ]
  },
  {
   "cell_type": "code",
   "execution_count": 11,
   "id": "5d7b22f4-bd6e-4bf7-9d48-ee1110b29981",
   "metadata": {},
   "outputs": [
    {
     "name": "stdout",
     "output_type": "stream",
     "text": [
      "[-53567.44561983 288667.5511269 ] 540166.7341666666\n",
      "[235932.46722025]\n"
     ]
    }
   ],
   "source": [
    "from sklearn.linear_model import LinearRegression\n",
    "\n",
    "lr = LinearRegression()\n",
    "lr.fit(X_scaled, Y)\n",
    "print(lr.coef_, lr.intercept_)\n",
    "\n",
    "X_test = [[2, 860]]\n",
    "X_test_scaled = scaler.transform(X_test)\n",
    "yp=lr.predict(X_test_scaled)\n",
    "print(yp)"
   ]
  },
  {
   "cell_type": "code",
   "execution_count": 13,
   "id": "d0d469c1-8deb-4da9-adfb-2197b11fd868",
   "metadata": {},
   "outputs": [
    {
     "name": "stdout",
     "output_type": "stream",
     "text": [
      "Average price: 303760.2105263158\n"
     ]
    }
   ],
   "source": [
    "df1=df[(df['bedrooms'] == 2) & (df['sqft_living'] == 860)]\n",
    "df1_avg = df1['price'].mean()\n",
    "print(\"Average price:\", df1_avg)  "
   ]
  },
  {
   "cell_type": "code",
   "execution_count": 15,
   "id": "470df892-2e52-4993-a449-bcc75e8e61e5",
   "metadata": {},
   "outputs": [
    {
     "name": "stdout",
     "output_type": "stream",
     "text": [
      "r2-score: 0.5068463227480232 \n",
      "mean squared error: 66465040515.6965 \n",
      "mean absolute error: 170271.09681228732\n"
     ]
    }
   ],
   "source": [
    "from sklearn.metrics import r2_score\n",
    "from sklearn.metrics import mean_absolute_error\n",
    "from sklearn.metrics import mean_squared_error\n",
    "\n",
    "Y_pred = lr.predict(X_scaled)\n",
    "rscore = r2_score(Y, Y_pred)\n",
    "mse = mean_squared_error(Y, Y_pred)\n",
    "mae = mean_absolute_error(Y, Y_pred)\n",
    "\n",
    "print('r2-score:', rscore, '\\nmean squared error:', mse, '\\nmean absolute error:', mae)"
   ]
  },
  {
   "cell_type": "code",
   "execution_count": null,
   "id": "77704480-7dc2-4ec7-8da6-da9af3f0bf74",
   "metadata": {},
   "outputs": [],
   "source": []
  }
 ],
 "metadata": {
  "kernelspec": {
   "display_name": "Python [conda env:base] *",
   "language": "python",
   "name": "conda-base-py"
  },
  "language_info": {
   "codemirror_mode": {
    "name": "ipython",
    "version": 3
   },
   "file_extension": ".py",
   "mimetype": "text/x-python",
   "name": "python",
   "nbconvert_exporter": "python",
   "pygments_lexer": "ipython3",
   "version": "3.12.7"
  }
 },
 "nbformat": 4,
 "nbformat_minor": 5
}
