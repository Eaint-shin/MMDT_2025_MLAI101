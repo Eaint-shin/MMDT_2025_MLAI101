{
  "cells": [
    {
      "cell_type": "markdown",
      "metadata": {
        "id": "view-in-github",
        "colab_type": "text"
      },
      "source": [
        "<a href=\"https://colab.research.google.com/github/Eaint-shin/MMDT_2025_MLAI101/blob/Aint-Kyi-Phyu-Shin/AintKyiPhyuShin/Project1/Lab1_grad_des.ipynb\" target=\"_parent\"><img src=\"https://colab.research.google.com/assets/colab-badge.svg\" alt=\"Open In Colab\"/></a>"
      ]
    },
    {
      "cell_type": "code",
      "execution_count": 12,
      "id": "84dd2f47-4d52-4fe5-81b1-6798ed2dcf0e",
      "metadata": {
        "colab": {
          "base_uri": "https://localhost:8080/"
        },
        "id": "84dd2f47-4d52-4fe5-81b1-6798ed2dcf0e",
        "outputId": "c7ab349b-a37a-4336-95e7-81fd3a35b140"
      },
      "outputs": [
        {
          "output_type": "execute_result",
          "data": {
            "text/plain": [
              "Index(['TV', 'radio', 'newspaper', 'sales'], dtype='object')"
            ]
          },
          "metadata": {},
          "execution_count": 12
        }
      ],
      "source": [
        "import pandas as pd\n",
        "import numpy as np\n",
        "import matplotlib.pyplot as plt\n",
        "import seaborn as sns\n",
        "import random\n",
        "import math\n",
        "\n",
        "df=pd.read_csv('sample_data/Advertising.csv', index_col = 0)\n",
        "df.columns"
      ]
    },
    {
      "cell_type": "code",
      "execution_count": 13,
      "id": "40638276-e31c-41a7-a769-48359633d35f",
      "metadata": {
        "id": "40638276-e31c-41a7-a769-48359633d35f"
      },
      "outputs": [],
      "source": [
        "sel_program = 'radio'\n",
        "X=df[[sel_program]]\n",
        "Y=df['sales']\n",
        "Y=np.array((Y-Y.mean())/Y.std())\n",
        "#X = np.array((X-X.mean())/X.std())\n",
        "\n",
        "X=X.apply(lambda rec:(rec-rec.mean())/rec.std(),axis=0)"
      ]
    },
    {
      "cell_type": "code",
      "execution_count": 14,
      "id": "f600d27a-7964-412e-bd36-3aeafa582b3f",
      "metadata": {
        "id": "f600d27a-7964-412e-bd36-3aeafa582b3f"
      },
      "outputs": [],
      "source": [
        "def initialize(dim):\n",
        "    b=random.random()\n",
        "    a=np.random.rand(dim)\n",
        "    return b,a"
      ]
    },
    {
      "cell_type": "code",
      "source": [],
      "metadata": {
        "id": "1CaPr9UX2umC"
      },
      "id": "1CaPr9UX2umC",
      "execution_count": 14,
      "outputs": []
    },
    {
      "cell_type": "code",
      "execution_count": 15,
      "id": "cdaa0f71-0fdc-4bfe-9239-657c200e2d35",
      "metadata": {
        "id": "cdaa0f71-0fdc-4bfe-9239-657c200e2d35"
      },
      "outputs": [],
      "source": [
        "def predict_Y(b,a,X):\n",
        "    return b + np.dot(X,a)"
      ]
    },
    {
      "cell_type": "code",
      "execution_count": 16,
      "id": "51e800ff-8b1e-4c61-9d17-4486d2499102",
      "metadata": {
        "id": "51e800ff-8b1e-4c61-9d17-4486d2499102"
      },
      "outputs": [],
      "source": [
        "def get_cost(Y,Y_hat):\n",
        "    Y_resd=Y-Y_hat\n",
        "    return np.sum(np.dot(Y_resd.T,Y_resd))/len(Y)"
      ]
    },
    {
      "cell_type": "code",
      "execution_count": 17,
      "id": "745881b3-acdd-4ff8-971b-1f13dbb750ff",
      "metadata": {
        "id": "745881b3-acdd-4ff8-971b-1f13dbb750ff"
      },
      "outputs": [],
      "source": [
        "def update_theta(x,y,y_hat,b_0,theta_o,learning_rate):\n",
        "    db=(np.sum(y_hat-y)*2)/len(y)\n",
        "    dw=(np.dot((y_hat-y),x)*2)/len(y)\n",
        "    b_1=b_0-learning_rate*db\n",
        "    theta_1=theta_o-learning_rate*dw\n",
        "    return b_1,theta_1"
      ]
    },
    {
      "cell_type": "code",
      "execution_count": 18,
      "id": "a69da9b3-c076-4d7b-be46-ad4424a8b408",
      "metadata": {
        "colab": {
          "base_uri": "https://localhost:8080/"
        },
        "id": "a69da9b3-c076-4d7b-be46-ad4424a8b408",
        "outputId": "7125c29e-09de-4aab-c11e-588ce400e07d"
      },
      "outputs": [
        {
          "output_type": "stream",
          "name": "stdout",
          "text": [
            "     iteration   value_b  value_weight      cost\n",
            "0          0.0  0.146097      0.477512  0.696945\n",
            "1          1.0  0.143175      0.479476  0.695667\n",
            "2          2.0  0.140312      0.481401  0.694440\n",
            "3          3.0  0.137506      0.483288  0.693261\n",
            "4          4.0  0.134755      0.485138  0.692129\n",
            "..         ...       ...           ...       ...\n",
            "175      175.0  0.004258      0.573294  0.664655\n",
            "176      176.0  0.004173      0.573352  0.664654\n",
            "177      177.0  0.004089      0.573409  0.664653\n",
            "178      178.0  0.004008      0.573465  0.664652\n",
            "179      179.0  0.003927      0.573520  0.664651\n",
            "\n",
            "[180 rows x 4 columns]\n"
          ]
        }
      ],
      "source": [
        "def run_gradient_descent(X,Y,alpha,num_iterations):\n",
        "    tolerance = 1e-06\n",
        "    b,theta=initialize(X.shape[1])\n",
        "\n",
        "    gd_iterations_df=pd.DataFrame(columns=['iteration','value_b', 'value_weight', 'cost'])\n",
        "    result_idx=0\n",
        "    prev_cost =0\n",
        "\n",
        "    for iter_num in range(num_iterations):\n",
        "        Y_hat=predict_Y(b,theta,X)\n",
        "        this_cost=get_cost(Y,Y_hat)\n",
        "        prev_b=b\n",
        "        prev_theta=theta\n",
        "        b,theta=update_theta(X,Y,Y_hat,prev_b,prev_theta,alpha)\n",
        "        gd_iterations_df.loc[result_idx]=[iter_num,b, theta[0], this_cost]\n",
        "        result_idx=result_idx+1\n",
        "        if (np.abs(this_cost  - prev_cost )<= tolerance):\n",
        "            break\n",
        "        prev_cost = this_cost\n",
        "    return gd_iterations_df,b,theta\n",
        "\n",
        "gd_iterations_df,b,theta=run_gradient_descent(X,Y,alpha=0.01,num_iterations=400)\n",
        "\n",
        "print(gd_iterations_df)"
      ]
    },
    {
      "cell_type": "code",
      "execution_count": 19,
      "id": "095c1e69-3f88-4216-93b1-937c2f660ec8",
      "metadata": {
        "id": "095c1e69-3f88-4216-93b1-937c2f660ec8"
      },
      "outputs": [],
      "source": [
        "#sns.scatterplot(data=gd_iterations_df, x=\"value_weight\", y=\"cost\")"
      ]
    },
    {
      "cell_type": "code",
      "execution_count": 20,
      "id": "9de3d8f6-9405-435b-abbe-c358554c70a4",
      "metadata": {
        "colab": {
          "base_uri": "https://localhost:8080/"
        },
        "id": "9de3d8f6-9405-435b-abbe-c358554c70a4",
        "outputId": "988080c3-1153-49cf-8c02-bf3974b9a4f3"
      },
      "outputs": [
        {
          "output_type": "execute_result",
          "data": {
            "text/plain": [
              "np.float64(0.5735200781111018)"
            ]
          },
          "metadata": {},
          "execution_count": 20
        }
      ],
      "source": [
        "idx = gd_iterations_df['cost'].argmin()\n",
        "best_parameters = gd_iterations_df.loc[idx, ['value_b', 'value_weight']]\n",
        "best_parameters['value_weight']\n"
      ]
    },
    {
      "cell_type": "code",
      "execution_count": 21,
      "id": "deb46d54-f209-4117-a407-7df5128810d6",
      "metadata": {
        "id": "deb46d54-f209-4117-a407-7df5128810d6"
      },
      "outputs": [],
      "source": [
        "x = df[sel_program]\n",
        "y_ini = gd_iterations_df.loc[0, 'value_b'] + gd_iterations_df.loc[0, 'value_weight']*x\n",
        "y_hat = gd_iterations_df.loc[idx, 'value_b'] + gd_iterations_df.loc[idx, 'value_weight']*x"
      ]
    },
    {
      "cell_type": "code",
      "execution_count": 22,
      "id": "66921f55",
      "metadata": {
        "colab": {
          "base_uri": "https://localhost:8080/"
        },
        "id": "66921f55",
        "outputId": "1ef84151-77c2-4906-8007-66aa37f79d6a"
      },
      "outputs": [
        {
          "output_type": "stream",
          "name": "stdout",
          "text": [
            "radio 0.635945209822271 0.6646503985857002\n"
          ]
        },
        {
          "output_type": "execute_result",
          "data": {
            "text/plain": [
              "np.int64(100)"
            ]
          },
          "metadata": {},
          "execution_count": 22
        }
      ],
      "source": [
        "import numpy as np\n",
        "\n",
        "y_p = gd_iterations_df.loc[idx, 'value_b'] + gd_iterations_df.loc[idx, 'value_weight']*X\n",
        "error = np.sum(np.abs(Y- y_p[sel_program]))/len(Y)\n",
        "print(sel_program, error, get_cost(Y, y_p[sel_program]))\n",
        "\n",
        "np.sum(((np.abs(Y- y_p[sel_program]))>0.5))\n"
      ]
    },
    {
      "cell_type": "code",
      "execution_count": 23,
      "id": "38865ca8-ed4b-4b9d-b26e-0703690ed024",
      "metadata": {
        "colab": {
          "base_uri": "https://localhost:8080/",
          "height": 449
        },
        "id": "38865ca8-ed4b-4b9d-b26e-0703690ed024",
        "outputId": "71cc9e83-7334-4f56-eace-481033c89a75"
      },
      "outputs": [
        {
          "output_type": "display_data",
          "data": {
            "text/plain": [
              "<Figure size 640x480 with 1 Axes>"
            ],
            "image/png": "[encoded data removed]"
          },
          "metadata": {}
        }
      ],
      "source": [
        "sns.scatterplot(data=df, x=sel_program, y=\"sales\")\n",
        "plt.plot( x,  y_ini, 'k', x, y_hat, 'r')\n",
        "plt.legend(['training data', 'predicted_sales with initial parameters',\n",
        "            'predicted_sales with best parameters'])\n",
        "plt.show()"
      ]
    }
  ],
  "metadata": {
    "kernelspec": {
      "display_name": ".venv",
      "language": "python",
      "name": "python3"
    },
    "language_info": {
      "codemirror_mode": {
        "name": "ipython",
        "version": 3
      },
      "file_extension": ".py",
      "mimetype": "text/x-python",
      "name": "python",
      "nbconvert_exporter": "python",
      "pygments_lexer": "ipython3",
      "version": "3.12.2"
    },
    "colab": {
      "provenance": [],
      "include_colab_link": true
    }
  },
  "nbformat": 4,
  "nbformat_minor": 5
}