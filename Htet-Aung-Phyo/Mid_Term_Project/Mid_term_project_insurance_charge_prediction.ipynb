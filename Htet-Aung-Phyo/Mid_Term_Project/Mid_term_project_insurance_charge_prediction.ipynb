{
 "cells": [
  {
   "cell_type": "markdown",
   "id": "18b37dbc",
   "metadata": {},
   "source": [
    "# Importing Package and inspection"
   ]
  },
  {
   "cell_type": "code",
   "execution_count": 3,
   "id": "c3f41370",
   "metadata": {},
   "outputs": [],
   "source": [
    "import pandas as pd\n",
    "import numpy as np\n",
    "import seaborn as sns\n",
    "import matplotlib.pyplot as plt\n",
    "from sklearn.model_selection import train_test_split, GridSearchCV,KFold\n",
    "from sklearn.linear_model import LinearRegression, Ridge , Lasso\n",
    "from sklearn.preprocessing import StandardScaler, PolynomialFeatures\n",
    "from sklearn.pipeline import Pipeline\n",
    "from sklearn.metrics import r2_score, mean_squared_error, mean_absolute_error"
   ]
  },
  {
   "cell_type": "code",
   "execution_count": 4,
   "id": "d816ff8b",
   "metadata": {},
   "outputs": [],
   "source": [
    "#importing data\n",
    "insurance = pd.read_csv('D:/Tyler_Data/Other Skills/Datascience/MMDT_GitHub/MMDT_2025_MLAI101/Htet-Aung-Phyo/Mid_Term_Project/insurance.csv')"
   ]
  },
  {
   "cell_type": "code",
   "execution_count": 5,
   "id": "934b99e4",
   "metadata": {},
   "outputs": [
    {
     "name": "stdout",
     "output_type": "stream",
     "text": [
      "<class 'pandas.core.frame.DataFrame'>\n",
      "RangeIndex: 1338 entries, 0 to 1337\n",
      "Data columns (total 7 columns):\n",
      " #   Column    Non-Null Count  Dtype  \n",
      "---  ------    --------------  -----  \n",
      " 0   age       1272 non-null   float64\n",
      " 1   sex       1272 non-null   object \n",
      " 2   bmi       1272 non-null   float64\n",
      " 3   children  1272 non-null   float64\n",
      " 4   smoker    1272 non-null   object \n",
      " 5   region    1272 non-null   object \n",
      " 6   charges   1284 non-null   object \n",
      "dtypes: float64(3), object(4)\n",
      "memory usage: 73.3+ KB\n"
     ]
    }
   ],
   "source": [
    "#data inspection\n",
    "insurance.info()"
   ]
  },
  {
   "cell_type": "markdown",
   "id": "51bf1c5e",
   "metadata": {},
   "source": [
    "# Data Cleaning"
   ]
  },
  {
   "cell_type": "code",
   "execution_count": 6,
   "id": "4c37d38b",
   "metadata": {},
   "outputs": [
    {
     "data": {
      "text/plain": [
       "charges     54\n",
       "age         66\n",
       "sex         66\n",
       "bmi         66\n",
       "children    66\n",
       "smoker      66\n",
       "region      66\n",
       "dtype: int64"
      ]
     },
     "execution_count": 6,
     "metadata": {},
     "output_type": "execute_result"
    }
   ],
   "source": [
    "# inspecting missing value\n",
    "insurance.isna().sum().sort_values()"
   ]
  },
  {
   "cell_type": "code",
   "execution_count": 7,
   "id": "333f52be",
   "metadata": {},
   "outputs": [
    {
     "data": {
      "text/plain": [
       "age         0\n",
       "sex         0\n",
       "bmi         0\n",
       "children    0\n",
       "smoker      0\n",
       "region      0\n",
       "charges     0\n",
       "dtype: int64"
      ]
     },
     "execution_count": 7,
     "metadata": {},
     "output_type": "execute_result"
    }
   ],
   "source": [
    "# droping na value less than 5%\n",
    "insurance = insurance.dropna(subset=insurance.columns[insurance.isna().sum()<len(insurance)])\n",
    "insurance.isna().sum().sort_values()"
   ]
  },
  {
   "cell_type": "code",
   "execution_count": 8,
   "id": "90554c00",
   "metadata": {},
   "outputs": [
    {
     "data": {
      "text/html": [
       "<div>\n",
       "<style scoped>\n",
       "    .dataframe tbody tr th:only-of-type {\n",
       "        vertical-align: middle;\n",
       "    }\n",
       "\n",
       "    .dataframe tbody tr th {\n",
       "        vertical-align: top;\n",
       "    }\n",
       "\n",
       "    .dataframe thead th {\n",
       "        text-align: right;\n",
       "    }\n",
       "</style>\n",
       "<table border=\"1\" class=\"dataframe\">\n",
       "  <thead>\n",
       "    <tr style=\"text-align: right;\">\n",
       "      <th></th>\n",
       "      <th>age</th>\n",
       "      <th>sex</th>\n",
       "      <th>bmi</th>\n",
       "      <th>children</th>\n",
       "      <th>smoker</th>\n",
       "      <th>region</th>\n",
       "      <th>charges</th>\n",
       "    </tr>\n",
       "  </thead>\n",
       "  <tbody>\n",
       "    <tr>\n",
       "      <th>0</th>\n",
       "      <td>19.0</td>\n",
       "      <td>female</td>\n",
       "      <td>27.900</td>\n",
       "      <td>0.0</td>\n",
       "      <td>yes</td>\n",
       "      <td>southwest</td>\n",
       "      <td>16884.924</td>\n",
       "    </tr>\n",
       "    <tr>\n",
       "      <th>1</th>\n",
       "      <td>18.0</td>\n",
       "      <td>male</td>\n",
       "      <td>33.770</td>\n",
       "      <td>1.0</td>\n",
       "      <td>no</td>\n",
       "      <td>Southeast</td>\n",
       "      <td>1725.5523</td>\n",
       "    </tr>\n",
       "    <tr>\n",
       "      <th>2</th>\n",
       "      <td>28.0</td>\n",
       "      <td>male</td>\n",
       "      <td>33.000</td>\n",
       "      <td>3.0</td>\n",
       "      <td>no</td>\n",
       "      <td>southeast</td>\n",
       "      <td>$4449.462</td>\n",
       "    </tr>\n",
       "    <tr>\n",
       "      <th>3</th>\n",
       "      <td>33.0</td>\n",
       "      <td>male</td>\n",
       "      <td>22.705</td>\n",
       "      <td>0.0</td>\n",
       "      <td>no</td>\n",
       "      <td>northwest</td>\n",
       "      <td>$21984.47061</td>\n",
       "    </tr>\n",
       "    <tr>\n",
       "      <th>4</th>\n",
       "      <td>32.0</td>\n",
       "      <td>male</td>\n",
       "      <td>28.880</td>\n",
       "      <td>0.0</td>\n",
       "      <td>no</td>\n",
       "      <td>northwest</td>\n",
       "      <td>$3866.8552</td>\n",
       "    </tr>\n",
       "  </tbody>\n",
       "</table>\n",
       "</div>"
      ],
      "text/plain": [
       "    age     sex     bmi  children smoker     region       charges\n",
       "0  19.0  female  27.900       0.0    yes  southwest     16884.924\n",
       "1  18.0    male  33.770       1.0     no  Southeast     1725.5523\n",
       "2  28.0    male  33.000       3.0     no  southeast     $4449.462\n",
       "3  33.0    male  22.705       0.0     no  northwest  $21984.47061\n",
       "4  32.0    male  28.880       0.0     no  northwest    $3866.8552"
      ]
     },
     "execution_count": 8,
     "metadata": {},
     "output_type": "execute_result"
    }
   ],
   "source": [
    "insurance.head()"
   ]
  },
  {
   "cell_type": "code",
   "execution_count": 9,
   "id": "7c486d45",
   "metadata": {},
   "outputs": [
    {
     "data": {
      "text/html": [
       "<div>\n",
       "<style scoped>\n",
       "    .dataframe tbody tr th:only-of-type {\n",
       "        vertical-align: middle;\n",
       "    }\n",
       "\n",
       "    .dataframe tbody tr th {\n",
       "        vertical-align: top;\n",
       "    }\n",
       "\n",
       "    .dataframe thead th {\n",
       "        text-align: right;\n",
       "    }\n",
       "</style>\n",
       "<table border=\"1\" class=\"dataframe\">\n",
       "  <thead>\n",
       "    <tr style=\"text-align: right;\">\n",
       "      <th></th>\n",
       "      <th>age</th>\n",
       "      <th>sex</th>\n",
       "      <th>bmi</th>\n",
       "      <th>children</th>\n",
       "      <th>smoker</th>\n",
       "      <th>region</th>\n",
       "      <th>charges</th>\n",
       "    </tr>\n",
       "  </thead>\n",
       "  <tbody>\n",
       "    <tr>\n",
       "      <th>0</th>\n",
       "      <td>19.0</td>\n",
       "      <td>female</td>\n",
       "      <td>27.900</td>\n",
       "      <td>0.0</td>\n",
       "      <td>yes</td>\n",
       "      <td>southwest</td>\n",
       "      <td>16884.924</td>\n",
       "    </tr>\n",
       "    <tr>\n",
       "      <th>1</th>\n",
       "      <td>18.0</td>\n",
       "      <td>male</td>\n",
       "      <td>33.770</td>\n",
       "      <td>1.0</td>\n",
       "      <td>no</td>\n",
       "      <td>Southeast</td>\n",
       "      <td>1725.5523</td>\n",
       "    </tr>\n",
       "    <tr>\n",
       "      <th>2</th>\n",
       "      <td>28.0</td>\n",
       "      <td>male</td>\n",
       "      <td>33.000</td>\n",
       "      <td>3.0</td>\n",
       "      <td>no</td>\n",
       "      <td>southeast</td>\n",
       "      <td>4449.462</td>\n",
       "    </tr>\n",
       "    <tr>\n",
       "      <th>3</th>\n",
       "      <td>33.0</td>\n",
       "      <td>male</td>\n",
       "      <td>22.705</td>\n",
       "      <td>0.0</td>\n",
       "      <td>no</td>\n",
       "      <td>northwest</td>\n",
       "      <td>21984.47061</td>\n",
       "    </tr>\n",
       "    <tr>\n",
       "      <th>4</th>\n",
       "      <td>32.0</td>\n",
       "      <td>male</td>\n",
       "      <td>28.880</td>\n",
       "      <td>0.0</td>\n",
       "      <td>no</td>\n",
       "      <td>northwest</td>\n",
       "      <td>3866.8552</td>\n",
       "    </tr>\n",
       "  </tbody>\n",
       "</table>\n",
       "</div>"
      ],
      "text/plain": [
       "    age     sex     bmi  children smoker     region      charges\n",
       "0  19.0  female  27.900       0.0    yes  southwest    16884.924\n",
       "1  18.0    male  33.770       1.0     no  Southeast    1725.5523\n",
       "2  28.0    male  33.000       3.0     no  southeast     4449.462\n",
       "3  33.0    male  22.705       0.0     no  northwest  21984.47061\n",
       "4  32.0    male  28.880       0.0     no  northwest    3866.8552"
      ]
     },
     "execution_count": 9,
     "metadata": {},
     "output_type": "execute_result"
    }
   ],
   "source": [
    "#removing $ \n",
    "insurance['charges']=insurance['charges'].str.replace('$','')\n",
    "insurance.head()"
   ]
  },
  {
   "cell_type": "code",
   "execution_count": 10,
   "id": "1827eadb",
   "metadata": {},
   "outputs": [],
   "source": [
    "#data validation\n",
    "insurance[['age','children']]=insurance[['age','children']].astype('int16')\n",
    "insurance[['bmi','charges']]=insurance[['bmi','charges']].astype('float32')"
   ]
  },
  {
   "cell_type": "code",
   "execution_count": 11,
   "id": "b778ff38",
   "metadata": {},
   "outputs": [
    {
     "data": {
      "text/plain": [
       "age         0\n",
       "sex         0\n",
       "bmi         0\n",
       "children    0\n",
       "smoker      0\n",
       "region      0\n",
       "charges     1\n",
       "dtype: int64"
      ]
     },
     "execution_count": 11,
     "metadata": {},
     "output_type": "execute_result"
    }
   ],
   "source": [
    "#rechecking missing value\n",
    "insurance.isna().sum()"
   ]
  },
  {
   "cell_type": "code",
   "execution_count": 12,
   "id": "3e09366a",
   "metadata": {},
   "outputs": [
    {
     "data": {
      "text/plain": [
       "age         0\n",
       "sex         0\n",
       "bmi         0\n",
       "children    0\n",
       "smoker      0\n",
       "region      0\n",
       "charges     0\n",
       "dtype: int64"
      ]
     },
     "execution_count": 12,
     "metadata": {},
     "output_type": "execute_result"
    }
   ],
   "source": [
    "#filling missing value with mean of charges\n",
    "insurance['charges']= insurance['charges'].fillna(insurance['charges'].mean())\n",
    "insurance.isna().sum()"
   ]
  },
  {
   "cell_type": "code",
   "execution_count": 13,
   "id": "d5af74bd",
   "metadata": {},
   "outputs": [
    {
     "name": "stdout",
     "output_type": "stream",
     "text": [
      "<class 'pandas.core.frame.DataFrame'>\n",
      "Index: 1208 entries, 0 to 1337\n",
      "Data columns (total 7 columns):\n",
      " #   Column    Non-Null Count  Dtype  \n",
      "---  ------    --------------  -----  \n",
      " 0   age       1208 non-null   int16  \n",
      " 1   sex       1208 non-null   object \n",
      " 2   bmi       1208 non-null   float32\n",
      " 3   children  1208 non-null   int16  \n",
      " 4   smoker    1208 non-null   object \n",
      " 5   region    1208 non-null   object \n",
      " 6   charges   1208 non-null   float32\n",
      "dtypes: float32(2), int16(2), object(3)\n",
      "memory usage: 51.9+ KB\n"
     ]
    }
   ],
   "source": [
    "insurance.info()"
   ]
  },
  {
   "cell_type": "code",
   "execution_count": 14,
   "id": "c1d72494",
   "metadata": {},
   "outputs": [
    {
     "data": {
      "text/plain": [
       "array(['southwest', 'Southeast', 'southeast', 'northwest', 'Northwest',\n",
       "       'Northeast', 'northeast', 'Southwest'], dtype=object)"
      ]
     },
     "execution_count": 14,
     "metadata": {},
     "output_type": "execute_result"
    }
   ],
   "source": [
    "insurance['region'].unique()"
   ]
  },
  {
   "cell_type": "code",
   "execution_count": 15,
   "id": "6ac2c49c",
   "metadata": {},
   "outputs": [
    {
     "name": "stderr",
     "output_type": "stream",
     "text": [
      "C:\\Users\\Htet\\AppData\\Local\\Temp\\ipykernel_21804\\1503343253.py:3: FutureWarning: The behavior of Series.replace (and DataFrame.replace) with CategoricalDtype is deprecated. In a future version, replace will only be used for cases that preserve the categories. To change the categories, use ser.cat.rename_categories instead.\n",
      "  insurance['region']= insurance['region'].replace(new_region).astype('category')\n"
     ]
    },
    {
     "data": {
      "text/plain": [
       "['Southwest', 'Southeast', 'Northwest', 'Northeast']\n",
       "Categories (4, object): ['Northeast', 'Northwest', 'Southeast', 'Southwest']"
      ]
     },
     "execution_count": 15,
     "metadata": {},
     "output_type": "execute_result"
    }
   ],
   "source": [
    "new_region = {'southeast':'Southeast','southwest':'Southwest','northeast':'Northeast','northwest':'Northwest'}\n",
    "insurance['region']= insurance['region'].astype('category')\n",
    "insurance['region']= insurance['region'].replace(new_region).astype('category')\n",
    "insurance['region'].unique()\n"
   ]
  },
  {
   "cell_type": "code",
   "execution_count": 16,
   "id": "d4d9c811",
   "metadata": {},
   "outputs": [
    {
     "data": {
      "text/plain": [
       "array(['female', 'male', 'woman', 'F', 'man', 'M'], dtype=object)"
      ]
     },
     "execution_count": 16,
     "metadata": {},
     "output_type": "execute_result"
    }
   ],
   "source": [
    "insurance['sex'].unique()"
   ]
  },
  {
   "cell_type": "code",
   "execution_count": 17,
   "id": "dfefe28a",
   "metadata": {},
   "outputs": [
    {
     "name": "stderr",
     "output_type": "stream",
     "text": [
      "C:\\Users\\Htet\\AppData\\Local\\Temp\\ipykernel_21804\\2746201549.py:3: FutureWarning: The behavior of Series.replace (and DataFrame.replace) with CategoricalDtype is deprecated. In a future version, replace will only be used for cases that preserve the categories. To change the categories, use ser.cat.rename_categories instead.\n",
      "  insurance['sex']=insurance['sex'].replace(new_sex).astype('category')\n"
     ]
    },
    {
     "data": {
      "text/plain": [
       "['F', 'M']\n",
       "Categories (2, object): ['F', 'M']"
      ]
     },
     "execution_count": 17,
     "metadata": {},
     "output_type": "execute_result"
    }
   ],
   "source": [
    "new_sex = {'female':'F','male':'M','woman':'F','man':'M','F':'F','M':'M'}\n",
    "insurance['sex']=insurance['sex'].astype('category')\n",
    "insurance['sex']=insurance['sex'].replace(new_sex).astype('category')\n",
    "insurance['sex'].unique()"
   ]
  },
  {
   "cell_type": "code",
   "execution_count": 18,
   "id": "5a29a918",
   "metadata": {},
   "outputs": [
    {
     "data": {
      "text/plain": [
       "array(['yes', 'no'], dtype=object)"
      ]
     },
     "execution_count": 18,
     "metadata": {},
     "output_type": "execute_result"
    }
   ],
   "source": [
    "insurance['smoker'].unique()"
   ]
  },
  {
   "cell_type": "code",
   "execution_count": 19,
   "id": "0a92dfdd",
   "metadata": {},
   "outputs": [],
   "source": [
    "insurance['smoker']=insurance['smoker'].astype('category')"
   ]
  },
  {
   "cell_type": "code",
   "execution_count": 20,
   "id": "22cb9122",
   "metadata": {},
   "outputs": [
    {
     "name": "stdout",
     "output_type": "stream",
     "text": [
      "<class 'pandas.core.frame.DataFrame'>\n",
      "Index: 1208 entries, 0 to 1337\n",
      "Data columns (total 7 columns):\n",
      " #   Column    Non-Null Count  Dtype   \n",
      "---  ------    --------------  -----   \n",
      " 0   age       1208 non-null   int16   \n",
      " 1   sex       1208 non-null   category\n",
      " 2   bmi       1208 non-null   float32 \n",
      " 3   children  1208 non-null   int16   \n",
      " 4   smoker    1208 non-null   category\n",
      " 5   region    1208 non-null   category\n",
      " 6   charges   1208 non-null   float32 \n",
      "dtypes: category(3), float32(2), int16(2)\n",
      "memory usage: 27.6 KB\n"
     ]
    }
   ],
   "source": [
    "insurance.info()"
   ]
  },
  {
   "cell_type": "code",
   "execution_count": 21,
   "id": "925ab51a",
   "metadata": {},
   "outputs": [
    {
     "data": {
      "text/html": [
       "<div>\n",
       "<style scoped>\n",
       "    .dataframe tbody tr th:only-of-type {\n",
       "        vertical-align: middle;\n",
       "    }\n",
       "\n",
       "    .dataframe tbody tr th {\n",
       "        vertical-align: top;\n",
       "    }\n",
       "\n",
       "    .dataframe thead th {\n",
       "        text-align: right;\n",
       "    }\n",
       "</style>\n",
       "<table border=\"1\" class=\"dataframe\">\n",
       "  <thead>\n",
       "    <tr style=\"text-align: right;\">\n",
       "      <th></th>\n",
       "      <th>age</th>\n",
       "      <th>bmi</th>\n",
       "      <th>children</th>\n",
       "      <th>charges</th>\n",
       "    </tr>\n",
       "  </thead>\n",
       "  <tbody>\n",
       "    <tr>\n",
       "      <th>count</th>\n",
       "      <td>1208.000000</td>\n",
       "      <td>1208.000000</td>\n",
       "      <td>1208.000000</td>\n",
       "      <td>1208.000000</td>\n",
       "    </tr>\n",
       "    <tr>\n",
       "      <th>mean</th>\n",
       "      <td>35.355960</td>\n",
       "      <td>30.574968</td>\n",
       "      <td>0.942881</td>\n",
       "      <td>13311.273438</td>\n",
       "    </tr>\n",
       "    <tr>\n",
       "      <th>std</th>\n",
       "      <td>22.061241</td>\n",
       "      <td>6.117562</td>\n",
       "      <td>1.311809</td>\n",
       "      <td>12131.032227</td>\n",
       "    </tr>\n",
       "    <tr>\n",
       "      <th>min</th>\n",
       "      <td>-64.000000</td>\n",
       "      <td>15.960000</td>\n",
       "      <td>-4.000000</td>\n",
       "      <td>1121.873901</td>\n",
       "    </tr>\n",
       "    <tr>\n",
       "      <th>25%</th>\n",
       "      <td>24.750000</td>\n",
       "      <td>26.195001</td>\n",
       "      <td>0.000000</td>\n",
       "      <td>4750.065552</td>\n",
       "    </tr>\n",
       "    <tr>\n",
       "      <th>50%</th>\n",
       "      <td>38.000000</td>\n",
       "      <td>30.230000</td>\n",
       "      <td>1.000000</td>\n",
       "      <td>9447.316406</td>\n",
       "    </tr>\n",
       "    <tr>\n",
       "      <th>75%</th>\n",
       "      <td>51.000000</td>\n",
       "      <td>34.580002</td>\n",
       "      <td>2.000000</td>\n",
       "      <td>16579.958984</td>\n",
       "    </tr>\n",
       "    <tr>\n",
       "      <th>max</th>\n",
       "      <td>64.000000</td>\n",
       "      <td>53.130001</td>\n",
       "      <td>5.000000</td>\n",
       "      <td>63770.429688</td>\n",
       "    </tr>\n",
       "  </tbody>\n",
       "</table>\n",
       "</div>"
      ],
      "text/plain": [
       "               age          bmi     children       charges\n",
       "count  1208.000000  1208.000000  1208.000000   1208.000000\n",
       "mean     35.355960    30.574968     0.942881  13311.273438\n",
       "std      22.061241     6.117562     1.311809  12131.032227\n",
       "min     -64.000000    15.960000    -4.000000   1121.873901\n",
       "25%      24.750000    26.195001     0.000000   4750.065552\n",
       "50%      38.000000    30.230000     1.000000   9447.316406\n",
       "75%      51.000000    34.580002     2.000000  16579.958984\n",
       "max      64.000000    53.130001     5.000000  63770.429688"
      ]
     },
     "execution_count": 21,
     "metadata": {},
     "output_type": "execute_result"
    }
   ],
   "source": [
    "insurance.describe()"
   ]
  },
  {
   "cell_type": "code",
   "execution_count": 22,
   "id": "69a7d2a9",
   "metadata": {},
   "outputs": [
    {
     "data": {
      "image/png": "[encoded data removed]",
      "text/plain": [
       "<Figure size 640x480 with 1 Axes>"
      ]
     },
     "metadata": {},
     "output_type": "display_data"
    },
    {
     "data": {
      "image/png": "[encoded data removed]",
      "text/plain": [
       "<Figure size 640x480 with 1 Axes>"
      ]
     },
     "metadata": {},
     "output_type": "display_data"
    }
   ],
   "source": [
    "sns.histplot(x='age',data=insurance)\n",
    "plt.show()\n",
    "\n",
    "sns.histplot(x='children',data=insurance)\n",
    "plt.show()"
   ]
  },
  {
   "cell_type": "code",
   "execution_count": 23,
   "id": "b187ec5b",
   "metadata": {},
   "outputs": [],
   "source": [
    "insurance = insurance[(insurance['age']>0)&(insurance['children']>=0)]"
   ]
  },
  {
   "cell_type": "code",
   "execution_count": 24,
   "id": "b3780c0c",
   "metadata": {},
   "outputs": [
    {
     "data": {
      "image/png": "[encoded data removed]",
      "text/plain": [
       "<Figure size 640x480 with 1 Axes>"
      ]
     },
     "metadata": {},
     "output_type": "display_data"
    },
    {
     "data": {
      "image/png": "[encoded data removed]",
      "text/plain": [
       "<Figure size 640x480 with 1 Axes>"
      ]
     },
     "metadata": {},
     "output_type": "display_data"
    }
   ],
   "source": [
    "sns.histplot(x='age',data=insurance)\n",
    "plt.show()\n",
    "\n",
    "sns.histplot(x='children',data=insurance)\n",
    "plt.show()"
   ]
  },
  {
   "cell_type": "code",
   "execution_count": 25,
   "id": "0da1ea3f",
   "metadata": {},
   "outputs": [
    {
     "data": {
      "text/html": [
       "<div>\n",
       "<style scoped>\n",
       "    .dataframe tbody tr th:only-of-type {\n",
       "        vertical-align: middle;\n",
       "    }\n",
       "\n",
       "    .dataframe tbody tr th {\n",
       "        vertical-align: top;\n",
       "    }\n",
       "\n",
       "    .dataframe thead th {\n",
       "        text-align: right;\n",
       "    }\n",
       "</style>\n",
       "<table border=\"1\" class=\"dataframe\">\n",
       "  <thead>\n",
       "    <tr style=\"text-align: right;\">\n",
       "      <th></th>\n",
       "      <th>age</th>\n",
       "      <th>bmi</th>\n",
       "      <th>children</th>\n",
       "      <th>charges</th>\n",
       "    </tr>\n",
       "  </thead>\n",
       "  <tbody>\n",
       "    <tr>\n",
       "      <th>count</th>\n",
       "      <td>1108.000000</td>\n",
       "      <td>1108.000000</td>\n",
       "      <td>1108.000000</td>\n",
       "      <td>1108.000000</td>\n",
       "    </tr>\n",
       "    <tr>\n",
       "      <th>mean</th>\n",
       "      <td>39.211191</td>\n",
       "      <td>30.574085</td>\n",
       "      <td>1.055054</td>\n",
       "      <td>13292.707031</td>\n",
       "    </tr>\n",
       "    <tr>\n",
       "      <th>std</th>\n",
       "      <td>14.184313</td>\n",
       "      <td>6.126394</td>\n",
       "      <td>1.197574</td>\n",
       "      <td>12160.207031</td>\n",
       "    </tr>\n",
       "    <tr>\n",
       "      <th>min</th>\n",
       "      <td>18.000000</td>\n",
       "      <td>15.960000</td>\n",
       "      <td>0.000000</td>\n",
       "      <td>1121.873901</td>\n",
       "    </tr>\n",
       "    <tr>\n",
       "      <th>25%</th>\n",
       "      <td>26.000000</td>\n",
       "      <td>26.219999</td>\n",
       "      <td>0.000000</td>\n",
       "      <td>4719.193848</td>\n",
       "    </tr>\n",
       "    <tr>\n",
       "      <th>50%</th>\n",
       "      <td>39.000000</td>\n",
       "      <td>30.209999</td>\n",
       "      <td>1.000000</td>\n",
       "      <td>9447.316406</td>\n",
       "    </tr>\n",
       "    <tr>\n",
       "      <th>75%</th>\n",
       "      <td>51.250000</td>\n",
       "      <td>34.681250</td>\n",
       "      <td>2.000000</td>\n",
       "      <td>16604.302734</td>\n",
       "    </tr>\n",
       "    <tr>\n",
       "      <th>max</th>\n",
       "      <td>64.000000</td>\n",
       "      <td>53.130001</td>\n",
       "      <td>5.000000</td>\n",
       "      <td>63770.429688</td>\n",
       "    </tr>\n",
       "  </tbody>\n",
       "</table>\n",
       "</div>"
      ],
      "text/plain": [
       "               age          bmi     children       charges\n",
       "count  1108.000000  1108.000000  1108.000000   1108.000000\n",
       "mean     39.211191    30.574085     1.055054  13292.707031\n",
       "std      14.184313     6.126394     1.197574  12160.207031\n",
       "min      18.000000    15.960000     0.000000   1121.873901\n",
       "25%      26.000000    26.219999     0.000000   4719.193848\n",
       "50%      39.000000    30.209999     1.000000   9447.316406\n",
       "75%      51.250000    34.681250     2.000000  16604.302734\n",
       "max      64.000000    53.130001     5.000000  63770.429688"
      ]
     },
     "execution_count": 25,
     "metadata": {},
     "output_type": "execute_result"
    }
   ],
   "source": [
    "insurance.describe()"
   ]
  },
  {
   "cell_type": "code",
   "execution_count": 26,
   "id": "ca784134",
   "metadata": {},
   "outputs": [],
   "source": [
    "#sns.pairplot(data=insurance)\n",
    "#plt.show()"
   ]
  },
  {
   "cell_type": "markdown",
   "id": "7b34821f",
   "metadata": {},
   "source": [
    "# EDA"
   ]
  },
  {
   "cell_type": "code",
   "execution_count": 27,
   "id": "032e9723",
   "metadata": {},
   "outputs": [
    {
     "data": {
      "image/png": "[encoded data removed]",
      "text/plain": [
       "<Figure size 640x480 with 1 Axes>"
      ]
     },
     "metadata": {},
     "output_type": "display_data"
    }
   ],
   "source": [
    "sns.boxplot(x='sex',y='charges',data=insurance)\n",
    "plt.show()"
   ]
  },
  {
   "cell_type": "code",
   "execution_count": 28,
   "id": "ab78c256",
   "metadata": {},
   "outputs": [
    {
     "data": {
      "image/png": "[encoded data removed]",
      "text/plain": [
       "<Figure size 640x480 with 1 Axes>"
      ]
     },
     "metadata": {},
     "output_type": "display_data"
    }
   ],
   "source": [
    "sns.boxplot(x='region',y='charges',data=insurance)\n",
    "plt.show()"
   ]
  },
  {
   "cell_type": "code",
   "execution_count": 29,
   "id": "dd205296",
   "metadata": {},
   "outputs": [
    {
     "data": {
      "image/png": "[encoded data removed]",
      "text/plain": [
       "<Figure size 640x480 with 1 Axes>"
      ]
     },
     "metadata": {},
     "output_type": "display_data"
    }
   ],
   "source": [
    "sns.boxplot(x='smoker',y='charges',data=insurance)\n",
    "plt.show()"
   ]
  },
  {
   "cell_type": "code",
   "execution_count": 30,
   "id": "48b1c6b8",
   "metadata": {},
   "outputs": [
    {
     "data": {
      "image/png": "[encoded data removed]",
      "text/plain": [
       "<Figure size 640x480 with 1 Axes>"
      ]
     },
     "metadata": {},
     "output_type": "display_data"
    }
   ],
   "source": [
    "sns.scatterplot(x='age',y='charges',data=insurance)\n",
    "plt.show()"
   ]
  },
  {
   "cell_type": "code",
   "execution_count": 31,
   "id": "702fbb31",
   "metadata": {},
   "outputs": [
    {
     "data": {
      "image/png": "[encoded data removed]",
      "text/plain": [
       "<Figure size 640x480 with 1 Axes>"
      ]
     },
     "metadata": {},
     "output_type": "display_data"
    }
   ],
   "source": [
    "sns.scatterplot(x='bmi',y='charges',data=insurance)\n",
    "plt.show()"
   ]
  },
  {
   "cell_type": "code",
   "execution_count": 32,
   "id": "078f0a11",
   "metadata": {},
   "outputs": [
    {
     "data": {
      "image/png": "[encoded data removed]",
      "text/plain": [
       "<Figure size 640x480 with 1 Axes>"
      ]
     },
     "metadata": {},
     "output_type": "display_data"
    }
   ],
   "source": [
    "sns.scatterplot(x='children',y='charges',data = insurance)\n",
    "plt.show()"
   ]
  },
  {
   "cell_type": "code",
   "execution_count": 33,
   "id": "c10fcb4d",
   "metadata": {},
   "outputs": [
    {
     "data": {
      "image/png": "[encoded data removed]",
      "text/plain": [
       "<Figure size 640x480 with 1 Axes>"
      ]
     },
     "metadata": {},
     "output_type": "display_data"
    }
   ],
   "source": [
    "sns.boxplot(x='children',y='charges',data = insurance)\n",
    "plt.show()"
   ]
  },
  {
   "cell_type": "code",
   "execution_count": 34,
   "id": "08587658",
   "metadata": {},
   "outputs": [
    {
     "name": "stdout",
     "output_type": "stream",
     "text": [
      "<class 'pandas.core.frame.DataFrame'>\n",
      "Index: 1108 entries, 0 to 1337\n",
      "Data columns (total 7 columns):\n",
      " #   Column    Non-Null Count  Dtype   \n",
      "---  ------    --------------  -----   \n",
      " 0   age       1108 non-null   int16   \n",
      " 1   sex       1108 non-null   category\n",
      " 2   bmi       1108 non-null   float32 \n",
      " 3   children  1108 non-null   int16   \n",
      " 4   smoker    1108 non-null   category\n",
      " 5   region    1108 non-null   category\n",
      " 6   charges   1108 non-null   float32 \n",
      "dtypes: category(3), float32(2), int16(2)\n",
      "memory usage: 25.3 KB\n"
     ]
    }
   ],
   "source": [
    "insurance.info()"
   ]
  },
  {
   "cell_type": "code",
   "execution_count": 35,
   "id": "fe5fd630",
   "metadata": {},
   "outputs": [
    {
     "name": "stdout",
     "output_type": "stream",
     "text": [
      "<class 'pandas.core.frame.DataFrame'>\n",
      "Index: 1108 entries, 0 to 1337\n",
      "Data columns (total 7 columns):\n",
      " #   Column    Non-Null Count  Dtype   \n",
      "---  ------    --------------  -----   \n",
      " 0   age       1108 non-null   int16   \n",
      " 1   sex       1108 non-null   category\n",
      " 2   bmi       1108 non-null   float32 \n",
      " 3   children  1108 non-null   category\n",
      " 4   smoker    1108 non-null   category\n",
      " 5   region    1108 non-null   category\n",
      " 6   charges   1108 non-null   float32 \n",
      "dtypes: category(4), float32(2), int16(1)\n",
      "memory usage: 24.4 KB\n"
     ]
    }
   ],
   "source": [
    "insurance['children']=insurance['children'].astype('category')\n",
    "insurance.info()"
   ]
  },
  {
   "cell_type": "code",
   "execution_count": 36,
   "id": "1e60423a",
   "metadata": {},
   "outputs": [
    {
     "data": {
      "text/html": [
       "<div>\n",
       "<style scoped>\n",
       "    .dataframe tbody tr th:only-of-type {\n",
       "        vertical-align: middle;\n",
       "    }\n",
       "\n",
       "    .dataframe tbody tr th {\n",
       "        vertical-align: top;\n",
       "    }\n",
       "\n",
       "    .dataframe thead th {\n",
       "        text-align: right;\n",
       "    }\n",
       "</style>\n",
       "<table border=\"1\" class=\"dataframe\">\n",
       "  <thead>\n",
       "    <tr style=\"text-align: right;\">\n",
       "      <th></th>\n",
       "      <th>age</th>\n",
       "      <th>sex</th>\n",
       "      <th>bmi</th>\n",
       "      <th>children</th>\n",
       "      <th>smoker</th>\n",
       "      <th>region</th>\n",
       "      <th>charges</th>\n",
       "    </tr>\n",
       "  </thead>\n",
       "  <tbody>\n",
       "    <tr>\n",
       "      <th>0</th>\n",
       "      <td>19</td>\n",
       "      <td>F</td>\n",
       "      <td>27.900000</td>\n",
       "      <td>0</td>\n",
       "      <td>yes</td>\n",
       "      <td>Southwest</td>\n",
       "      <td>16884.923828</td>\n",
       "    </tr>\n",
       "    <tr>\n",
       "      <th>1</th>\n",
       "      <td>18</td>\n",
       "      <td>M</td>\n",
       "      <td>33.770000</td>\n",
       "      <td>1</td>\n",
       "      <td>no</td>\n",
       "      <td>Southeast</td>\n",
       "      <td>1725.552246</td>\n",
       "    </tr>\n",
       "    <tr>\n",
       "      <th>2</th>\n",
       "      <td>28</td>\n",
       "      <td>M</td>\n",
       "      <td>33.000000</td>\n",
       "      <td>3</td>\n",
       "      <td>no</td>\n",
       "      <td>Southeast</td>\n",
       "      <td>4449.461914</td>\n",
       "    </tr>\n",
       "    <tr>\n",
       "      <th>3</th>\n",
       "      <td>33</td>\n",
       "      <td>M</td>\n",
       "      <td>22.705000</td>\n",
       "      <td>0</td>\n",
       "      <td>no</td>\n",
       "      <td>Northwest</td>\n",
       "      <td>21984.470703</td>\n",
       "    </tr>\n",
       "    <tr>\n",
       "      <th>4</th>\n",
       "      <td>32</td>\n",
       "      <td>M</td>\n",
       "      <td>28.879999</td>\n",
       "      <td>0</td>\n",
       "      <td>no</td>\n",
       "      <td>Northwest</td>\n",
       "      <td>3866.855225</td>\n",
       "    </tr>\n",
       "    <tr>\n",
       "      <th>...</th>\n",
       "      <td>...</td>\n",
       "      <td>...</td>\n",
       "      <td>...</td>\n",
       "      <td>...</td>\n",
       "      <td>...</td>\n",
       "      <td>...</td>\n",
       "      <td>...</td>\n",
       "    </tr>\n",
       "    <tr>\n",
       "      <th>1332</th>\n",
       "      <td>52</td>\n",
       "      <td>F</td>\n",
       "      <td>44.700001</td>\n",
       "      <td>3</td>\n",
       "      <td>no</td>\n",
       "      <td>Southwest</td>\n",
       "      <td>11411.684570</td>\n",
       "    </tr>\n",
       "    <tr>\n",
       "      <th>1333</th>\n",
       "      <td>50</td>\n",
       "      <td>M</td>\n",
       "      <td>30.969999</td>\n",
       "      <td>3</td>\n",
       "      <td>no</td>\n",
       "      <td>Northwest</td>\n",
       "      <td>10600.547852</td>\n",
       "    </tr>\n",
       "    <tr>\n",
       "      <th>1335</th>\n",
       "      <td>18</td>\n",
       "      <td>F</td>\n",
       "      <td>36.849998</td>\n",
       "      <td>0</td>\n",
       "      <td>no</td>\n",
       "      <td>Southeast</td>\n",
       "      <td>1629.833496</td>\n",
       "    </tr>\n",
       "    <tr>\n",
       "      <th>1336</th>\n",
       "      <td>21</td>\n",
       "      <td>F</td>\n",
       "      <td>25.799999</td>\n",
       "      <td>0</td>\n",
       "      <td>no</td>\n",
       "      <td>Southwest</td>\n",
       "      <td>2007.944946</td>\n",
       "    </tr>\n",
       "    <tr>\n",
       "      <th>1337</th>\n",
       "      <td>61</td>\n",
       "      <td>F</td>\n",
       "      <td>29.070000</td>\n",
       "      <td>0</td>\n",
       "      <td>yes</td>\n",
       "      <td>Northwest</td>\n",
       "      <td>29141.359375</td>\n",
       "    </tr>\n",
       "  </tbody>\n",
       "</table>\n",
       "<p>1108 rows × 7 columns</p>\n",
       "</div>"
      ],
      "text/plain": [
       "      age sex        bmi children smoker     region       charges\n",
       "0      19   F  27.900000        0    yes  Southwest  16884.923828\n",
       "1      18   M  33.770000        1     no  Southeast   1725.552246\n",
       "2      28   M  33.000000        3     no  Southeast   4449.461914\n",
       "3      33   M  22.705000        0     no  Northwest  21984.470703\n",
       "4      32   M  28.879999        0     no  Northwest   3866.855225\n",
       "...   ...  ..        ...      ...    ...        ...           ...\n",
       "1332   52   F  44.700001        3     no  Southwest  11411.684570\n",
       "1333   50   M  30.969999        3     no  Northwest  10600.547852\n",
       "1335   18   F  36.849998        0     no  Southeast   1629.833496\n",
       "1336   21   F  25.799999        0     no  Southwest   2007.944946\n",
       "1337   61   F  29.070000        0    yes  Northwest  29141.359375\n",
       "\n",
       "[1108 rows x 7 columns]"
      ]
     },
     "execution_count": 36,
     "metadata": {},
     "output_type": "execute_result"
    }
   ],
   "source": [
    "insurance"
   ]
  },
  {
   "cell_type": "markdown",
   "id": "704817d6",
   "metadata": {},
   "source": [
    "# Choosing Features and Target"
   ]
  },
  {
   "cell_type": "code",
   "execution_count": 37,
   "id": "21031964",
   "metadata": {},
   "outputs": [],
   "source": [
    "categorical_features = ['smoker']\n",
    "numerical_features = ['age', 'bmi']\n",
    "features = ['age','bmi','smoker_yes']\n",
    "target = 'charges'"
   ]
  },
  {
   "cell_type": "code",
   "execution_count": 38,
   "id": "1b322cce",
   "metadata": {},
   "outputs": [
    {
     "data": {
      "text/html": [
       "<div>\n",
       "<style scoped>\n",
       "    .dataframe tbody tr th:only-of-type {\n",
       "        vertical-align: middle;\n",
       "    }\n",
       "\n",
       "    .dataframe tbody tr th {\n",
       "        vertical-align: top;\n",
       "    }\n",
       "\n",
       "    .dataframe thead th {\n",
       "        text-align: right;\n",
       "    }\n",
       "</style>\n",
       "<table border=\"1\" class=\"dataframe\">\n",
       "  <thead>\n",
       "    <tr style=\"text-align: right;\">\n",
       "      <th></th>\n",
       "      <th>age</th>\n",
       "      <th>sex</th>\n",
       "      <th>bmi</th>\n",
       "      <th>children</th>\n",
       "      <th>region</th>\n",
       "      <th>charges</th>\n",
       "      <th>smoker_yes</th>\n",
       "    </tr>\n",
       "  </thead>\n",
       "  <tbody>\n",
       "    <tr>\n",
       "      <th>0</th>\n",
       "      <td>19</td>\n",
       "      <td>F</td>\n",
       "      <td>27.900000</td>\n",
       "      <td>0</td>\n",
       "      <td>Southwest</td>\n",
       "      <td>16884.923828</td>\n",
       "      <td>1</td>\n",
       "    </tr>\n",
       "    <tr>\n",
       "      <th>1</th>\n",
       "      <td>18</td>\n",
       "      <td>M</td>\n",
       "      <td>33.770000</td>\n",
       "      <td>1</td>\n",
       "      <td>Southeast</td>\n",
       "      <td>1725.552246</td>\n",
       "      <td>0</td>\n",
       "    </tr>\n",
       "    <tr>\n",
       "      <th>2</th>\n",
       "      <td>28</td>\n",
       "      <td>M</td>\n",
       "      <td>33.000000</td>\n",
       "      <td>3</td>\n",
       "      <td>Southeast</td>\n",
       "      <td>4449.461914</td>\n",
       "      <td>0</td>\n",
       "    </tr>\n",
       "    <tr>\n",
       "      <th>3</th>\n",
       "      <td>33</td>\n",
       "      <td>M</td>\n",
       "      <td>22.705000</td>\n",
       "      <td>0</td>\n",
       "      <td>Northwest</td>\n",
       "      <td>21984.470703</td>\n",
       "      <td>0</td>\n",
       "    </tr>\n",
       "    <tr>\n",
       "      <th>4</th>\n",
       "      <td>32</td>\n",
       "      <td>M</td>\n",
       "      <td>28.879999</td>\n",
       "      <td>0</td>\n",
       "      <td>Northwest</td>\n",
       "      <td>3866.855225</td>\n",
       "      <td>0</td>\n",
       "    </tr>\n",
       "    <tr>\n",
       "      <th>...</th>\n",
       "      <td>...</td>\n",
       "      <td>...</td>\n",
       "      <td>...</td>\n",
       "      <td>...</td>\n",
       "      <td>...</td>\n",
       "      <td>...</td>\n",
       "      <td>...</td>\n",
       "    </tr>\n",
       "    <tr>\n",
       "      <th>1332</th>\n",
       "      <td>52</td>\n",
       "      <td>F</td>\n",
       "      <td>44.700001</td>\n",
       "      <td>3</td>\n",
       "      <td>Southwest</td>\n",
       "      <td>11411.684570</td>\n",
       "      <td>0</td>\n",
       "    </tr>\n",
       "    <tr>\n",
       "      <th>1333</th>\n",
       "      <td>50</td>\n",
       "      <td>M</td>\n",
       "      <td>30.969999</td>\n",
       "      <td>3</td>\n",
       "      <td>Northwest</td>\n",
       "      <td>10600.547852</td>\n",
       "      <td>0</td>\n",
       "    </tr>\n",
       "    <tr>\n",
       "      <th>1335</th>\n",
       "      <td>18</td>\n",
       "      <td>F</td>\n",
       "      <td>36.849998</td>\n",
       "      <td>0</td>\n",
       "      <td>Southeast</td>\n",
       "      <td>1629.833496</td>\n",
       "      <td>0</td>\n",
       "    </tr>\n",
       "    <tr>\n",
       "      <th>1336</th>\n",
       "      <td>21</td>\n",
       "      <td>F</td>\n",
       "      <td>25.799999</td>\n",
       "      <td>0</td>\n",
       "      <td>Southwest</td>\n",
       "      <td>2007.944946</td>\n",
       "      <td>0</td>\n",
       "    </tr>\n",
       "    <tr>\n",
       "      <th>1337</th>\n",
       "      <td>61</td>\n",
       "      <td>F</td>\n",
       "      <td>29.070000</td>\n",
       "      <td>0</td>\n",
       "      <td>Northwest</td>\n",
       "      <td>29141.359375</td>\n",
       "      <td>1</td>\n",
       "    </tr>\n",
       "  </tbody>\n",
       "</table>\n",
       "<p>1108 rows × 7 columns</p>\n",
       "</div>"
      ],
      "text/plain": [
       "      age sex        bmi children     region       charges  smoker_yes\n",
       "0      19   F  27.900000        0  Southwest  16884.923828           1\n",
       "1      18   M  33.770000        1  Southeast   1725.552246           0\n",
       "2      28   M  33.000000        3  Southeast   4449.461914           0\n",
       "3      33   M  22.705000        0  Northwest  21984.470703           0\n",
       "4      32   M  28.879999        0  Northwest   3866.855225           0\n",
       "...   ...  ..        ...      ...        ...           ...         ...\n",
       "1332   52   F  44.700001        3  Southwest  11411.684570           0\n",
       "1333   50   M  30.969999        3  Northwest  10600.547852           0\n",
       "1335   18   F  36.849998        0  Southeast   1629.833496           0\n",
       "1336   21   F  25.799999        0  Southwest   2007.944946           0\n",
       "1337   61   F  29.070000        0  Northwest  29141.359375           1\n",
       "\n",
       "[1108 rows x 7 columns]"
      ]
     },
     "execution_count": 38,
     "metadata": {},
     "output_type": "execute_result"
    }
   ],
   "source": [
    "insurance_encoded = pd.get_dummies(insurance,columns= categorical_features,drop_first=True,dtype=int)\n",
    "insurance_encoded"
   ]
  },
  {
   "cell_type": "code",
   "execution_count": 39,
   "id": "2e3aa67d",
   "metadata": {},
   "outputs": [],
   "source": [
    "X = insurance_encoded[features]\n",
    "y = insurance_encoded[target]"
   ]
  },
  {
   "cell_type": "code",
   "execution_count": 40,
   "id": "f217ca9c",
   "metadata": {},
   "outputs": [
    {
     "data": {
      "text/html": [
       "<div>\n",
       "<style scoped>\n",
       "    .dataframe tbody tr th:only-of-type {\n",
       "        vertical-align: middle;\n",
       "    }\n",
       "\n",
       "    .dataframe tbody tr th {\n",
       "        vertical-align: top;\n",
       "    }\n",
       "\n",
       "    .dataframe thead th {\n",
       "        text-align: right;\n",
       "    }\n",
       "</style>\n",
       "<table border=\"1\" class=\"dataframe\">\n",
       "  <thead>\n",
       "    <tr style=\"text-align: right;\">\n",
       "      <th></th>\n",
       "      <th>age</th>\n",
       "      <th>bmi</th>\n",
       "      <th>smoker_yes</th>\n",
       "    </tr>\n",
       "  </thead>\n",
       "  <tbody>\n",
       "    <tr>\n",
       "      <th>0</th>\n",
       "      <td>19</td>\n",
       "      <td>27.900000</td>\n",
       "      <td>1</td>\n",
       "    </tr>\n",
       "    <tr>\n",
       "      <th>1</th>\n",
       "      <td>18</td>\n",
       "      <td>33.770000</td>\n",
       "      <td>0</td>\n",
       "    </tr>\n",
       "    <tr>\n",
       "      <th>2</th>\n",
       "      <td>28</td>\n",
       "      <td>33.000000</td>\n",
       "      <td>0</td>\n",
       "    </tr>\n",
       "    <tr>\n",
       "      <th>3</th>\n",
       "      <td>33</td>\n",
       "      <td>22.705000</td>\n",
       "      <td>0</td>\n",
       "    </tr>\n",
       "    <tr>\n",
       "      <th>4</th>\n",
       "      <td>32</td>\n",
       "      <td>28.879999</td>\n",
       "      <td>0</td>\n",
       "    </tr>\n",
       "    <tr>\n",
       "      <th>...</th>\n",
       "      <td>...</td>\n",
       "      <td>...</td>\n",
       "      <td>...</td>\n",
       "    </tr>\n",
       "    <tr>\n",
       "      <th>1332</th>\n",
       "      <td>52</td>\n",
       "      <td>44.700001</td>\n",
       "      <td>0</td>\n",
       "    </tr>\n",
       "    <tr>\n",
       "      <th>1333</th>\n",
       "      <td>50</td>\n",
       "      <td>30.969999</td>\n",
       "      <td>0</td>\n",
       "    </tr>\n",
       "    <tr>\n",
       "      <th>1335</th>\n",
       "      <td>18</td>\n",
       "      <td>36.849998</td>\n",
       "      <td>0</td>\n",
       "    </tr>\n",
       "    <tr>\n",
       "      <th>1336</th>\n",
       "      <td>21</td>\n",
       "      <td>25.799999</td>\n",
       "      <td>0</td>\n",
       "    </tr>\n",
       "    <tr>\n",
       "      <th>1337</th>\n",
       "      <td>61</td>\n",
       "      <td>29.070000</td>\n",
       "      <td>1</td>\n",
       "    </tr>\n",
       "  </tbody>\n",
       "</table>\n",
       "<p>1108 rows × 3 columns</p>\n",
       "</div>"
      ],
      "text/plain": [
       "      age        bmi  smoker_yes\n",
       "0      19  27.900000           1\n",
       "1      18  33.770000           0\n",
       "2      28  33.000000           0\n",
       "3      33  22.705000           0\n",
       "4      32  28.879999           0\n",
       "...   ...        ...         ...\n",
       "1332   52  44.700001           0\n",
       "1333   50  30.969999           0\n",
       "1335   18  36.849998           0\n",
       "1336   21  25.799999           0\n",
       "1337   61  29.070000           1\n",
       "\n",
       "[1108 rows x 3 columns]"
      ]
     },
     "execution_count": 40,
     "metadata": {},
     "output_type": "execute_result"
    }
   ],
   "source": [
    "X.shape\n",
    "X"
   ]
  },
  {
   "cell_type": "code",
   "execution_count": 41,
   "id": "c34cbc49",
   "metadata": {},
   "outputs": [],
   "source": [
    "X_train, X_test, y_train, y_test = train_test_split(X, y, test_size=0.3, random_state=42)\n"
   ]
  },
  {
   "cell_type": "code",
   "execution_count": 42,
   "id": "cb9e4c32",
   "metadata": {},
   "outputs": [],
   "source": [
    "#Scaling\n",
    "scaler = StandardScaler()\n",
    "X_train_scaled = scaler.fit_transform(X_train)\n",
    "X_test_scaled = scaler.transform(X_test)"
   ]
  },
  {
   "cell_type": "code",
   "execution_count": 43,
   "id": "72a92871",
   "metadata": {},
   "outputs": [
    {
     "data": {
      "text/html": [
       "<div>\n",
       "<style scoped>\n",
       "    .dataframe tbody tr th:only-of-type {\n",
       "        vertical-align: middle;\n",
       "    }\n",
       "\n",
       "    .dataframe tbody tr th {\n",
       "        vertical-align: top;\n",
       "    }\n",
       "\n",
       "    .dataframe thead th {\n",
       "        text-align: right;\n",
       "    }\n",
       "</style>\n",
       "<table border=\"1\" class=\"dataframe\">\n",
       "  <thead>\n",
       "    <tr style=\"text-align: right;\">\n",
       "      <th></th>\n",
       "      <th>name</th>\n",
       "      <th>mae</th>\n",
       "      <th>mse</th>\n",
       "      <th>r_squared(Testing)</th>\n",
       "      <th>r_squared(Training)</th>\n",
       "      <th>best_hyperparameter</th>\n",
       "    </tr>\n",
       "  </thead>\n",
       "  <tbody>\n",
       "  </tbody>\n",
       "</table>\n",
       "</div>"
      ],
      "text/plain": [
       "Empty DataFrame\n",
       "Columns: [name, mae, mse, r_squared(Testing), r_squared(Training), best_hyperparameter]\n",
       "Index: []"
      ]
     },
     "execution_count": 43,
     "metadata": {},
     "output_type": "execute_result"
    }
   ],
   "source": [
    "# creating metric Dataframe\n",
    "metric_df =pd.DataFrame(columns=['name','mae','mse','r_squared(Testing)','r_squared(Training)','best_hyperparameter'])\n",
    "metric_df\n"
   ]
  },
  {
   "cell_type": "markdown",
   "id": "33e68f97",
   "metadata": {},
   "source": [
    "# Linear Regression"
   ]
  },
  {
   "cell_type": "code",
   "execution_count": 44,
   "id": "2d45b9fc",
   "metadata": {},
   "outputs": [
    {
     "name": "stdout",
     "output_type": "stream",
     "text": [
      "0.7539467399575954 32971583.610996448 4114.5508380359015\n"
     ]
    },
    {
     "data": {
      "text/html": [
       "<div>\n",
       "<style scoped>\n",
       "    .dataframe tbody tr th:only-of-type {\n",
       "        vertical-align: middle;\n",
       "    }\n",
       "\n",
       "    .dataframe tbody tr th {\n",
       "        vertical-align: top;\n",
       "    }\n",
       "\n",
       "    .dataframe thead th {\n",
       "        text-align: right;\n",
       "    }\n",
       "</style>\n",
       "<table border=\"1\" class=\"dataframe\">\n",
       "  <thead>\n",
       "    <tr style=\"text-align: right;\">\n",
       "      <th></th>\n",
       "      <th>name</th>\n",
       "      <th>mae</th>\n",
       "      <th>mse</th>\n",
       "      <th>r_squared(Testing)</th>\n",
       "      <th>r_squared(Training)</th>\n",
       "      <th>best_hyperparameter</th>\n",
       "    </tr>\n",
       "  </thead>\n",
       "  <tbody>\n",
       "    <tr>\n",
       "      <th>0</th>\n",
       "      <td>linear</td>\n",
       "      <td>4114.550838</td>\n",
       "      <td>3.297158e+07</td>\n",
       "      <td>0.753947</td>\n",
       "      <td>0.745515</td>\n",
       "      <td></td>\n",
       "    </tr>\n",
       "  </tbody>\n",
       "</table>\n",
       "</div>"
      ],
      "text/plain": [
       "     name          mae           mse  r_squared(Testing)  r_squared(Training)  \\\n",
       "0  linear  4114.550838  3.297158e+07            0.753947             0.745515   \n",
       "\n",
       "  best_hyperparameter  \n",
       "0                      "
      ]
     },
     "execution_count": 44,
     "metadata": {},
     "output_type": "execute_result"
    }
   ],
   "source": [
    "# creating model\n",
    "model1 = LinearRegression()\n",
    "\n",
    "#fitting the model\n",
    "model1.fit(X_train,y_train)\n",
    "r2_train = model1.score(X_train,y_train)\n",
    "#predicting the model\n",
    "y_pred = model1.predict(X_test)\n",
    "\n",
    "#calculating metrics\n",
    "r2 = r2_score(y_test,y_pred)\n",
    "mse = mean_squared_error(y_test,y_pred)\n",
    "mae = mean_absolute_error(y_test,y_pred)\n",
    "print(r2,mse,mae)\n",
    "\n",
    "metric_df.loc[0] = ['linear', mae, mse, r2,r2_train,'']\n",
    "metric_df\n",
    "\n"
   ]
  },
  {
   "cell_type": "code",
   "execution_count": 45,
   "id": "3157f8ce",
   "metadata": {},
   "outputs": [
    {
     "name": "stdout",
     "output_type": "stream",
     "text": [
      "{} 0.7390026402647661\n",
      "0.7539467399575953 32971583.61099645 4114.5508380359015\n"
     ]
    },
    {
     "data": {
      "text/html": [
       "<div>\n",
       "<style scoped>\n",
       "    .dataframe tbody tr th:only-of-type {\n",
       "        vertical-align: middle;\n",
       "    }\n",
       "\n",
       "    .dataframe tbody tr th {\n",
       "        vertical-align: top;\n",
       "    }\n",
       "\n",
       "    .dataframe thead th {\n",
       "        text-align: right;\n",
       "    }\n",
       "</style>\n",
       "<table border=\"1\" class=\"dataframe\">\n",
       "  <thead>\n",
       "    <tr style=\"text-align: right;\">\n",
       "      <th></th>\n",
       "      <th>name</th>\n",
       "      <th>mae</th>\n",
       "      <th>mse</th>\n",
       "      <th>r_squared(Testing)</th>\n",
       "      <th>r_squared(Training)</th>\n",
       "      <th>best_hyperparameter</th>\n",
       "    </tr>\n",
       "  </thead>\n",
       "  <tbody>\n",
       "    <tr>\n",
       "      <th>0</th>\n",
       "      <td>linear</td>\n",
       "      <td>4114.550838</td>\n",
       "      <td>3.297158e+07</td>\n",
       "      <td>0.753947</td>\n",
       "      <td>0.745515</td>\n",
       "      <td></td>\n",
       "    </tr>\n",
       "    <tr>\n",
       "      <th>1</th>\n",
       "      <td>linear with scaling</td>\n",
       "      <td>4114.550838</td>\n",
       "      <td>3.297158e+07</td>\n",
       "      <td>0.753947</td>\n",
       "      <td>0.739003</td>\n",
       "      <td></td>\n",
       "    </tr>\n",
       "  </tbody>\n",
       "</table>\n",
       "</div>"
      ],
      "text/plain": [
       "                  name          mae           mse  r_squared(Testing)  \\\n",
       "0               linear  4114.550838  3.297158e+07            0.753947   \n",
       "1  linear with scaling  4114.550838  3.297158e+07            0.753947   \n",
       "\n",
       "   r_squared(Training) best_hyperparameter  \n",
       "0             0.745515                      \n",
       "1             0.739003                      "
      ]
     },
     "execution_count": 45,
     "metadata": {},
     "output_type": "execute_result"
    }
   ],
   "source": [
    "steps = [('scaler',StandardScaler()),('lin_reg',LinearRegression())]\n",
    "\n",
    "pipeline = Pipeline(steps)\n",
    "pram = {}\n",
    "kf = KFold(n_splits=5,shuffle=True,random_state=42)\n",
    "model1_scaled = GridSearchCV(pipeline,param_grid=pram,cv=kf)\n",
    "\n",
    "model1_scaled.fit(X_train,y_train)\n",
    "\n",
    "model1_best_model = model1_scaled.best_estimator_\n",
    "model1_best_param = model1_scaled.best_params_\n",
    "model1_best_score = model1_scaled.best_score_\n",
    "\n",
    "print(model1_best_param,model1_best_score)\n",
    "\n",
    "\n",
    "y_pred = model1_best_model.predict(X_test)\n",
    "\n",
    "r2 = r2_score(y_test,y_pred)\n",
    "mse = mean_squared_error(y_test,y_pred)\n",
    "mae = mean_absolute_error(y_test,y_pred)\n",
    "\n",
    "print(r2,mse,mae)\n",
    "metric_df.loc[1] = ['linear with scaling', mae, mse, r2,model1_best_score, '']\n",
    "metric_df"
   ]
  },
  {
   "cell_type": "markdown",
   "id": "03893bc0",
   "metadata": {},
   "source": [
    "# Ridge"
   ]
  },
  {
   "cell_type": "code",
   "execution_count": 46,
   "id": "edf1c300",
   "metadata": {},
   "outputs": [
    {
     "name": "stdout",
     "output_type": "stream",
     "text": [
      "[0.7539464471815638, 0.7482942538537715, 0.7386200190745735, 0.7264846932887381, 0.7129099092357609, 0.6985713235677061, 0.6839183226647549, 0.6692499117248412, 0.6547638245116323, 0.640588876823126, 0.6268066148356661, 0.6134659967589714, 0.6005934655929239, 0.5881999278585499, 0.5762856280158617, 0.5648435750240541, 0.553861962454456, 0.5433258826687406, 0.5332185419616923, 0.5235221205710777, 0.5142183785640573, 0.5052890790888356, 0.496716279961416, 0.48848253016568177, 0.4805709976668572, 0.47296554768535926, 0.46565078537367677, 0.45861207308113694, 0.4518355296628529, 0.44530801729798564, 0.4390171198230145, 0.43295111551200893, 0.4270989464435182, 0.42145018600752404, 0.41599500567154646, 0.4107241418028752, 0.4056288631050201, 0.40070093904953574, 0.39593260955363774, 0.391316556057816, 0.38684587408726645, 0.3825140473299282, 0.3783149232273666, 0.37424269004901856, 0.3702918554026918, 0.36645722612260023, 0.3627338894690585, 0.35911719557009425, 0.35560274103374157, 0.3521863536600218, 0.34886407818305754, 0.34563216297605204, 0.3424870476546953, 0.33942535151772535, 0.33644386276672744, 0.33353952845067825, 0.3307094450841398, 0.32795084989134937, 0.32526111263167246, 0.3226377279649657, 0.3200783083183286, 0.31758057721848165, 0.31514236305661036, 0.3127615932549409, 0.3104362888065829, 0.3081645591622846, 0.30594459743970304, 0.30377467593261887, 0.3016531418991937, 0.2995784136099444, 0.2975489766375293, 0.29556338037178753, 0.29362023474468935, 0.29171820715099595, 0.2898560195514699, 0.2880324457464418, 0.2862463088084338, 0.2844964786633578, 0.2827818698105645, 0.281101439172723, 0.27945418406715195, 0.2778391402908226, 0.2762553803118034, 0.2747020115604232, 0.2731781748139053, 0.2716830426686502, 0.27021581809475625, 0.2687757330677334, 0.26736204727270785, 0.2659740468767402, 0.26461104336516883, 0.2632723724381636, 0.26195739296393505, 0.26066548598526873, 0.25939605377628094, 0.25814851894649005, 0.2569223235894875, 0.25571692847366423, 0.25453181227261656, 0.2533664708329948]\n"
     ]
    },
    {
     "data": {
      "image/png": "[encoded data removed]",
      "text/plain": [
       "<Figure size 640x480 with 1 Axes>"
      ]
     },
     "metadata": {},
     "output_type": "display_data"
    }
   ],
   "source": [
    "scores = []\n",
    "for alpha in np.arange(0.001,1000,10):\n",
    "    model2 = Ridge(alpha=alpha)\n",
    "    model2.fit(X_train,y_train)\n",
    "    scores.append(model2.score(X_test,y_test))\n",
    "\n",
    "print(scores)\n",
    "\n",
    "plt.plot(np.arange(0.001,1000,10),scores)\n",
    "plt.xlabel('alpha')\n",
    "plt.ylabel('R squared')\n",
    "plt.show()"
   ]
  },
  {
   "cell_type": "code",
   "execution_count": 47,
   "id": "28bd9fc0",
   "metadata": {},
   "outputs": [
    {
     "name": "stdout",
     "output_type": "stream",
     "text": [
      "{'ridge__alpha': 10.001} 0.7392072891345098\n",
      "0.7535861859788857 33019898.498810787 4122.600296761099\n"
     ]
    }
   ],
   "source": [
    "#creating pipeline\n",
    "steps = [('scaler',StandardScaler()),('ridge',Ridge())]\n",
    "pipeline = Pipeline(steps)\n",
    "\n",
    "#finding best parameter\n",
    "params = {'ridge__alpha':np.arange(0.001,1000,10)}\n",
    "kf = KFold(n_splits=5,shuffle=True,random_state=42)\n",
    "ridge = GridSearchCV(pipeline,param_grid=params,cv=kf)\n",
    "\n",
    "#fitting the model\n",
    "ridge.fit(X_train,y_train)\n",
    "\n",
    "ridge_best_model = ridge.best_estimator_\n",
    "ridge_best_para = ridge.best_params_\n",
    "ridge_best_score = ridge.best_score_\n",
    "\n",
    "print(ridge_best_para, ridge_best_score)\n",
    "\n",
    "y_pred = ridge_best_model.predict(X_test)\n",
    "\n",
    "r2 = r2_score(y_test,y_pred)\n",
    "mse = mean_squared_error(y_test,y_pred)\n",
    "mae = mean_absolute_error(y_test,y_pred)\n",
    "\n",
    "metric_df.loc[2] = ['ridge', mae, mse, r2,ridge_best_score, ridge_best_para]\n",
    "print(r2,mse,mae)\n",
    "\n"
   ]
  },
  {
   "cell_type": "code",
   "execution_count": 48,
   "id": "b1fe67db",
   "metadata": {},
   "outputs": [
    {
     "data": {
      "text/html": [
       "<div>\n",
       "<style scoped>\n",
       "    .dataframe tbody tr th:only-of-type {\n",
       "        vertical-align: middle;\n",
       "    }\n",
       "\n",
       "    .dataframe tbody tr th {\n",
       "        vertical-align: top;\n",
       "    }\n",
       "\n",
       "    .dataframe thead th {\n",
       "        text-align: right;\n",
       "    }\n",
       "</style>\n",
       "<table border=\"1\" class=\"dataframe\">\n",
       "  <thead>\n",
       "    <tr style=\"text-align: right;\">\n",
       "      <th></th>\n",
       "      <th>name</th>\n",
       "      <th>mae</th>\n",
       "      <th>mse</th>\n",
       "      <th>r_squared(Testing)</th>\n",
       "      <th>r_squared(Training)</th>\n",
       "      <th>best_hyperparameter</th>\n",
       "    </tr>\n",
       "  </thead>\n",
       "  <tbody>\n",
       "    <tr>\n",
       "      <th>0</th>\n",
       "      <td>linear</td>\n",
       "      <td>4114.550838</td>\n",
       "      <td>3.297158e+07</td>\n",
       "      <td>0.753947</td>\n",
       "      <td>0.745515</td>\n",
       "      <td></td>\n",
       "    </tr>\n",
       "    <tr>\n",
       "      <th>1</th>\n",
       "      <td>linear with scaling</td>\n",
       "      <td>4114.550838</td>\n",
       "      <td>3.297158e+07</td>\n",
       "      <td>0.753947</td>\n",
       "      <td>0.739003</td>\n",
       "      <td></td>\n",
       "    </tr>\n",
       "    <tr>\n",
       "      <th>2</th>\n",
       "      <td>ridge</td>\n",
       "      <td>4122.600297</td>\n",
       "      <td>3.301990e+07</td>\n",
       "      <td>0.753586</td>\n",
       "      <td>0.739207</td>\n",
       "      <td>{'ridge__alpha': 10.001}</td>\n",
       "    </tr>\n",
       "  </tbody>\n",
       "</table>\n",
       "</div>"
      ],
      "text/plain": [
       "                  name          mae           mse  r_squared(Testing)  \\\n",
       "0               linear  4114.550838  3.297158e+07            0.753947   \n",
       "1  linear with scaling  4114.550838  3.297158e+07            0.753947   \n",
       "2                ridge  4122.600297  3.301990e+07            0.753586   \n",
       "\n",
       "   r_squared(Training)       best_hyperparameter  \n",
       "0             0.745515                            \n",
       "1             0.739003                            \n",
       "2             0.739207  {'ridge__alpha': 10.001}  "
      ]
     },
     "execution_count": 48,
     "metadata": {},
     "output_type": "execute_result"
    }
   ],
   "source": [
    "metric_df"
   ]
  },
  {
   "cell_type": "code",
   "execution_count": 49,
   "id": "1d2fc694",
   "metadata": {},
   "outputs": [
    {
     "name": "stdout",
     "output_type": "stream",
     "text": [
      "[0.7539467313837929, 0.7538577626558072, 0.7537616377285059, 0.753658168158635, 0.7535473539461941, 0.7534291950911836, 0.7533036915936032, 0.753170843453453, 0.753030650670733, 0.7528831132454432, 0.7527282311775837, 0.7525660044671543, 0.7523964331141552, 0.7522195171185863, 0.7520352564804474, 0.7518436511997388, 0.7516447012764607, 0.7514384067106125, 0.7512247675021946, 0.7510037836512069, 0.7507754551576492, 0.7505397820215219, 0.7502967642428249, 0.750046401821558, 0.7497886947577213, 0.7495236430513148, 0.7492512467023384, 0.7489715057107924, 0.7486844200766765, 0.7483899897999908, 0.7480882148807354, 0.7477790953189101, 0.747462631114515, 0.7471388222675501, 0.7468076687780156, 0.7464691706459111, 0.7461233278712369, 0.7457701404539929, 0.745409608394179, 0.7450417316917954, 0.744666510346842, 0.7442839443593188, 0.7438940337292257, 0.7434967784565629, 0.7430921785413303, 0.7426802339835279, 0.7422609447831557, 0.7418343109402138, 0.7414003324547019, 0.7409590093266204, 0.7405103415559691, 0.7400543291427479, 0.7395909720869569, 0.7391202703885962, 0.7386422240476656, 0.7381568330641652, 0.7376640974380951, 0.7371640171694552, 0.7366565922582454, 0.7361418227044659, 0.7356197085081166, 0.7350902496691976, 0.7345534461877086, 0.7340092980636499, 0.7334578052970213, 0.7328989678878232, 0.732332785836055, 0.731759259141717, 0.7311783878048095, 0.7305901718253319, 0.7299946112032847, 0.7293917059386676, 0.7287814560314807, 0.7281638614817241, 0.7275389222893976, 0.7269066384545014, 0.7262670099770354, 0.7256200368569996, 0.7249657190943939, 0.7243040566892184, 0.7236350496414732, 0.7229586979511582, 0.7222750016182733, 0.7215839606428188, 0.7208855750247944, 0.7201798447642003, 0.7194667698610362, 0.7187463503153024, 0.7180185861269988, 0.7172834772961254, 0.7165410238226823, 0.7157912257066693, 0.7150340829480866, 0.714269595546934, 0.7134977635032116, 0.7127185868169195, 0.7119320654880575, 0.7111381995166258, 0.7103369889026243, 0.709528433646053]\n"
     ]
    },
    {
     "data": {
      "image/png": "[encoded data removed]",
      "text/plain": [
       "<Figure size 640x480 with 1 Axes>"
      ]
     },
     "metadata": {},
     "output_type": "display_data"
    }
   ],
   "source": [
    "# Lasso \n",
    "scores = []\n",
    "for alpha in np.arange(0.001,1000,10):\n",
    "    model3 = Lasso(alpha=alpha)\n",
    "    model3.fit(X_train,y_train)\n",
    "    scores.append(model3.score(X_test,y_test))\n",
    "\n",
    "print(scores)\n",
    "\n",
    "plt.plot(np.arange(0.001,1000,10),scores)\n",
    "plt.xlabel('alpha')\n",
    "plt.ylabel('R squared')\n",
    "plt.show()"
   ]
  },
  {
   "cell_type": "code",
   "execution_count": 50,
   "id": "c45ae852",
   "metadata": {},
   "outputs": [
    {
     "name": "stdout",
     "output_type": "stream",
     "text": [
      "{'lasso__alpha': 60.001} 0.7390692225644386\n",
      "0.7541094905845496 32949774.73147404 4098.650790706955\n"
     ]
    }
   ],
   "source": [
    "#creating pipeline\n",
    "steps = [('scaler',StandardScaler()),('lasso',Lasso())]\n",
    "pipeline = Pipeline(steps)\n",
    "\n",
    "params = {'lasso__alpha':np.arange(0.001,1000,10)}\n",
    "kf = KFold(n_splits=5,shuffle=True,random_state=42)\n",
    "lasso = GridSearchCV(pipeline,param_grid=params,cv=kf)\n",
    "\n",
    "lasso.fit(X_train,y_train)\n",
    "\n",
    "lasso_best_model = lasso.best_estimator_\n",
    "lasso_best_para = lasso.best_params_\n",
    "lasso_best_score = lasso.best_score_\n",
    "\n",
    "print(lasso_best_para, lasso_best_score)\n",
    "\n",
    "y_pred = lasso_best_model.predict(X_test)\n",
    "\n",
    "r2 = r2_score(y_test,y_pred)\n",
    "mse = mean_squared_error(y_test,y_pred)\n",
    "mae = mean_absolute_error(y_test,y_pred)\n",
    "\n",
    "\n",
    "print(r2,mse,mae)\n",
    "metric_df.loc[3] = ['lasso', mae, mse, r2,lasso_best_score, lasso_best_para]"
   ]
  },
  {
   "cell_type": "code",
   "execution_count": 51,
   "id": "1137fbc5",
   "metadata": {},
   "outputs": [
    {
     "data": {
      "text/html": [
       "<div>\n",
       "<style scoped>\n",
       "    .dataframe tbody tr th:only-of-type {\n",
       "        vertical-align: middle;\n",
       "    }\n",
       "\n",
       "    .dataframe tbody tr th {\n",
       "        vertical-align: top;\n",
       "    }\n",
       "\n",
       "    .dataframe thead th {\n",
       "        text-align: right;\n",
       "    }\n",
       "</style>\n",
       "<table border=\"1\" class=\"dataframe\">\n",
       "  <thead>\n",
       "    <tr style=\"text-align: right;\">\n",
       "      <th></th>\n",
       "      <th>name</th>\n",
       "      <th>mae</th>\n",
       "      <th>mse</th>\n",
       "      <th>r_squared(Testing)</th>\n",
       "      <th>r_squared(Training)</th>\n",
       "      <th>best_hyperparameter</th>\n",
       "    </tr>\n",
       "  </thead>\n",
       "  <tbody>\n",
       "    <tr>\n",
       "      <th>0</th>\n",
       "      <td>linear</td>\n",
       "      <td>4114.550838</td>\n",
       "      <td>3.297158e+07</td>\n",
       "      <td>0.753947</td>\n",
       "      <td>0.745515</td>\n",
       "      <td></td>\n",
       "    </tr>\n",
       "    <tr>\n",
       "      <th>1</th>\n",
       "      <td>linear with scaling</td>\n",
       "      <td>4114.550838</td>\n",
       "      <td>3.297158e+07</td>\n",
       "      <td>0.753947</td>\n",
       "      <td>0.739003</td>\n",
       "      <td></td>\n",
       "    </tr>\n",
       "    <tr>\n",
       "      <th>2</th>\n",
       "      <td>ridge</td>\n",
       "      <td>4122.600297</td>\n",
       "      <td>3.301990e+07</td>\n",
       "      <td>0.753586</td>\n",
       "      <td>0.739207</td>\n",
       "      <td>{'ridge__alpha': 10.001}</td>\n",
       "    </tr>\n",
       "    <tr>\n",
       "      <th>3</th>\n",
       "      <td>lasso</td>\n",
       "      <td>4098.650791</td>\n",
       "      <td>3.294977e+07</td>\n",
       "      <td>0.754109</td>\n",
       "      <td>0.739069</td>\n",
       "      <td>{'lasso__alpha': 60.001}</td>\n",
       "    </tr>\n",
       "  </tbody>\n",
       "</table>\n",
       "</div>"
      ],
      "text/plain": [
       "                  name          mae           mse  r_squared(Testing)  \\\n",
       "0               linear  4114.550838  3.297158e+07            0.753947   \n",
       "1  linear with scaling  4114.550838  3.297158e+07            0.753947   \n",
       "2                ridge  4122.600297  3.301990e+07            0.753586   \n",
       "3                lasso  4098.650791  3.294977e+07            0.754109   \n",
       "\n",
       "   r_squared(Training)       best_hyperparameter  \n",
       "0             0.745515                            \n",
       "1             0.739003                            \n",
       "2             0.739207  {'ridge__alpha': 10.001}  \n",
       "3             0.739069  {'lasso__alpha': 60.001}  "
      ]
     },
     "execution_count": 51,
     "metadata": {},
     "output_type": "execute_result"
    }
   ],
   "source": [
    "metric_df"
   ]
  },
  {
   "cell_type": "markdown",
   "id": "2b6e37d7",
   "metadata": {},
   "source": [
    "# poly regression"
   ]
  },
  {
   "cell_type": "code",
   "execution_count": 52,
   "id": "f01b870b",
   "metadata": {},
   "outputs": [
    {
     "data": {
      "text/html": [
       "<div>\n",
       "<style scoped>\n",
       "    .dataframe tbody tr th:only-of-type {\n",
       "        vertical-align: middle;\n",
       "    }\n",
       "\n",
       "    .dataframe tbody tr th {\n",
       "        vertical-align: top;\n",
       "    }\n",
       "\n",
       "    .dataframe thead th {\n",
       "        text-align: right;\n",
       "    }\n",
       "</style>\n",
       "<table border=\"1\" class=\"dataframe\">\n",
       "  <thead>\n",
       "    <tr style=\"text-align: right;\">\n",
       "      <th></th>\n",
       "      <th>age</th>\n",
       "      <th>bmi</th>\n",
       "      <th>smoker_yes</th>\n",
       "    </tr>\n",
       "  </thead>\n",
       "  <tbody>\n",
       "    <tr>\n",
       "      <th>0</th>\n",
       "      <td>19</td>\n",
       "      <td>27.900000</td>\n",
       "      <td>1</td>\n",
       "    </tr>\n",
       "    <tr>\n",
       "      <th>1</th>\n",
       "      <td>18</td>\n",
       "      <td>33.770000</td>\n",
       "      <td>0</td>\n",
       "    </tr>\n",
       "    <tr>\n",
       "      <th>2</th>\n",
       "      <td>28</td>\n",
       "      <td>33.000000</td>\n",
       "      <td>0</td>\n",
       "    </tr>\n",
       "    <tr>\n",
       "      <th>3</th>\n",
       "      <td>33</td>\n",
       "      <td>22.705000</td>\n",
       "      <td>0</td>\n",
       "    </tr>\n",
       "    <tr>\n",
       "      <th>4</th>\n",
       "      <td>32</td>\n",
       "      <td>28.879999</td>\n",
       "      <td>0</td>\n",
       "    </tr>\n",
       "    <tr>\n",
       "      <th>...</th>\n",
       "      <td>...</td>\n",
       "      <td>...</td>\n",
       "      <td>...</td>\n",
       "    </tr>\n",
       "    <tr>\n",
       "      <th>1332</th>\n",
       "      <td>52</td>\n",
       "      <td>44.700001</td>\n",
       "      <td>0</td>\n",
       "    </tr>\n",
       "    <tr>\n",
       "      <th>1333</th>\n",
       "      <td>50</td>\n",
       "      <td>30.969999</td>\n",
       "      <td>0</td>\n",
       "    </tr>\n",
       "    <tr>\n",
       "      <th>1335</th>\n",
       "      <td>18</td>\n",
       "      <td>36.849998</td>\n",
       "      <td>0</td>\n",
       "    </tr>\n",
       "    <tr>\n",
       "      <th>1336</th>\n",
       "      <td>21</td>\n",
       "      <td>25.799999</td>\n",
       "      <td>0</td>\n",
       "    </tr>\n",
       "    <tr>\n",
       "      <th>1337</th>\n",
       "      <td>61</td>\n",
       "      <td>29.070000</td>\n",
       "      <td>1</td>\n",
       "    </tr>\n",
       "  </tbody>\n",
       "</table>\n",
       "<p>1108 rows × 3 columns</p>\n",
       "</div>"
      ],
      "text/plain": [
       "      age        bmi  smoker_yes\n",
       "0      19  27.900000           1\n",
       "1      18  33.770000           0\n",
       "2      28  33.000000           0\n",
       "3      33  22.705000           0\n",
       "4      32  28.879999           0\n",
       "...   ...        ...         ...\n",
       "1332   52  44.700001           0\n",
       "1333   50  30.969999           0\n",
       "1335   18  36.849998           0\n",
       "1336   21  25.799999           0\n",
       "1337   61  29.070000           1\n",
       "\n",
       "[1108 rows x 3 columns]"
      ]
     },
     "execution_count": 52,
     "metadata": {},
     "output_type": "execute_result"
    }
   ],
   "source": [
    "X"
   ]
  },
  {
   "cell_type": "code",
   "execution_count": 53,
   "id": "e889e916",
   "metadata": {},
   "outputs": [
    {
     "name": "stdout",
     "output_type": "stream",
     "text": [
      "2 0.8405983999819766\n",
      "0.8181727984669742 24365175.153812084 2916.33551117035\n"
     ]
    }
   ],
   "source": [
    "pipe = Pipeline([('scaler',StandardScaler()),('poly',PolynomialFeatures()),('reg',LinearRegression())])\n",
    "\n",
    "prams = {'poly__degree':list(range(2,11))}\n",
    "\n",
    "kf = KFold(n_splits=5,shuffle=True,random_state=42)\n",
    "\n",
    "poly = GridSearchCV(pipe, param_grid=prams, cv=kf)\n",
    "\n",
    "poly.fit(X_train,y_train)\n",
    "\n",
    "best_model = poly.best_estimator_\n",
    "best_degree = poly.best_params_['poly__degree']\n",
    "best_score = poly.best_score_\n",
    "\n",
    "print(best_degree, best_score)\n",
    "\n",
    "\n",
    "y_pred = best_model.predict(X_test)\n",
    "\n",
    "r2 = r2_score(y_test,y_pred)\n",
    "mse = mean_squared_error(y_test,y_pred)\n",
    "mae = mean_absolute_error(y_test,y_pred)\n",
    "\n",
    "print(r2,mse,mae)\n",
    "metric_df.loc[4] = ['poly', mae, mse, r2, best_score, 'degree :'+str(best_degree)]"
   ]
  },
  {
   "cell_type": "code",
   "execution_count": 54,
   "id": "37e462dc",
   "metadata": {},
   "outputs": [
    {
     "data": {
      "text/html": [
       "<div>\n",
       "<style scoped>\n",
       "    .dataframe tbody tr th:only-of-type {\n",
       "        vertical-align: middle;\n",
       "    }\n",
       "\n",
       "    .dataframe tbody tr th {\n",
       "        vertical-align: top;\n",
       "    }\n",
       "\n",
       "    .dataframe thead th {\n",
       "        text-align: right;\n",
       "    }\n",
       "</style>\n",
       "<table border=\"1\" class=\"dataframe\">\n",
       "  <thead>\n",
       "    <tr style=\"text-align: right;\">\n",
       "      <th></th>\n",
       "      <th>name</th>\n",
       "      <th>mae</th>\n",
       "      <th>mse</th>\n",
       "      <th>r_squared(Testing)</th>\n",
       "      <th>r_squared(Training)</th>\n",
       "      <th>best_hyperparameter</th>\n",
       "    </tr>\n",
       "  </thead>\n",
       "  <tbody>\n",
       "    <tr>\n",
       "      <th>0</th>\n",
       "      <td>linear</td>\n",
       "      <td>4114.550838</td>\n",
       "      <td>3.297158e+07</td>\n",
       "      <td>0.753947</td>\n",
       "      <td>0.745515</td>\n",
       "      <td></td>\n",
       "    </tr>\n",
       "    <tr>\n",
       "      <th>1</th>\n",
       "      <td>linear with scaling</td>\n",
       "      <td>4114.550838</td>\n",
       "      <td>3.297158e+07</td>\n",
       "      <td>0.753947</td>\n",
       "      <td>0.739003</td>\n",
       "      <td></td>\n",
       "    </tr>\n",
       "    <tr>\n",
       "      <th>2</th>\n",
       "      <td>ridge</td>\n",
       "      <td>4122.600297</td>\n",
       "      <td>3.301990e+07</td>\n",
       "      <td>0.753586</td>\n",
       "      <td>0.739207</td>\n",
       "      <td>{'ridge__alpha': 10.001}</td>\n",
       "    </tr>\n",
       "    <tr>\n",
       "      <th>3</th>\n",
       "      <td>lasso</td>\n",
       "      <td>4098.650791</td>\n",
       "      <td>3.294977e+07</td>\n",
       "      <td>0.754109</td>\n",
       "      <td>0.739069</td>\n",
       "      <td>{'lasso__alpha': 60.001}</td>\n",
       "    </tr>\n",
       "    <tr>\n",
       "      <th>4</th>\n",
       "      <td>poly</td>\n",
       "      <td>2916.335511</td>\n",
       "      <td>2.436518e+07</td>\n",
       "      <td>0.818173</td>\n",
       "      <td>0.840598</td>\n",
       "      <td>degree :2</td>\n",
       "    </tr>\n",
       "  </tbody>\n",
       "</table>\n",
       "</div>"
      ],
      "text/plain": [
       "                  name          mae           mse  r_squared(Testing)  \\\n",
       "0               linear  4114.550838  3.297158e+07            0.753947   \n",
       "1  linear with scaling  4114.550838  3.297158e+07            0.753947   \n",
       "2                ridge  4122.600297  3.301990e+07            0.753586   \n",
       "3                lasso  4098.650791  3.294977e+07            0.754109   \n",
       "4                 poly  2916.335511  2.436518e+07            0.818173   \n",
       "\n",
       "   r_squared(Training)       best_hyperparameter  \n",
       "0             0.745515                            \n",
       "1             0.739003                            \n",
       "2             0.739207  {'ridge__alpha': 10.001}  \n",
       "3             0.739069  {'lasso__alpha': 60.001}  \n",
       "4             0.840598                 degree :2  "
      ]
     },
     "execution_count": 54,
     "metadata": {},
     "output_type": "execute_result"
    }
   ],
   "source": [
    "metric_df"
   ]
  },
  {
   "cell_type": "code",
   "execution_count": 55,
   "id": "ccb88175",
   "metadata": {},
   "outputs": [
    {
     "data": {
      "image/png": "[encoded data removed]",
      "text/plain": [
       "<Figure size 640x480 with 1 Axes>"
      ]
     },
     "metadata": {},
     "output_type": "display_data"
    },
    {
     "data": {
      "image/png": "[encoded data removed]",
      "text/plain": [
       "<Figure size 640x480 with 1 Axes>"
      ]
     },
     "metadata": {},
     "output_type": "display_data"
    },
    {
     "data": {
      "image/png": "[encoded data removed]",
      "text/plain": [
       "<Figure size 640x480 with 1 Axes>"
      ]
     },
     "metadata": {},
     "output_type": "display_data"
    },
    {
     "data": {
      "image/png": "[encoded data removed]",
      "text/plain": [
       "<Figure size 640x480 with 1 Axes>"
      ]
     },
     "metadata": {},
     "output_type": "display_data"
    }
   ],
   "source": [
    "sns.barplot(x='name',y='r_squared(Training)',data = metric_df)\n",
    "plt.show()\n",
    "sns.barplot(x='name',y='r_squared(Testing)',data = metric_df)\n",
    "plt.show()\n",
    "\n",
    "sns.barplot(x='name',y='mae',data=metric_df)\n",
    "plt.show()\n",
    "\n",
    "sns.barplot(x='name',y='mse',data=metric_df)\n",
    "plt.show()"
   ]
  },
  {
   "cell_type": "code",
   "execution_count": 56,
   "id": "e4875be3",
   "metadata": {},
   "outputs": [],
   "source": [
    "def predict_charges(age, bmi, smoker):\n",
    "    # Convert smoker input to binary\n",
    "    smoker_yes = 1 if smoker.lower() == 'yes' else 0\n",
    "\n",
    "    # Create input DataFrame\n",
    "    input_data = pd.DataFrame([[age, bmi, smoker_yes]], columns=['age', 'bmi', 'smoker_yes'])\n",
    "\n",
    "    # Predict\n",
    "    predicted_charge = best_model.predict(input_data)[0]\n",
    "    return predicted_charge"
   ]
  },
  {
   "cell_type": "code",
   "execution_count": 57,
   "id": "45e4795b",
   "metadata": {},
   "outputs": [
    {
     "name": "stdout",
     "output_type": "stream",
     "text": [
      "Predicted insurance charges: $5727.50\n"
     ]
    }
   ],
   "source": [
    "charge = predict_charges(age=30, bmi=27.5, smoker='no')\n",
    "print(f\"Predicted insurance charges: ${charge:.2f}\")"
   ]
  },
  {
   "cell_type": "code",
   "execution_count": 58,
   "id": "935eec56",
   "metadata": {},
   "outputs": [
    {
     "data": {
      "text/plain": [
       "age                  35\n",
       "sex                   M\n",
       "bmi           17.860001\n",
       "children              1\n",
       "smoker               no\n",
       "region        Northwest\n",
       "charges     5116.500488\n",
       "Name: 1205, dtype: object"
      ]
     },
     "execution_count": 58,
     "metadata": {},
     "output_type": "execute_result"
    }
   ],
   "source": [
    "insurance.iloc[1000]"
   ]
  },
  {
   "cell_type": "code",
   "execution_count": 59,
   "id": "b01bd238",
   "metadata": {},
   "outputs": [
    {
     "name": "stdout",
     "output_type": "stream",
     "text": [
      "Predicted insurance charges: $6348.50\n"
     ]
    }
   ],
   "source": [
    "charge = predict_charges(age=35, bmi=18, smoker='no')\n",
    "print(f\"Predicted insurance charges: ${charge:.2f}\")"
   ]
  },
  {
   "cell_type": "code",
   "execution_count": 60,
   "id": "d0498fae",
   "metadata": {},
   "outputs": [
    {
     "data": {
      "text/plain": [
       "age                   19\n",
       "sex                    F\n",
       "bmi                 27.9\n",
       "children               0\n",
       "smoker               yes\n",
       "region         Southwest\n",
       "charges     16884.923828\n",
       "Name: 0, dtype: object"
      ]
     },
     "execution_count": 60,
     "metadata": {},
     "output_type": "execute_result"
    }
   ],
   "source": [
    "insurance.iloc[0]"
   ]
  },
  {
   "cell_type": "code",
   "execution_count": 61,
   "id": "9cd9eebf",
   "metadata": {},
   "outputs": [
    {
     "name": "stdout",
     "output_type": "stream",
     "text": [
      "Predicted insurance charges: $23451.50\n"
     ]
    }
   ],
   "source": [
    "charge = predict_charges(age=19, bmi=28, smoker='yes')\n",
    "print(f\"Predicted insurance charges: ${charge:.2f}\")"
   ]
  },
  {
   "cell_type": "code",
   "execution_count": 63,
   "id": "fc69fb2c",
   "metadata": {},
   "outputs": [
    {
     "data": {
      "text/plain": [
       "13292.707"
      ]
     },
     "execution_count": 63,
     "metadata": {},
     "output_type": "execute_result"
    }
   ],
   "source": [
    "insurance['charges'].mean()"
   ]
  },
  {
   "cell_type": "code",
   "execution_count": null,
   "id": "b822703e",
   "metadata": {},
   "outputs": [],
   "source": []
  }
 ],
 "metadata": {
  "kernelspec": {
   "display_name": "base",
   "language": "python",
   "name": "python3"
  },
  "language_info": {
   "codemirror_mode": {
    "name": "ipython",
    "version": 3
   },
   "file_extension": ".py",
   "mimetype": "text/x-python",
   "name": "python",
   "nbconvert_exporter": "python",
   "pygments_lexer": "ipython3",
   "version": "3.12.7"
  }
 },
 "nbformat": 4,
 "nbformat_minor": 5
}
