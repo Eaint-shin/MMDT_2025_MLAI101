{
 "cells": [
  {
   "cell_type": "code",
   "execution_count": 11,
   "metadata": {},
   "outputs": [
    {
     "name": "stdout",
     "output_type": "stream",
     "text": [
      "    price  bedrooms  sqft_living\n",
      "0  221900       3.0         1180\n",
      "1  538000       3.0         2570\n",
      "2  180000       2.0          770\n",
      "3  604000       4.0         1960\n",
      "4  510000       3.0         1680\n",
      "<class 'pandas.core.frame.DataFrame'>\n",
      "Index: 21600 entries, 0 to 21612\n",
      "Data columns (total 3 columns):\n",
      " #   Column       Non-Null Count  Dtype  \n",
      "---  ------       --------------  -----  \n",
      " 0   price        21600 non-null  int64  \n",
      " 1   bedrooms     21600 non-null  float64\n",
      " 2   sqft_living  21600 non-null  int64  \n",
      "dtypes: float64(1), int64(2)\n",
      "memory usage: 675.0 KB\n",
      "None\n",
      "              price      bedrooms   sqft_living\n",
      "count  2.160000e+04  21600.000000  21600.000000\n",
      "mean   5.401667e+05      3.372870   2080.123657\n",
      "std    3.671263e+05      0.926657    918.196482\n",
      "min    7.500000e+04      1.000000    370.000000\n",
      "25%    3.220000e+05      3.000000   1429.250000\n",
      "50%    4.500000e+05      3.000000   1910.000000\n",
      "75%    6.450000e+05      4.000000   2550.000000\n",
      "max    7.700000e+06     33.000000  13540.000000\n"
     ]
    }
   ],
   "source": [
    "import pandas as pd\n",
    "\n",
    "df=pd.read_csv('C:/Users/Htet/Documents/Tyler_Data/Other Skills/Datascience/MMDT_GitHub/MMDT_2025_MLAI101/Htet-Aung-Phyo/MultipleLiner_Model/house_data_fs.csv', index_col = 0)\n",
    "df = df.dropna()\n",
    "\n",
    "#inspecting df\n",
    "print(df.head())\n",
    "print(df.info())\n",
    "print(df.describe())\n",
    "\n",
    "#creating dataframe\n",
    "model_df = pd.DataFrame(columns=['model_name','bedrooms_coef','sqft_living_coef','intercept','predicted_value','actual_value','r_squared','mse','mae'])\n"
   ]
  },
  {
   "cell_type": "code",
   "execution_count": 12,
   "metadata": {},
   "outputs": [],
   "source": [
    "#setting X and Y\n",
    "X = df[['bedrooms', 'sqft_living']].values\n",
    "Y = df['price'].values"
   ]
  },
  {
   "cell_type": "code",
   "execution_count": 13,
   "metadata": {},
   "outputs": [],
   "source": [
    "#scaling\n",
    "from sklearn.preprocessing import StandardScaler\n",
    "\n",
    "scaler = StandardScaler()\n",
    "X_scaled = scaler.fit_transform(X)\n"
   ]
  },
  {
   "cell_type": "code",
   "execution_count": 14,
   "metadata": {},
   "outputs": [
    {
     "name": "stdout",
     "output_type": "stream",
     "text": [
      "[-53567.44561984 288667.55112691] 540166.7341666666\n"
     ]
    }
   ],
   "source": [
    "from sklearn.linear_model import LinearRegression\n",
    "\n",
    "lr = LinearRegression()\n",
    "lr.fit(X_scaled, Y)\n",
    "print(lr.coef_, lr.intercept_)\n"
   ]
  },
  {
   "cell_type": "code",
   "execution_count": 15,
   "metadata": {},
   "outputs": [
    {
     "name": "stdout",
     "output_type": "stream",
     "text": [
      "[235932.46722026]\n"
     ]
    }
   ],
   "source": [
    "#predicting for 2 bedrooms and 860 square feet\n",
    "X_test = [[2, 860]]\n",
    "X_test_scaled = scaler.transform(X_test)\n",
    "yp=lr.predict(X_test_scaled)\n",
    "print(yp)"
   ]
  },
  {
   "cell_type": "code",
   "execution_count": 16,
   "metadata": {},
   "outputs": [
    {
     "name": "stdout",
     "output_type": "stream",
     "text": [
      "Average price: 303760.2105263158\n"
     ]
    }
   ],
   "source": [
    "df1=df[(df['bedrooms'] == 2) & (df['sqft_living'] == 860)]\n",
    "df1_avg = df1['price'].mean()\n",
    "print(\"Average price:\", df1_avg)  "
   ]
  },
  {
   "cell_type": "code",
   "execution_count": 17,
   "metadata": {},
   "outputs": [
    {
     "name": "stdout",
     "output_type": "stream",
     "text": [
      "r2-score: 0.5068463227480232 \n",
      "mean squared error: 66465040515.6965 \n",
      "mean absolute error: 170271.09681228665\n",
      "  model_name  bedrooms_coef  sqft_living_coef      intercept  \\\n",
      "0     scaled   -53567.44562     288667.551127  540166.734167   \n",
      "\n",
      "        predicted_value   actual_value  r_squared           mse            mae  \n",
      "0  [235932.46722026134]  303760.210526   0.506846  6.646504e+10  170271.096812  \n"
     ]
    }
   ],
   "source": [
    "from sklearn.metrics import r2_score\n",
    "from sklearn.metrics import mean_absolute_error\n",
    "from sklearn.metrics import mean_squared_error\n",
    "\n",
    "Y_pred = lr.predict(X_scaled)\n",
    "rscore = r2_score(Y, Y_pred)\n",
    "mse = mean_squared_error(Y, Y_pred)\n",
    "mae = mean_absolute_error(Y, Y_pred)\n",
    "\n",
    "model_df.loc[0]=['scaled',lr.coef_[0],lr.coef_[1],lr.intercept_,yp,df1_avg,rscore,mse,mae]\n",
    "\n",
    "print('r2-score:', rscore, '\\nmean squared error:', mse, '\\nmean absolute error:', mae)\n",
    "print(model_df)"
   ]
  },
  {
   "cell_type": "code",
   "execution_count": 9,
   "metadata": {},
   "outputs": [
    {
     "name": "stdout",
     "output_type": "stream",
     "text": [
      "[-57808.55635571    314.39265913] 81171.89307895582\n"
     ]
    }
   ],
   "source": [
    "#for unscaling data\n",
    "\n",
    "lr_unscaled = LinearRegression()\n",
    "lr_unscaled.fit(X,Y)\n",
    "print(lr_unscaled.coef_,lr_unscaled.intercept_)"
   ]
  },
  {
   "cell_type": "code",
   "execution_count": 10,
   "metadata": {},
   "outputs": [
    {
     "name": "stdout",
     "output_type": "stream",
     "text": [
      "[235932.46722026]\n"
     ]
    }
   ],
   "source": [
    "yp_unscaled = lr_unscaled.predict(X_test)\n",
    "print(yp_unscaled)"
   ]
  },
  {
   "cell_type": "code",
   "execution_count": 19,
   "metadata": {},
   "outputs": [],
   "source": [
    "Y_pred_unscaled= lr_unscaled.predict(X)\n",
    "rscore_unscaled = r2_score(Y,Y_pred_unscaled)\n",
    "mse_unscaled = mean_squared_error(Y,Y_pred_unscaled)\n",
    "mae_unscaled = mean_absolute_error(Y,Y_pred_unscaled)\n",
    "\n",
    "model_df.loc[1]=['unscaled',lr_unscaled.coef_[0],lr_unscaled.coef_[1],lr_unscaled.intercept_,yp_unscaled,df1_avg,rscore_unscaled,mse_unscaled,mae_unscaled]"
   ]
  },
  {
   "cell_type": "code",
   "execution_count": 20,
   "metadata": {},
   "outputs": [
    {
     "data": {
      "text/html": [
       "<div>\n",
       "<style scoped>\n",
       "    .dataframe tbody tr th:only-of-type {\n",
       "        vertical-align: middle;\n",
       "    }\n",
       "\n",
       "    .dataframe tbody tr th {\n",
       "        vertical-align: top;\n",
       "    }\n",
       "\n",
       "    .dataframe thead th {\n",
       "        text-align: right;\n",
       "    }\n",
       "</style>\n",
       "<table border=\"1\" class=\"dataframe\">\n",
       "  <thead>\n",
       "    <tr style=\"text-align: right;\">\n",
       "      <th></th>\n",
       "      <th>model_name</th>\n",
       "      <th>bedrooms_coef</th>\n",
       "      <th>sqft_living_coef</th>\n",
       "      <th>intercept</th>\n",
       "      <th>predicted_value</th>\n",
       "      <th>actual_value</th>\n",
       "      <th>r_squared</th>\n",
       "      <th>mse</th>\n",
       "      <th>mae</th>\n",
       "    </tr>\n",
       "  </thead>\n",
       "  <tbody>\n",
       "    <tr>\n",
       "      <th>0</th>\n",
       "      <td>scaled</td>\n",
       "      <td>-53567.445620</td>\n",
       "      <td>288667.551127</td>\n",
       "      <td>540166.734167</td>\n",
       "      <td>[235932.46722026134]</td>\n",
       "      <td>303760.210526</td>\n",
       "      <td>0.506846</td>\n",
       "      <td>6.646504e+10</td>\n",
       "      <td>170271.096812</td>\n",
       "    </tr>\n",
       "    <tr>\n",
       "      <th>1</th>\n",
       "      <td>unscaled</td>\n",
       "      <td>-57808.556356</td>\n",
       "      <td>314.392659</td>\n",
       "      <td>81171.893079</td>\n",
       "      <td>[235932.46722026134]</td>\n",
       "      <td>303760.210526</td>\n",
       "      <td>0.506846</td>\n",
       "      <td>6.646504e+10</td>\n",
       "      <td>170271.096812</td>\n",
       "    </tr>\n",
       "  </tbody>\n",
       "</table>\n",
       "</div>"
      ],
      "text/plain": [
       "  model_name  bedrooms_coef  sqft_living_coef      intercept  \\\n",
       "0     scaled  -53567.445620     288667.551127  540166.734167   \n",
       "1   unscaled  -57808.556356        314.392659   81171.893079   \n",
       "\n",
       "        predicted_value   actual_value  r_squared           mse            mae  \n",
       "0  [235932.46722026134]  303760.210526   0.506846  6.646504e+10  170271.096812  \n",
       "1  [235932.46722026134]  303760.210526   0.506846  6.646504e+10  170271.096812  "
      ]
     },
     "execution_count": 20,
     "metadata": {},
     "output_type": "execute_result"
    }
   ],
   "source": [
    "model_df"
   ]
  },
  {
   "cell_type": "code",
   "execution_count": null,
   "metadata": {},
   "outputs": [],
   "source": []
  }
 ],
 "metadata": {
  "kernelspec": {
   "display_name": "base",
   "language": "python",
   "name": "python3"
  },
  "language_info": {
   "codemirror_mode": {
    "name": "ipython",
    "version": 3
   },
   "file_extension": ".py",
   "mimetype": "text/x-python",
   "name": "python",
   "nbconvert_exporter": "python",
   "pygments_lexer": "ipython3",
   "version": "3.12.7"
  },
  "orig_nbformat": 4
 },
 "nbformat": 4,
 "nbformat_minor": 2
}
